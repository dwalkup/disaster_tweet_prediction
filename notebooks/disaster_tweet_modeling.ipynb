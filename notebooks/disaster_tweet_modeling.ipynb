{
 "cells": [
  {
   "cell_type": "markdown",
   "metadata": {},
   "source": [
    "# Disaster Tweets\n",
    "\n",
    "This notebook is used for modeling of the cleaned and preprocessed dataset from the Kaggle competition \"Real or Not? NLP with Disaster Tweets\" located here: https://www.kaggle.com/c/nlp-getting-started/overview."
   ]
  },
  {
   "cell_type": "code",
   "execution_count": 1,
   "metadata": {},
   "outputs": [],
   "source": [
    "# imports\n",
    "\n",
    "# data\n",
    "import pandas as pd\n",
    "import numpy as np\n",
    "\n",
    "# modeling\n",
    "from sklearn.linear_model import LogisticRegression, LogisticRegressionCV\n",
    "from sklearn.metrics import f1_score, make_scorer\n",
    "from sklearn.naive_bayes import MultinomialNB\n",
    "from sklearn import preprocessing, decomposition, model_selection, metrics, pipeline\n",
    "from sklearn.model_selection import cross_val_score\n",
    "from sklearn.feature_extraction.text import CountVectorizer, TfidfVectorizer\n",
    "from sklearn.model_selection import GridSearchCV, StratifiedKFold, RandomizedSearchCV\n",
    "from sklearn import svm\n",
    "from sklearn.neighbors import KNeighborsClassifier\n",
    "\n",
    "from nltk.corpus import stopwords\n",
    "\n",
    "# helper functions\n",
    "import helpers\n",
    "\n",
    "# Suppress warnings \n",
    "import warnings\n",
    "warnings.filterwarnings('ignore')\n"
   ]
  },
  {
   "cell_type": "markdown",
   "metadata": {},
   "source": [
    "### Read the training and testing data from files.\n",
    "#### Read the training data from file."
   ]
  },
  {
   "cell_type": "code",
   "execution_count": 2,
   "metadata": {},
   "outputs": [],
   "source": [
    "train_df = pd.read_csv('/Users/davidwalkup/ds-course/projects/Mod4/disaster_tweet_prediction/data/cleaned_train.csv')"
   ]
  },
  {
   "cell_type": "code",
   "execution_count": 3,
   "metadata": {},
   "outputs": [
    {
     "data": {
      "text/html": [
       "<div>\n",
       "<style scoped>\n",
       "    .dataframe tbody tr th:only-of-type {\n",
       "        vertical-align: middle;\n",
       "    }\n",
       "\n",
       "    .dataframe tbody tr th {\n",
       "        vertical-align: top;\n",
       "    }\n",
       "\n",
       "    .dataframe thead th {\n",
       "        text-align: right;\n",
       "    }\n",
       "</style>\n",
       "<table border=\"1\" class=\"dataframe\">\n",
       "  <thead>\n",
       "    <tr style=\"text-align: right;\">\n",
       "      <th></th>\n",
       "      <th>id</th>\n",
       "      <th>keyword</th>\n",
       "      <th>text</th>\n",
       "      <th>target</th>\n",
       "    </tr>\n",
       "  </thead>\n",
       "  <tbody>\n",
       "    <tr>\n",
       "      <th>0</th>\n",
       "      <td>1</td>\n",
       "      <td>nokeyword</td>\n",
       "      <td>our deeds are the reason of this earthquake ma...</td>\n",
       "      <td>1</td>\n",
       "    </tr>\n",
       "    <tr>\n",
       "      <th>1</th>\n",
       "      <td>4</td>\n",
       "      <td>nokeyword</td>\n",
       "      <td>forest fire near la ronge sask canada</td>\n",
       "      <td>1</td>\n",
       "    </tr>\n",
       "    <tr>\n",
       "      <th>2</th>\n",
       "      <td>5</td>\n",
       "      <td>nokeyword</td>\n",
       "      <td>all residents asked to shelter in place are be...</td>\n",
       "      <td>1</td>\n",
       "    </tr>\n",
       "    <tr>\n",
       "      <th>3</th>\n",
       "      <td>6</td>\n",
       "      <td>nokeyword</td>\n",
       "      <td>people receive wildfires evacuation orders in ...</td>\n",
       "      <td>1</td>\n",
       "    </tr>\n",
       "    <tr>\n",
       "      <th>4</th>\n",
       "      <td>7</td>\n",
       "      <td>nokeyword</td>\n",
       "      <td>just got sent this photo from ruby alaska as s...</td>\n",
       "      <td>1</td>\n",
       "    </tr>\n",
       "  </tbody>\n",
       "</table>\n",
       "</div>"
      ],
      "text/plain": [
       "   id    keyword                                               text  target\n",
       "0   1  nokeyword  our deeds are the reason of this earthquake ma...       1\n",
       "1   4  nokeyword              forest fire near la ronge sask canada       1\n",
       "2   5  nokeyword  all residents asked to shelter in place are be...       1\n",
       "3   6  nokeyword  people receive wildfires evacuation orders in ...       1\n",
       "4   7  nokeyword  just got sent this photo from ruby alaska as s...       1"
      ]
     },
     "execution_count": 3,
     "metadata": {},
     "output_type": "execute_result"
    }
   ],
   "source": [
    "train_df.head()"
   ]
  },
  {
   "cell_type": "markdown",
   "metadata": {},
   "source": [
    "#### Create a DataFrame for stemmed text."
   ]
  },
  {
   "cell_type": "code",
   "execution_count": 4,
   "metadata": {},
   "outputs": [],
   "source": [
    "stemmed_train_df = pd.read_csv('/Users/davidwalkup/ds-course/projects/Mod4/disaster_tweet_prediction/data/stemmed_train.csv')"
   ]
  },
  {
   "cell_type": "code",
   "execution_count": 5,
   "metadata": {},
   "outputs": [
    {
     "data": {
      "text/html": [
       "<div>\n",
       "<style scoped>\n",
       "    .dataframe tbody tr th:only-of-type {\n",
       "        vertical-align: middle;\n",
       "    }\n",
       "\n",
       "    .dataframe tbody tr th {\n",
       "        vertical-align: top;\n",
       "    }\n",
       "\n",
       "    .dataframe thead th {\n",
       "        text-align: right;\n",
       "    }\n",
       "</style>\n",
       "<table border=\"1\" class=\"dataframe\">\n",
       "  <thead>\n",
       "    <tr style=\"text-align: right;\">\n",
       "      <th></th>\n",
       "      <th>id</th>\n",
       "      <th>keyword</th>\n",
       "      <th>text</th>\n",
       "      <th>target</th>\n",
       "    </tr>\n",
       "  </thead>\n",
       "  <tbody>\n",
       "    <tr>\n",
       "      <th>0</th>\n",
       "      <td>1</td>\n",
       "      <td>nokeyword</td>\n",
       "      <td>our deed are the reason of thi earthquak may a...</td>\n",
       "      <td>1</td>\n",
       "    </tr>\n",
       "    <tr>\n",
       "      <th>1</th>\n",
       "      <td>4</td>\n",
       "      <td>nokeyword</td>\n",
       "      <td>forest fire near la rong sask canada</td>\n",
       "      <td>1</td>\n",
       "    </tr>\n",
       "    <tr>\n",
       "      <th>2</th>\n",
       "      <td>5</td>\n",
       "      <td>nokeyword</td>\n",
       "      <td>all resid ask to shelter in place are be notif...</td>\n",
       "      <td>1</td>\n",
       "    </tr>\n",
       "    <tr>\n",
       "      <th>3</th>\n",
       "      <td>6</td>\n",
       "      <td>nokeyword</td>\n",
       "      <td>peopl receiv wildfir evacu order in california</td>\n",
       "      <td>1</td>\n",
       "    </tr>\n",
       "    <tr>\n",
       "      <th>4</th>\n",
       "      <td>7</td>\n",
       "      <td>nokeyword</td>\n",
       "      <td>just got sent thi photo from rubi alaska as sm...</td>\n",
       "      <td>1</td>\n",
       "    </tr>\n",
       "  </tbody>\n",
       "</table>\n",
       "</div>"
      ],
      "text/plain": [
       "   id    keyword                                               text  target\n",
       "0   1  nokeyword  our deed are the reason of thi earthquak may a...       1\n",
       "1   4  nokeyword               forest fire near la rong sask canada       1\n",
       "2   5  nokeyword  all resid ask to shelter in place are be notif...       1\n",
       "3   6  nokeyword     peopl receiv wildfir evacu order in california       1\n",
       "4   7  nokeyword  just got sent thi photo from rubi alaska as sm...       1"
      ]
     },
     "execution_count": 5,
     "metadata": {},
     "output_type": "execute_result"
    }
   ],
   "source": [
    "stemmed_train_df.head()"
   ]
  },
  {
   "cell_type": "markdown",
   "metadata": {},
   "source": [
    "#### Create a DataFrame for lemmatized text."
   ]
  },
  {
   "cell_type": "code",
   "execution_count": 6,
   "metadata": {},
   "outputs": [],
   "source": [
    "lemmatized_train_df = pd.read_csv('/Users/davidwalkup/ds-course/projects/Mod4/disaster_tweet_prediction/data/lemmatized_train.csv')"
   ]
  },
  {
   "cell_type": "code",
   "execution_count": 7,
   "metadata": {},
   "outputs": [
    {
     "data": {
      "text/html": [
       "<div>\n",
       "<style scoped>\n",
       "    .dataframe tbody tr th:only-of-type {\n",
       "        vertical-align: middle;\n",
       "    }\n",
       "\n",
       "    .dataframe tbody tr th {\n",
       "        vertical-align: top;\n",
       "    }\n",
       "\n",
       "    .dataframe thead th {\n",
       "        text-align: right;\n",
       "    }\n",
       "</style>\n",
       "<table border=\"1\" class=\"dataframe\">\n",
       "  <thead>\n",
       "    <tr style=\"text-align: right;\">\n",
       "      <th></th>\n",
       "      <th>id</th>\n",
       "      <th>keyword</th>\n",
       "      <th>text</th>\n",
       "      <th>target</th>\n",
       "    </tr>\n",
       "  </thead>\n",
       "  <tbody>\n",
       "    <tr>\n",
       "      <th>0</th>\n",
       "      <td>1</td>\n",
       "      <td>nokeyword</td>\n",
       "      <td>our deed are the reason of this earthquake may...</td>\n",
       "      <td>1</td>\n",
       "    </tr>\n",
       "    <tr>\n",
       "      <th>1</th>\n",
       "      <td>4</td>\n",
       "      <td>nokeyword</td>\n",
       "      <td>forest fire near la ronge sask canada</td>\n",
       "      <td>1</td>\n",
       "    </tr>\n",
       "    <tr>\n",
       "      <th>2</th>\n",
       "      <td>5</td>\n",
       "      <td>nokeyword</td>\n",
       "      <td>all resident asked to shelter in place are bei...</td>\n",
       "      <td>1</td>\n",
       "    </tr>\n",
       "    <tr>\n",
       "      <th>3</th>\n",
       "      <td>6</td>\n",
       "      <td>nokeyword</td>\n",
       "      <td>people receive wildfire evacuation order in ca...</td>\n",
       "      <td>1</td>\n",
       "    </tr>\n",
       "    <tr>\n",
       "      <th>4</th>\n",
       "      <td>7</td>\n",
       "      <td>nokeyword</td>\n",
       "      <td>just got sent this photo from ruby alaska a sm...</td>\n",
       "      <td>1</td>\n",
       "    </tr>\n",
       "  </tbody>\n",
       "</table>\n",
       "</div>"
      ],
      "text/plain": [
       "   id    keyword                                               text  target\n",
       "0   1  nokeyword  our deed are the reason of this earthquake may...       1\n",
       "1   4  nokeyword              forest fire near la ronge sask canada       1\n",
       "2   5  nokeyword  all resident asked to shelter in place are bei...       1\n",
       "3   6  nokeyword  people receive wildfire evacuation order in ca...       1\n",
       "4   7  nokeyword  just got sent this photo from ruby alaska a sm...       1"
      ]
     },
     "execution_count": 7,
     "metadata": {},
     "output_type": "execute_result"
    }
   ],
   "source": [
    "lemmatized_train_df.head()"
   ]
  },
  {
   "cell_type": "markdown",
   "metadata": {},
   "source": [
    "#### Read the testing data from file."
   ]
  },
  {
   "cell_type": "code",
   "execution_count": 8,
   "metadata": {},
   "outputs": [],
   "source": [
    "test_df = pd.read_csv('/Users/davidwalkup/ds-course/projects/Mod4/disaster_tweet_prediction/data/cleaned_test.csv')"
   ]
  },
  {
   "cell_type": "code",
   "execution_count": 9,
   "metadata": {},
   "outputs": [
    {
     "data": {
      "text/html": [
       "<div>\n",
       "<style scoped>\n",
       "    .dataframe tbody tr th:only-of-type {\n",
       "        vertical-align: middle;\n",
       "    }\n",
       "\n",
       "    .dataframe tbody tr th {\n",
       "        vertical-align: top;\n",
       "    }\n",
       "\n",
       "    .dataframe thead th {\n",
       "        text-align: right;\n",
       "    }\n",
       "</style>\n",
       "<table border=\"1\" class=\"dataframe\">\n",
       "  <thead>\n",
       "    <tr style=\"text-align: right;\">\n",
       "      <th></th>\n",
       "      <th>id</th>\n",
       "      <th>keyword</th>\n",
       "      <th>location</th>\n",
       "      <th>text</th>\n",
       "    </tr>\n",
       "  </thead>\n",
       "  <tbody>\n",
       "    <tr>\n",
       "      <th>0</th>\n",
       "      <td>0</td>\n",
       "      <td>nokeyword</td>\n",
       "      <td>nolocation</td>\n",
       "      <td>just happened a terrible car crash</td>\n",
       "    </tr>\n",
       "    <tr>\n",
       "      <th>1</th>\n",
       "      <td>2</td>\n",
       "      <td>nokeyword</td>\n",
       "      <td>nolocation</td>\n",
       "      <td>heard about earthquake is different city stay ...</td>\n",
       "    </tr>\n",
       "    <tr>\n",
       "      <th>2</th>\n",
       "      <td>3</td>\n",
       "      <td>nokeyword</td>\n",
       "      <td>nolocation</td>\n",
       "      <td>there is a forest fire at spot pond goose are ...</td>\n",
       "    </tr>\n",
       "    <tr>\n",
       "      <th>3</th>\n",
       "      <td>9</td>\n",
       "      <td>nokeyword</td>\n",
       "      <td>nolocation</td>\n",
       "      <td>apocalypse lighting spokane wildfire</td>\n",
       "    </tr>\n",
       "    <tr>\n",
       "      <th>4</th>\n",
       "      <td>11</td>\n",
       "      <td>nokeyword</td>\n",
       "      <td>nolocation</td>\n",
       "      <td>typhoon soudelor kill in china and taiwan</td>\n",
       "    </tr>\n",
       "  </tbody>\n",
       "</table>\n",
       "</div>"
      ],
      "text/plain": [
       "   id    keyword    location  \\\n",
       "0   0  nokeyword  nolocation   \n",
       "1   2  nokeyword  nolocation   \n",
       "2   3  nokeyword  nolocation   \n",
       "3   9  nokeyword  nolocation   \n",
       "4  11  nokeyword  nolocation   \n",
       "\n",
       "                                                text  \n",
       "0                 just happened a terrible car crash  \n",
       "1  heard about earthquake is different city stay ...  \n",
       "2  there is a forest fire at spot pond goose are ...  \n",
       "3               apocalypse lighting spokane wildfire  \n",
       "4          typhoon soudelor kill in china and taiwan  "
      ]
     },
     "execution_count": 9,
     "metadata": {},
     "output_type": "execute_result"
    }
   ],
   "source": [
    "test_df.head()"
   ]
  },
  {
   "cell_type": "markdown",
   "metadata": {},
   "source": [
    "### How good does my model have to be to outperform the naive approach (i.e., no tweet is about a disaster)?"
   ]
  },
  {
   "cell_type": "code",
   "execution_count": 10,
   "metadata": {},
   "outputs": [
    {
     "name": "stdout",
     "output_type": "stream",
     "text": [
      "Class probabilities:  {0: 0.5737136763529725, 1: 0.42628632364702745} \n",
      "Chance tweet is not about a real disaster:  0.5737\n"
     ]
    }
   ],
   "source": [
    "p_classes = dict(train_df['target'].value_counts(normalize=True))\n",
    "naive_approach = p_classes[0]\n",
    "print('Class probabilities: ', p_classes,\n",
    "      '\\nChance tweet is not about a real disaster: ', np.round(naive_approach, decimals = 4))"
   ]
  },
  {
   "cell_type": "markdown",
   "metadata": {},
   "source": [
    "#### Set up a DataFrame to hold scoring information, for final model selection."
   ]
  },
  {
   "cell_type": "code",
   "execution_count": 11,
   "metadata": {},
   "outputs": [],
   "source": [
    "scoring_df = pd.DataFrame(columns = ['Model', 'Vectorizer', 'Text_Treatment', 'Mean_F1_Score', 'F1_Std_Dev'])"
   ]
  },
  {
   "cell_type": "markdown",
   "metadata": {},
   "source": [
    "### Bagging using sklearn CountVectorizer"
   ]
  },
  {
   "cell_type": "markdown",
   "metadata": {},
   "source": [
    "First set of experiments will include stop words."
   ]
  },
  {
   "cell_type": "code",
   "execution_count": 12,
   "metadata": {},
   "outputs": [],
   "source": [
    "count_vectorizer = CountVectorizer(strip_accents = 'unicode',\n",
    "                                   ngram_range = (1, 2),\n",
    "                                   binary = True)"
   ]
  },
  {
   "cell_type": "markdown",
   "metadata": {},
   "source": [
    "#### Logistic Regression on CountVectorizer treated training data"
   ]
  },
  {
   "cell_type": "code",
   "execution_count": 13,
   "metadata": {},
   "outputs": [],
   "source": [
    "lr_train_vectors = count_vectorizer.fit_transform(train_df['text'])"
   ]
  },
  {
   "cell_type": "code",
   "execution_count": 14,
   "metadata": {},
   "outputs": [
    {
     "name": "stdout",
     "output_type": "stream",
     "text": [
      "Mean score:  0.6382107580107526 +/- 0.05755892959272567\n"
     ]
    }
   ],
   "source": [
    "# LogReg, raw\n",
    "clf_lr = LogisticRegressionCV(class_weight = 'balanced',\n",
    "                              random_state = 42)\n",
    "\n",
    "scores = cross_val_score(clf_lr,\n",
    "                         lr_train_vectors, train_df[\"target\"],\n",
    "                         cv=5,\n",
    "                         scoring=\"f1\")\n",
    "\n",
    "clf_score = helpers.model_scoring(scores)\n",
    "\n",
    "scoring_df = helpers.score_recording(scoring_df, 'LogisticRegression', 'CountVectorizer',\n",
    "                                     'None', clf_score[0], clf_score[1])"
   ]
  },
  {
   "cell_type": "code",
   "execution_count": 15,
   "metadata": {},
   "outputs": [],
   "source": [
    "lr_train_vector_stem = count_vectorizer.fit_transform(stemmed_train_df['text'])"
   ]
  },
  {
   "cell_type": "code",
   "execution_count": 16,
   "metadata": {},
   "outputs": [
    {
     "name": "stdout",
     "output_type": "stream",
     "text": [
      "Mean score:  0.647272547233625 +/- 0.05912689198763571\n"
     ]
    }
   ],
   "source": [
    "# LogReg, stemmed\n",
    "scores = model_selection.cross_val_score(clf_lr,\n",
    "                                         lr_train_vector_stem, train_df[\"target\"],\n",
    "                                         cv=5,\n",
    "                                         scoring=\"f1\")\n",
    "\n",
    "clf_score = helpers.model_scoring(scores)\n",
    "\n",
    "scoring_df = helpers.score_recording(scoring_df, 'LogisticRegression', 'CountVectorizer',\n",
    "                                     'Stemmed', clf_score[0], clf_score[1])"
   ]
  },
  {
   "cell_type": "code",
   "execution_count": 17,
   "metadata": {},
   "outputs": [],
   "source": [
    "lr_train_vector_lemma = count_vectorizer.fit_transform(lemmatized_train_df['text'])"
   ]
  },
  {
   "cell_type": "code",
   "execution_count": 18,
   "metadata": {},
   "outputs": [
    {
     "name": "stdout",
     "output_type": "stream",
     "text": [
      "Mean score:  0.6554592142449882 +/- 0.048466482009136516\n"
     ]
    }
   ],
   "source": [
    "# LogReg, lemmatized\n",
    "scores = model_selection.cross_val_score(clf_lr,\n",
    "                                         lr_train_vector_lemma, train_df[\"target\"],\n",
    "                                         cv=5,\n",
    "                                         scoring=\"f1\")\n",
    "\n",
    "clf_score = helpers.model_scoring(scores)\n",
    "\n",
    "scoring_df = helpers.score_recording(scoring_df, 'LogisticRegression', 'CountVectorizer',\n",
    "                                     'Lemmatized', clf_score[0], clf_score[1])"
   ]
  },
  {
   "cell_type": "markdown",
   "metadata": {},
   "source": [
    "Second set of experiments will remove stop words, to see if that improves performance."
   ]
  },
  {
   "cell_type": "code",
   "execution_count": 19,
   "metadata": {},
   "outputs": [],
   "source": [
    "english_stops = stopwords.words('english')\n",
    "count_vectorizer_no_stops = CountVectorizer(strip_accents = 'unicode',\n",
    "                                            stop_words = english_stops,\n",
    "                                            ngram_range = (1, 2),\n",
    "                                            binary = True)"
   ]
  },
  {
   "cell_type": "code",
   "execution_count": 20,
   "metadata": {},
   "outputs": [],
   "source": [
    "lr_train_vector_no_stops = count_vectorizer_no_stops.fit_transform(train_df['text'])"
   ]
  },
  {
   "cell_type": "code",
   "execution_count": 21,
   "metadata": {},
   "outputs": [
    {
     "name": "stdout",
     "output_type": "stream",
     "text": [
      "Mean score:  0.5998213558149595 +/- 0.07525380294906855\n"
     ]
    }
   ],
   "source": [
    "# LogReg, no stopwords\n",
    "scores = model_selection.cross_val_score(clf_lr,\n",
    "                                         lr_train_vector_no_stops, train_df[\"target\"],\n",
    "                                         cv=5,\n",
    "                                         scoring=\"f1\")\n",
    "\n",
    "clf_score = helpers.model_scoring(scores)\n",
    "\n",
    "scoring_df = helpers.score_recording(scoring_df, 'LogisticRegression', 'CountVectorizer',\n",
    "                             'Removed stopwords', clf_score[0], clf_score[1])"
   ]
  },
  {
   "cell_type": "code",
   "execution_count": 22,
   "metadata": {},
   "outputs": [],
   "source": [
    "lr_train_vector_stem_no_stops = count_vectorizer_no_stops.fit_transform(stemmed_train_df['text'])"
   ]
  },
  {
   "cell_type": "code",
   "execution_count": null,
   "metadata": {},
   "outputs": [],
   "source": [
    "# LogReg, stemmed, no stopwords\n",
    "scores = model_selection.cross_val_score(clf_lr,\n",
    "                                         lr_train_vector_stem_no_stops, train_df[\"target\"],\n",
    "                                         cv=5,\n",
    "                                         scoring=\"f1\")\n",
    "\n",
    "clf_score = helpers.model_scoring(scores)\n",
    "\n",
    "scoring_df = helpers.score_recording(scoring_df, 'LogisticRegression', 'CountVectorizer',\n",
    "                                     'Removed stopwords, stemmed', clf_score[0], clf_score[1])"
   ]
  },
  {
   "cell_type": "code",
   "execution_count": null,
   "metadata": {},
   "outputs": [],
   "source": [
    "lr_train_vector_lemma_no_stops = count_vectorizer_no_stops.fit_transform(lemmatized_train_df['text'])"
   ]
  },
  {
   "cell_type": "code",
   "execution_count": null,
   "metadata": {},
   "outputs": [],
   "source": [
    "# LogReg, lemmatized, no stopwords\n",
    "scores = model_selection.cross_val_score(clf_lr,\n",
    "                                         lr_train_vector_lemma_no_stops, train_df[\"target\"],\n",
    "                                         cv=5,\n",
    "                                         scoring=\"f1\")\n",
    "\n",
    "clf_score = helpers.model_scoring(scores)\n",
    "\n",
    "scoring_df = helpers.score_recording(scoring_df, 'LogisticRegression', 'CountVectorizer',\n",
    "                                     'Removed stopwords, lemmatized',\n",
    "                                     clf_score[0], clf_score[1])"
   ]
  },
  {
   "cell_type": "markdown",
   "metadata": {},
   "source": [
    "#### Multinomial Bayes on CountVectorizer treated training data\n",
    "\n",
    "First set of experiments includes stopwords."
   ]
  },
  {
   "cell_type": "code",
   "execution_count": null,
   "metadata": {},
   "outputs": [],
   "source": [
    "mnb_train_vectors = count_vectorizer.fit_transform(train_df['text'])"
   ]
  },
  {
   "cell_type": "code",
   "execution_count": null,
   "metadata": {},
   "outputs": [],
   "source": [
    "# Multinomial Naive Bayes\n",
    "clf_mnb = MultinomialNB()\n",
    "scores = model_selection.cross_val_score(clf_mnb,\n",
    "                                         mnb_train_vectors, train_df[\"target\"],\n",
    "                                         cv=5,\n",
    "                                         scoring=\"f1\")\n",
    "\n",
    "clf_score = helpers.model_scoring(scores)\n",
    "\n",
    "scoring_df = helpers.score_recording(scoring_df, 'MultinomialNB', 'CountVectorizer',\n",
    "                                     'None',\n",
    "                                     clf_score[0], clf_score[1])"
   ]
  },
  {
   "cell_type": "code",
   "execution_count": null,
   "metadata": {},
   "outputs": [],
   "source": [
    "mnb_train_vector_stem = count_vectorizer.fit_transform(stemmed_train_df['text'])"
   ]
  },
  {
   "cell_type": "code",
   "execution_count": null,
   "metadata": {},
   "outputs": [],
   "source": [
    "# Multinomial Naive Bayes, stemmed\n",
    "scores = model_selection.cross_val_score(clf_mnb,\n",
    "                                         mnb_train_vector_stem, train_df[\"target\"],\n",
    "                                         cv=5,\n",
    "                                         scoring=\"f1\")\n",
    "\n",
    "clf_score = helpers.model_scoring(scores)\n",
    "\n",
    "scoring_df = helpers.score_recording(scoring_df, 'MultinomialNB', 'CountVectorizer',\n",
    "                                     'Stemmed',\n",
    "                                     clf_score[0], clf_score[1])"
   ]
  },
  {
   "cell_type": "code",
   "execution_count": null,
   "metadata": {},
   "outputs": [],
   "source": [
    "mnb_train_vector_lemma = count_vectorizer.fit_transform(lemmatized_train_df['text'])"
   ]
  },
  {
   "cell_type": "code",
   "execution_count": null,
   "metadata": {},
   "outputs": [],
   "source": [
    "# Multinomial Naive Bayes, lemmatized\n",
    "scores = model_selection.cross_val_score(clf_mnb,\n",
    "                                         mnb_train_vector_lemma, train_df[\"target\"],\n",
    "                                         cv=5,\n",
    "                                         scoring=\"f1\")\n",
    "\n",
    "clf_score = helpers.model_scoring(scores)\n",
    "\n",
    "scoring_df = helpers.score_recording(scoring_df, 'MultinomialNB', 'CountVectorizer',\n",
    "                                     'Lemmatized',\n",
    "                                     clf_score[0], clf_score[1])"
   ]
  },
  {
   "cell_type": "markdown",
   "metadata": {},
   "source": [
    "The second set of experiments excludes stopwords."
   ]
  },
  {
   "cell_type": "code",
   "execution_count": null,
   "metadata": {},
   "outputs": [],
   "source": [
    "mnb_train_vector_no_stops = count_vectorizer_no_stops.fit_transform(train_df['text'])"
   ]
  },
  {
   "cell_type": "code",
   "execution_count": null,
   "metadata": {},
   "outputs": [],
   "source": [
    "# Multinomial Naive Bayes, no stopwords\n",
    "scores = model_selection.cross_val_score(clf_mnb,\n",
    "                                         mnb_train_vector_no_stops, train_df[\"target\"],\n",
    "                                         cv=5,\n",
    "                                         scoring=\"f1\")\n",
    "\n",
    "clf_score = helpers.model_scoring(scores)\n",
    "\n",
    "scoring_df = helpers.score_recording(scoring_df, 'MultinomialNB', 'CountVectorizer',\n",
    "                                     'Removed stopwords',\n",
    "                                     clf_score[0], clf_score[1])"
   ]
  },
  {
   "cell_type": "code",
   "execution_count": null,
   "metadata": {},
   "outputs": [],
   "source": [
    "mnb_train_vector_stem_no_stops = count_vectorizer_no_stops.fit_transform(stemmed_train_df['text'])"
   ]
  },
  {
   "cell_type": "code",
   "execution_count": null,
   "metadata": {},
   "outputs": [],
   "source": [
    "# Multinomial Naive Bayes, stemmed, no stopwords\n",
    "scores = model_selection.cross_val_score(clf_mnb,\n",
    "                                         mnb_train_vector_stem_no_stops, train_df[\"target\"],\n",
    "                                         cv=5,\n",
    "                                         scoring=\"f1\")\n",
    "\n",
    "clf_score = helpers.model_scoring(scores)\n",
    "\n",
    "scoring_df = helpers.score_recording(scoring_df, 'MultinomialNB', 'CountVectorizer',\n",
    "                                     'Removed stopwords, stemmed',\n",
    "                                     clf_score[0], clf_score[1])"
   ]
  },
  {
   "cell_type": "code",
   "execution_count": null,
   "metadata": {},
   "outputs": [],
   "source": [
    "mnb_train_vector_lemma_no_stops = count_vectorizer_no_stops.fit_transform(lemmatized_train_df['text'])"
   ]
  },
  {
   "cell_type": "code",
   "execution_count": null,
   "metadata": {},
   "outputs": [],
   "source": [
    "# Multinomial Naive Bayes, lemmatized, no stopwords\n",
    "scores = model_selection.cross_val_score(clf_mnb,\n",
    "                                         mnb_train_vector_lemma_no_stops, train_df[\"target\"],\n",
    "                                         cv=5,\n",
    "                                         scoring=\"f1\")\n",
    "\n",
    "clf_score = helpers.model_scoring(scores)\n",
    "\n",
    "scoring_df = helpers.score_recording(scoring_df, 'MultinomialNB', 'CountVectorizer',\n",
    "                                     'Removed stopwords, lemmatized',\n",
    "                                     clf_score[0], clf_score[1])"
   ]
  },
  {
   "cell_type": "markdown",
   "metadata": {},
   "source": [
    "### Bagging and term frequency weighting using TD-IDF vectorization"
   ]
  },
  {
   "cell_type": "markdown",
   "metadata": {},
   "source": [
    "For the first set of experiments, I did not remove stopwords from the tweets to get a baseline for comparison."
   ]
  },
  {
   "cell_type": "code",
   "execution_count": null,
   "metadata": {},
   "outputs": [],
   "source": [
    "tf_idf = TfidfVectorizer(ngram_range=(1, 1),\n",
    "                         max_df=0.5,\n",
    "                         min_df=2)"
   ]
  },
  {
   "cell_type": "markdown",
   "metadata": {},
   "source": [
    "For the second set of experiments using TF-IDF term weighting, I removed the stopwords."
   ]
  },
  {
   "cell_type": "code",
   "execution_count": null,
   "metadata": {},
   "outputs": [],
   "source": [
    "tf_idf_no_stops = TfidfVectorizer(stop_words = english_stops,\n",
    "                                  ngram_range=(1, 1),\n",
    "                                  max_df=0.5,\n",
    "                                  min_df=2)"
   ]
  },
  {
   "cell_type": "markdown",
   "metadata": {},
   "source": [
    "#### Logistic Regression on TF-IDF treated training data\n",
    "The first set of experiments includes stopwords."
   ]
  },
  {
   "cell_type": "code",
   "execution_count": null,
   "metadata": {},
   "outputs": [],
   "source": [
    "lr_train_tfidf = tf_idf.fit_transform(train_df['text'])"
   ]
  },
  {
   "cell_type": "code",
   "execution_count": null,
   "metadata": {},
   "outputs": [],
   "source": [
    "# Logistic Regression\n",
    "scores = model_selection.cross_val_score(clf_lr,\n",
    "                                         lr_train_tfidf, train_df[\"target\"],\n",
    "                                         cv=5,\n",
    "                                         scoring=\"f1\")\n",
    "\n",
    "clf_score = helpers.model_scoring(scores)\n",
    "\n",
    "scoring_df = helpers.score_recording(scoring_df, 'LogisticRegression', 'TfidfVectorizer',\n",
    "                                     'None',\n",
    "                                     clf_score[0], clf_score[1])"
   ]
  },
  {
   "cell_type": "code",
   "execution_count": null,
   "metadata": {},
   "outputs": [],
   "source": [
    "lr_train_tfidf_stem = tf_idf.fit_transform(stemmed_train_df['text'])"
   ]
  },
  {
   "cell_type": "code",
   "execution_count": null,
   "metadata": {},
   "outputs": [],
   "source": [
    "# Logistic Regression, stemmed\n",
    "scores = model_selection.cross_val_score(clf_lr,\n",
    "                                         lr_train_tfidf_stem, train_df[\"target\"],\n",
    "                                         cv=5,\n",
    "                                         scoring=\"f1\")\n",
    "\n",
    "clf_score = helpers.model_scoring(scores)\n",
    "\n",
    "scoring_df = helpers.score_recording(scoring_df, 'LogisticRegression', 'TfidfVectorizer',\n",
    "                                     'Stemmed',\n",
    "                                     clf_score[0], clf_score[1])"
   ]
  },
  {
   "cell_type": "code",
   "execution_count": null,
   "metadata": {},
   "outputs": [],
   "source": [
    "lr_train_tfidf_lemma = tf_idf.fit_transform(lemmatized_train_df['text'])"
   ]
  },
  {
   "cell_type": "code",
   "execution_count": null,
   "metadata": {},
   "outputs": [],
   "source": [
    "# Logistic Regression, lemmatized\n",
    "scores = model_selection.cross_val_score(clf_lr,\n",
    "                                         lr_train_tfidf_lemma, train_df[\"target\"],\n",
    "                                         cv=5,\n",
    "                                         scoring=\"f1\")\n",
    "\n",
    "clf_score = helpers.model_scoring(scores)\n",
    "\n",
    "scoring_df = helpers.score_recording(scoring_df, 'LogisticRegression', 'TfidfVectorizer',\n",
    "                                     'Lemmatized',\n",
    "                                     clf_score[0], clf_score[1])"
   ]
  },
  {
   "cell_type": "markdown",
   "metadata": {},
   "source": [
    "Second set of experiments, excluding stopwords."
   ]
  },
  {
   "cell_type": "code",
   "execution_count": null,
   "metadata": {},
   "outputs": [],
   "source": [
    "lr_train_tfidf_no_stops = tf_idf_no_stops.fit_transform(train_df['text'])"
   ]
  },
  {
   "cell_type": "code",
   "execution_count": null,
   "metadata": {},
   "outputs": [],
   "source": [
    "# Logistic Regression, no stopwords\n",
    "scores = model_selection.cross_val_score(clf_lr,\n",
    "                                         lr_train_tfidf_no_stops, train_df[\"target\"],\n",
    "                                         cv=5,\n",
    "                                         scoring=\"f1\")\n",
    "\n",
    "clf_score = helpers.model_scoring(scores)\n",
    "\n",
    "scoring_df = helpers.score_recording(scoring_df, 'LogisticRegression', 'TfidfVectorizer',\n",
    "                                     'Removed stopwords',\n",
    "                                     clf_score[0], clf_score[1])"
   ]
  },
  {
   "cell_type": "code",
   "execution_count": null,
   "metadata": {},
   "outputs": [],
   "source": [
    "lr_train_tfidf_stem_no_stops = tf_idf_no_stops.fit_transform(stemmed_train_df['text'])"
   ]
  },
  {
   "cell_type": "code",
   "execution_count": null,
   "metadata": {},
   "outputs": [],
   "source": [
    "# Logistic Regression, stemmed, no stopwords\n",
    "scores = model_selection.cross_val_score(clf_lr,\n",
    "                                         lr_train_tfidf_stem_no_stops, train_df[\"target\"],\n",
    "                                         cv=5,\n",
    "                                         scoring=\"f1\")\n",
    "\n",
    "clf_score = helpers.model_scoring(scores)\n",
    "\n",
    "scoring_df = helpers.score_recording(scoring_df, 'LogisticRegression', 'TfidfVectorizer',\n",
    "                                     'Removed stopwords, stemmed',\n",
    "                                     clf_score[0], clf_score[1])"
   ]
  },
  {
   "cell_type": "code",
   "execution_count": null,
   "metadata": {},
   "outputs": [],
   "source": [
    "lr_train_tfidf_lemma_no_stops = tf_idf_no_stops.fit_transform(lemmatized_train_df['text'])"
   ]
  },
  {
   "cell_type": "code",
   "execution_count": null,
   "metadata": {},
   "outputs": [],
   "source": [
    "# Logistic Regression, lemmatized, no stopwords\n",
    "scores = model_selection.cross_val_score(clf_lr,\n",
    "                                         lr_train_tfidf_lemma_no_stops, train_df[\"target\"],\n",
    "                                         cv=5,\n",
    "                                         scoring=\"f1\")\n",
    "\n",
    "clf_score = helpers.model_scoring(scores)\n",
    "\n",
    "scoring_df = helpers.score_recording(scoring_df, 'LogisticRegression', 'TfidfVectorizer',\n",
    "                                     'Removed stopwords, lemmatized',\n",
    "                                     clf_score[0], clf_score[1])"
   ]
  },
  {
   "cell_type": "markdown",
   "metadata": {},
   "source": [
    "#### Multinomial Bayes on TF-IDF treated training data\n",
    "First set of experiments includes stopwords."
   ]
  },
  {
   "cell_type": "code",
   "execution_count": null,
   "metadata": {},
   "outputs": [],
   "source": [
    "mnb_train_tfidf = tf_idf.fit_transform(train_df['text'])"
   ]
  },
  {
   "cell_type": "code",
   "execution_count": null,
   "metadata": {},
   "outputs": [],
   "source": [
    "# Multinomial Naive Bayes\n",
    "scores = model_selection.cross_val_score(clf_mnb,\n",
    "                                         mnb_train_tfidf, train_df[\"target\"],\n",
    "                                         cv=5,\n",
    "                                         scoring=\"f1\")\n",
    "\n",
    "clf_score = helpers.model_scoring(scores)\n",
    "\n",
    "scoring_df = helpers.score_recording(scoring_df, 'MultinomialNB', 'TfidfVectorizer',\n",
    "                                     'None',\n",
    "                                     clf_score[0], clf_score[1])"
   ]
  },
  {
   "cell_type": "code",
   "execution_count": null,
   "metadata": {},
   "outputs": [],
   "source": [
    "mnb_train_tfidf_stem = tf_idf.fit_transform(stemmed_train_df['text'])"
   ]
  },
  {
   "cell_type": "code",
   "execution_count": null,
   "metadata": {},
   "outputs": [],
   "source": [
    "# Multinomial Naive Bayes, stemmed\n",
    "scores = model_selection.cross_val_score(clf_mnb,\n",
    "                                         mnb_train_tfidf_stem, train_df[\"target\"],\n",
    "                                         cv=5,\n",
    "                                         scoring=\"f1\")\n",
    "\n",
    "clf_score = helpers.model_scoring(scores)\n",
    "\n",
    "scoring_df = helpers.score_recording(scoring_df, 'MultinomialNB', 'TfidfVectorizer',\n",
    "                                     'Stemmed',\n",
    "                                     clf_score[0], clf_score[1])"
   ]
  },
  {
   "cell_type": "code",
   "execution_count": null,
   "metadata": {},
   "outputs": [],
   "source": [
    "mnb_train_tfidf_lemma = tf_idf.fit_transform(lemmatized_train_df['text'])"
   ]
  },
  {
   "cell_type": "code",
   "execution_count": null,
   "metadata": {},
   "outputs": [],
   "source": [
    "# Multinomial Naive Bayes, lemmatized\n",
    "scores = model_selection.cross_val_score(clf_mnb,\n",
    "                                         mnb_train_tfidf_lemma, train_df[\"target\"],\n",
    "                                         cv=5,\n",
    "                                         scoring=\"f1\")\n",
    "\n",
    "clf_score = helpers.model_scoring(scores)\n",
    "\n",
    "scoring_df = helpers.score_recording(scoring_df, 'MultinomialNB', 'TfidfVectorizer',\n",
    "                                     'Lemmatized',\n",
    "                                     clf_score[0], clf_score[1])"
   ]
  },
  {
   "cell_type": "markdown",
   "metadata": {},
   "source": [
    "Second set of experiments excludes stopwords"
   ]
  },
  {
   "cell_type": "code",
   "execution_count": null,
   "metadata": {},
   "outputs": [],
   "source": [
    "mnb_train_tfidf_no_stops = tf_idf_no_stops.fit_transform(train_df['text'])"
   ]
  },
  {
   "cell_type": "code",
   "execution_count": null,
   "metadata": {},
   "outputs": [],
   "source": [
    "# Multinomial Naive Bayes, no stopwords\n",
    "scores = model_selection.cross_val_score(clf_mnb,\n",
    "                                         mnb_train_tfidf_no_stops, train_df[\"target\"],\n",
    "                                         cv=5,\n",
    "                                         scoring=\"f1\")\n",
    "\n",
    "clf_score = helpers.model_scoring(scores)\n",
    "\n",
    "scoring_df = helpers.score_recording(scoring_df, 'MultinomialNB', 'TfidfVectorizer',\n",
    "                                     'Removed stopwords',\n",
    "                                     clf_score[0], clf_score[1])"
   ]
  },
  {
   "cell_type": "code",
   "execution_count": null,
   "metadata": {},
   "outputs": [],
   "source": [
    "mnb_train_tfidf_stem_no_stops = tf_idf_no_stops.fit_transform(stemmed_train_df['text'])"
   ]
  },
  {
   "cell_type": "code",
   "execution_count": null,
   "metadata": {},
   "outputs": [],
   "source": [
    "# Multinomial Naive Bayes, stemmed, no stopwords\n",
    "scores = model_selection.cross_val_score(clf_mnb,\n",
    "                                         mnb_train_tfidf_stem_no_stops, train_df[\"target\"],\n",
    "                                         cv=5,\n",
    "                                         scoring=\"f1\")\n",
    "\n",
    "clf_score = helpers.model_scoring(scores)\n",
    "\n",
    "scoring_df = helpers.score_recording(scoring_df, 'MultinomialNB', 'TfidfVectorizer',\n",
    "                                     'Removed stopwords, stemmed',\n",
    "                                     clf_score[0], clf_score[1])"
   ]
  },
  {
   "cell_type": "code",
   "execution_count": null,
   "metadata": {},
   "outputs": [],
   "source": [
    "mnb_train_tfidf_lemma_no_stops = tf_idf_no_stops.fit_transform(lemmatized_train_df['text'])"
   ]
  },
  {
   "cell_type": "code",
   "execution_count": null,
   "metadata": {},
   "outputs": [],
   "source": [
    "# Multinomial Naive Bayes, lemmatized, no stopwords\n",
    "scores = model_selection.cross_val_score(clf_mnb,\n",
    "                                         mnb_train_tfidf_lemma_no_stops, train_df[\"target\"],\n",
    "                                         cv=5,\n",
    "                                         scoring=\"f1\")\n",
    "\n",
    "clf_score = helpers.model_scoring(scores)\n",
    "\n",
    "scoring_df = helpers.score_recording(scoring_df, 'MultinomialNB', 'TfidfVectorizer',\n",
    "                                     'Removed stopwords, lemmatized',\n",
    "                                     clf_score[0], clf_score[1])"
   ]
  },
  {
   "cell_type": "markdown",
   "metadata": {},
   "source": [
    "#### Support Vector Machine Models\n",
    "I used cross-validation to determine the parameters for all SVM models.\n",
    "\n",
    "The cross-validation steps were commented out for subsequent runs of the notebook."
   ]
  },
  {
   "cell_type": "code",
   "execution_count": null,
   "metadata": {},
   "outputs": [],
   "source": [
    "# Set up parameter grid for GridSearchCV testing\n",
    "\n",
    "# my_params = {'C': [0.1, 0.3, 0.5, 0.7],\n",
    "#              'kernel': ['rbf', 'poly', 'sigmoid'],\n",
    "#              'degree': [2, 3],\n",
    "#              'gamma' : ['auto', 'scale'],\n",
    "#              'class_weight' : ['balanced'],\n",
    "#              'random_state' : [42],\n",
    "#              'probability' : [False, True],\n",
    "# #              'shrinking' : [False, True],\n",
    "#              'coef0' : [1e2, 0.1, 1, 10]}"
   ]
  },
  {
   "cell_type": "code",
   "execution_count": null,
   "metadata": {},
   "outputs": [],
   "source": [
    "# GridSearchCV testing to find best parameters for SVM model\n",
    "\n",
    "# scorer = make_scorer(f1_score)\n",
    "# gs_clf = GridSearchCV(svm.SVC(),\n",
    "#                       param_grid = my_params,\n",
    "#                       scoring = scorer,\n",
    "#                       verbose = 1,\n",
    "#                       n_jobs = -1)\n",
    "# gs_clf.fit(train_tfidf_lemmatized_df, train_df[\"target\"])\n",
    "# print(gs_clf.best_params_, gs_clf.best_score_)\n",
    "\n",
    "# results:\n",
    "# {'C': 0.7,\n",
    "#  'class_weight': 'balanced',\n",
    "#  'coef0': 1,\n",
    "#  'degree': 2,\n",
    "#  'gamma': 'scale',\n",
    "#  'kernel': 'sigmoid',\n",
    "#  'probability': False,\n",
    "#  'random_state': 42}\n",
    "# 0.6660730647063914"
   ]
  },
  {
   "cell_type": "markdown",
   "metadata": {},
   "source": [
    "First set of experiments, stopwords included"
   ]
  },
  {
   "cell_type": "code",
   "execution_count": null,
   "metadata": {},
   "outputs": [],
   "source": [
    "svc_train_vectors = count_vectorizer.fit_transform(train_df['text'])"
   ]
  },
  {
   "cell_type": "code",
   "execution_count": null,
   "metadata": {},
   "outputs": [],
   "source": [
    "# SVM: CountVectorizer, raw\n",
    "clf_svc = svm.SVC(C = 0.7,\n",
    "              kernel = 'sigmoid',\n",
    "              degree = 2,\n",
    "              gamma = 'scale',\n",
    "              class_weight = 'balanced',\n",
    "              random_state = 42)\n",
    "\n",
    "scores = model_selection.cross_val_score(clf_svc,\n",
    "                                         svc_train_vectors, train_df[\"target\"],\n",
    "                                         cv=5,\n",
    "                                         scoring=\"f1\")\n",
    "\n",
    "clf_score = helpers.model_scoring(scores)\n",
    "\n",
    "scoring_df = helpers.score_recording(scoring_df, 'SVM', 'CountVectorizer',\n",
    "                                     'None',\n",
    "                                     clf_score[0], clf_score[1])"
   ]
  },
  {
   "cell_type": "code",
   "execution_count": null,
   "metadata": {},
   "outputs": [],
   "source": [
    "svc_train_vector_stem = count_vectorizer.fit_transform(stemmed_train_df['text'])"
   ]
  },
  {
   "cell_type": "code",
   "execution_count": null,
   "metadata": {},
   "outputs": [],
   "source": [
    "# SVM: CountVectorizer, stemmed\n",
    "scores = model_selection.cross_val_score(clf_svc,\n",
    "                                         svc_train_vector_stem, train_df[\"target\"],\n",
    "                                         cv=5,\n",
    "                                         scoring=\"f1\")\n",
    "\n",
    "clf_score = helpers.model_scoring(scores)\n",
    "\n",
    "scoring_df = helpers.score_recording(scoring_df, 'SVM', 'CountVectorizer',\n",
    "                                     'Stemmed',\n",
    "                                     clf_score[0], clf_score[1])"
   ]
  },
  {
   "cell_type": "code",
   "execution_count": null,
   "metadata": {},
   "outputs": [],
   "source": [
    "svc_train_vector_lemma = count_vectorizer.fit_transform(lemmatized_train_df['text'])"
   ]
  },
  {
   "cell_type": "code",
   "execution_count": null,
   "metadata": {},
   "outputs": [],
   "source": [
    "# SVM: CountVectorizer, lemmatized\n",
    "scores = model_selection.cross_val_score(clf_svc,\n",
    "                                         svc_train_vector_lemma, train_df[\"target\"],\n",
    "                                         cv=5,\n",
    "                                         scoring=\"f1\")\n",
    "\n",
    "clf_score = helpers.model_scoring(scores)\n",
    "\n",
    "scoring_df = helpers.score_recording(scoring_df, 'SVM', 'CountVectorizer',\n",
    "                                     'Lemmatized',\n",
    "                                     clf_score[0], clf_score[1])"
   ]
  },
  {
   "cell_type": "markdown",
   "metadata": {},
   "source": [
    "Second set of experiments, stopwords excluded"
   ]
  },
  {
   "cell_type": "code",
   "execution_count": null,
   "metadata": {},
   "outputs": [],
   "source": [
    "svc_train_vector_no_stops = count_vectorizer_no_stops.fit_transform(train_df['text'])"
   ]
  },
  {
   "cell_type": "code",
   "execution_count": null,
   "metadata": {},
   "outputs": [],
   "source": [
    "# SVM: CountVectorizer, no stopwords\n",
    "scores = model_selection.cross_val_score(clf_svc,\n",
    "                                         svc_train_vector_no_stops, train_df[\"target\"],\n",
    "                                         cv=5,\n",
    "                                         scoring=\"f1\")\n",
    "\n",
    "clf_score = helpers.model_scoring(scores)\n",
    "\n",
    "scoring_df = helpers.score_recording(scoring_df, 'SVM', 'CountVectorizer',\n",
    "                                     'Removed stopwords',\n",
    "                                     clf_score[0], clf_score[1])"
   ]
  },
  {
   "cell_type": "code",
   "execution_count": null,
   "metadata": {},
   "outputs": [],
   "source": [
    "svc_train_vector_stem_no_stops = count_vectorizer_no_stops.fit_transform(stemmed_train_df['text'])"
   ]
  },
  {
   "cell_type": "code",
   "execution_count": null,
   "metadata": {},
   "outputs": [],
   "source": [
    "# SVM: CountVectorizer, stemmed, no stopwords\n",
    "scores = model_selection.cross_val_score(clf_svc,\n",
    "                                         svc_train_vector_stem_no_stops, train_df[\"target\"],\n",
    "                                         cv=5,\n",
    "                                         scoring=\"f1\")\n",
    "\n",
    "clf_score = helpers.model_scoring(scores)\n",
    "\n",
    "scoring_df = helpers.score_recording(scoring_df, 'SVM', 'CountVectorizer',\n",
    "                                     'Removed stopwords, stemmed',\n",
    "                                     clf_score[0], clf_score[1])"
   ]
  },
  {
   "cell_type": "code",
   "execution_count": null,
   "metadata": {},
   "outputs": [],
   "source": [
    "svc_train_vector_lemma_no_stops = count_vectorizer_no_stops.fit_transform(lemmatized_train_df['text'])"
   ]
  },
  {
   "cell_type": "code",
   "execution_count": null,
   "metadata": {},
   "outputs": [],
   "source": [
    "# SVM: CountVectorizer, lemmatized, no stopwords\n",
    "scores = model_selection.cross_val_score(clf_svc,\n",
    "                                         svc_train_vector_lemma_no_stops, train_df[\"target\"],\n",
    "                                         cv=5,\n",
    "                                         scoring=\"f1\")\n",
    "\n",
    "clf_score = helpers.model_scoring(scores)\n",
    "\n",
    "scoring_df = helpers.score_recording(scoring_df, 'SVM', 'CountVectorizer',\n",
    "                                     'Removed stopwords, lemmatized',\n",
    "                                     clf_score[0], clf_score[1])"
   ]
  },
  {
   "cell_type": "markdown",
   "metadata": {},
   "source": [
    "#### I did an additional set of experiments with SVM, using LSA"
   ]
  },
  {
   "cell_type": "markdown",
   "metadata": {},
   "source": [
    "LSA (Latent Sentiment Analysis)"
   ]
  },
  {
   "cell_type": "code",
   "execution_count": null,
   "metadata": {},
   "outputs": [],
   "source": [
    "svd = decomposition.TruncatedSVD(n_components = 100, random_state = 42)\n",
    "normalizer = preprocessing.Normalizer()"
   ]
  },
  {
   "cell_type": "code",
   "execution_count": null,
   "metadata": {},
   "outputs": [],
   "source": [
    "svc_train_tfidf = tf_idf.fit_transform(train_df['text'])"
   ]
  },
  {
   "cell_type": "markdown",
   "metadata": {},
   "source": [
    "As usual, first set of experiments included stopwords."
   ]
  },
  {
   "cell_type": "code",
   "execution_count": null,
   "metadata": {},
   "outputs": [],
   "source": [
    "# SVM: LSA, TF-IDF, raw\n",
    "pipe = pipeline.make_pipeline(svd, normalizer, clf_svc)\n",
    "\n",
    "scores = model_selection.cross_val_score(pipe,\n",
    "                                         svc_train_tfidf, train_df[\"target\"],\n",
    "                                         cv=5,\n",
    "                                         scoring=\"f1\")\n",
    "\n",
    "clf_score = helpers.model_scoring(scores)\n",
    "\n",
    "scoring_df = helpers.score_recording(scoring_df, 'SVM', 'LSA',\n",
    "                                     'None',\n",
    "                                     clf_score[0], clf_score[1])"
   ]
  },
  {
   "cell_type": "code",
   "execution_count": null,
   "metadata": {},
   "outputs": [],
   "source": [
    "svc_train_tfidf_stem = tf_idf.fit_transform(stemmed_train_df['text'])"
   ]
  },
  {
   "cell_type": "code",
   "execution_count": null,
   "metadata": {},
   "outputs": [],
   "source": [
    "# SVM: LSA, TF-IDF, stemmed\n",
    "scores = model_selection.cross_val_score(pipe,\n",
    "                                         svc_train_tfidf_stem, train_df[\"target\"],\n",
    "                                         cv=5,\n",
    "                                         scoring=\"f1\")\n",
    "\n",
    "clf_score = helpers.model_scoring(scores)\n",
    "\n",
    "scoring_df = helpers.score_recording(scoring_df, 'SVM', 'LSA',\n",
    "                                     'Stemmed',\n",
    "                                     clf_score[0], clf_score[1])"
   ]
  },
  {
   "cell_type": "code",
   "execution_count": null,
   "metadata": {},
   "outputs": [],
   "source": [
    "svc_train_tfidf_lemma = tf_idf.fit_transform(lemmatized_train_df['text'])"
   ]
  },
  {
   "cell_type": "code",
   "execution_count": null,
   "metadata": {},
   "outputs": [],
   "source": [
    "# SVM: LSA, TF-IDF, lemmatized\n",
    "scores = model_selection.cross_val_score(pipe,\n",
    "                                         svc_train_tfidf_lemma, train_df[\"target\"],\n",
    "                                         cv=5,\n",
    "                                         scoring=\"f1\")\n",
    "\n",
    "clf_score = helpers.model_scoring(scores)\n",
    "\n",
    "scoring_df = helpers.score_recording(scoring_df, 'SVM', 'LSA',\n",
    "                                     'Lemmatized',\n",
    "                                     clf_score[0], clf_score[1])"
   ]
  },
  {
   "cell_type": "markdown",
   "metadata": {},
   "source": [
    "The second set of experiments excluded stopwords."
   ]
  },
  {
   "cell_type": "code",
   "execution_count": null,
   "metadata": {},
   "outputs": [],
   "source": [
    "svc_train_tfidf_no_stops = tf_idf_no_stops.fit_transform(train_df['text'])"
   ]
  },
  {
   "cell_type": "code",
   "execution_count": null,
   "metadata": {},
   "outputs": [],
   "source": [
    "# SVM: LSA, TF-IDF, raw, no stopwords\n",
    "scores = model_selection.cross_val_score(pipe,\n",
    "                                         svc_train_tfidf_no_stops, train_df[\"target\"],\n",
    "                                         cv=5,\n",
    "                                         scoring=\"f1\")\n",
    "\n",
    "clf_score = helpers.model_scoring(scores)\n",
    "\n",
    "scoring_df = helpers.score_recording(scoring_df, 'SVM', 'LSA',\n",
    "                                     'Removed stopwords',\n",
    "                                     clf_score[0], clf_score[1])"
   ]
  },
  {
   "cell_type": "code",
   "execution_count": null,
   "metadata": {},
   "outputs": [],
   "source": [
    "svc_train_tfidf_stem_no_stops = tf_idf_no_stops.fit_transform(stemmed_train_df['text'])"
   ]
  },
  {
   "cell_type": "code",
   "execution_count": null,
   "metadata": {},
   "outputs": [],
   "source": [
    "# SVM: LSA, TF-IDF, stemmed, no stopwords\n",
    "scores = model_selection.cross_val_score(pipe,\n",
    "                                         svc_train_tfidf_stem_no_stops, train_df[\"target\"],\n",
    "                                         cv=5,\n",
    "                                         scoring=\"f1\")\n",
    "\n",
    "clf_score = helpers.model_scoring(scores)\n",
    "\n",
    "scoring_df = helpers.score_recording(scoring_df, 'SVM', 'LSA',\n",
    "                                     'Removed stopwords, stemmed',\n",
    "                                     clf_score[0], clf_score[1])"
   ]
  },
  {
   "cell_type": "code",
   "execution_count": null,
   "metadata": {},
   "outputs": [],
   "source": [
    "svc_train_tfidf_lemma_no_stops = tf_idf_no_stops.fit_transform(lemmatized_train_df['text'])"
   ]
  },
  {
   "cell_type": "code",
   "execution_count": null,
   "metadata": {},
   "outputs": [],
   "source": [
    "# SVM: LSA, TF-IDF,lemmatized, no stopwords\n",
    "scores = model_selection.cross_val_score(pipe,\n",
    "                                         svc_train_tfidf_lemma_no_stops, train_df[\"target\"],\n",
    "                                         cv=5,\n",
    "                                         scoring=\"f1\")\n",
    "\n",
    "clf_score = helpers.model_scoring(scores)\n",
    "\n",
    "scoring_df = helpers.score_recording(scoring_df, 'SVM', 'LSA',\n",
    "                                     'Removed stopwords, lemmatized',\n",
    "                                     clf_score[0], clf_score[1])"
   ]
  },
  {
   "cell_type": "markdown",
   "metadata": {},
   "source": [
    "#### KNN Models\n",
    "\n",
    "I also tried a couple of KNN models, but the results weren't promising."
   ]
  },
  {
   "cell_type": "code",
   "execution_count": null,
   "metadata": {},
   "outputs": [],
   "source": [
    "knn_train_tfidf = tf_idf.fit_transform(train_df['text'])"
   ]
  },
  {
   "cell_type": "code",
   "execution_count": null,
   "metadata": {},
   "outputs": [],
   "source": [
    "# LSA -> KNN: TF-IDF, raw\n",
    "clf_knn = KNeighborsClassifier(n_neighbors=5,\n",
    "                               algorithm='brute',\n",
    "                               metric='cosine')\n",
    "\n",
    "pipe = pipeline.make_pipeline(svd, normalizer, clf_knn)\n",
    "\n",
    "scores = model_selection.cross_val_score(pipe,\n",
    "                                         knn_train_tfidf, train_df['target'],\n",
    "                                         cv=5,\n",
    "                                         scoring=\"f1\")\n",
    "\n",
    "clf_score = helpers.model_scoring(scores)\n",
    "\n",
    "scoring_df = helpers.score_recording(scoring_df, 'KNN', 'LSA',\n",
    "                                     'None',\n",
    "                                     clf_score[0], clf_score[1])"
   ]
  },
  {
   "cell_type": "code",
   "execution_count": null,
   "metadata": {},
   "outputs": [],
   "source": [
    "knn_train_tfidf_no_stops = tf_idf_no_stops.fit_transform(train_df['text'])"
   ]
  },
  {
   "cell_type": "code",
   "execution_count": null,
   "metadata": {},
   "outputs": [],
   "source": [
    "# KNN: LSA, TF-IDF, no stopwords\n",
    "scores = model_selection.cross_val_score(pipe,\n",
    "                                         knn_train_tfidf_no_stops, train_df['target'],\n",
    "                                         cv=5,\n",
    "                                         scoring=\"f1\")\n",
    "\n",
    "clf_score = helpers.model_scoring(scores)\n",
    "\n",
    "scoring_df = helpers.score_recording(scoring_df, 'KNN', 'LSA',\n",
    "                                     'Removed stopwords',\n",
    "                                     clf_score[0], clf_score[1])"
   ]
  },
  {
   "cell_type": "markdown",
   "metadata": {},
   "source": [
    "---"
   ]
  },
  {
   "cell_type": "markdown",
   "metadata": {},
   "source": [
    "### Table of Model Scores\n",
    "This table is sorted by the mean F1 score of each model, to help me select the final model(s) for submission to the contest."
   ]
  },
  {
   "cell_type": "code",
   "execution_count": null,
   "metadata": {},
   "outputs": [],
   "source": [
    "scoring_df.sort_values(by = 'Mean_F1_Score', ascending = False)"
   ]
  },
  {
   "cell_type": "markdown",
   "metadata": {},
   "source": [
    "---"
   ]
  },
  {
   "cell_type": "markdown",
   "metadata": {},
   "source": [
    "### Final models\n",
    "I used the highest-scoring version of each model type (Logistic Regression, Multinomial Naive Bayes, Support Vector Machine) to create submissions for the Kaggle contest."
   ]
  },
  {
   "cell_type": "code",
   "execution_count": null,
   "metadata": {},
   "outputs": [],
   "source": [
    "# Final models - Logistic Regression, lemmatized\n",
    "scores = model_selection.cross_val_score(clf_lr,\n",
    "                                         lr_train_tfidf_lemma, train_df[\"target\"],\n",
    "                                         cv=5,\n",
    "                                         scoring=\"f1\")\n",
    "mean_score = scores.mean()\n",
    "stability = scores.std()\n",
    "print(mean_score, '+/-', stability)"
   ]
  },
  {
   "cell_type": "code",
   "execution_count": null,
   "metadata": {},
   "outputs": [],
   "source": [
    "tf_idf.fit(lemmatized_train_df['text'])\n",
    "test_tfidf_lemma = tf_idf.transform(test_df['text'])"
   ]
  },
  {
   "cell_type": "code",
   "execution_count": null,
   "metadata": {},
   "outputs": [],
   "source": [
    "lr_train_tfidf_lemma.shape"
   ]
  },
  {
   "cell_type": "code",
   "execution_count": null,
   "metadata": {},
   "outputs": [],
   "source": [
    "test_tfidf_lemma.shape"
   ]
  },
  {
   "cell_type": "code",
   "execution_count": null,
   "metadata": {},
   "outputs": [],
   "source": [
    "clf_lr.fit(lr_train_tfidf_lemma, train_df[\"target\"])\n",
    "lr_preds = clf_lr.predict(test_tfidf_lemma)\n",
    "lr_preds"
   ]
  },
  {
   "cell_type": "code",
   "execution_count": null,
   "metadata": {},
   "outputs": [],
   "source": [
    "# Final models - Multinomial Bayes, lemmatized\n",
    "# this was the best model (Kaggle score: 0.80777)\n",
    "\n",
    "scores = model_selection.cross_val_score(clf_mnb,\n",
    "                                         mnb_train_vector_lemma, train_df[\"target\"],\n",
    "                                         cv=5,\n",
    "                                         scoring=\"f1\")\n",
    "mean_score = scores.mean()\n",
    "stability = scores.std()\n",
    "print(mean_score, '+/-', stability)"
   ]
  },
  {
   "cell_type": "code",
   "execution_count": null,
   "metadata": {},
   "outputs": [],
   "source": [
    "count_vectorizer.fit(lemmatized_train_df['text'])\n",
    "test_vector_lemma = count_vectorizer.transform(test_df['text'])"
   ]
  },
  {
   "cell_type": "code",
   "execution_count": null,
   "metadata": {},
   "outputs": [],
   "source": [
    "mnb_train_vector_lemma.shape"
   ]
  },
  {
   "cell_type": "code",
   "execution_count": null,
   "metadata": {},
   "outputs": [],
   "source": [
    "test_vector_lemma.shape"
   ]
  },
  {
   "cell_type": "code",
   "execution_count": null,
   "metadata": {},
   "outputs": [],
   "source": [
    "clf_mnb.fit(mnb_train_vector_lemma, train_df[\"target\"])\n",
    "mnb_preds = clf_mnb.predict(test_vector_lemma)\n",
    "mnb_preds"
   ]
  },
  {
   "cell_type": "code",
   "execution_count": null,
   "metadata": {},
   "outputs": [],
   "source": [
    "# Final models - SVM: LSA, TFIDF, lemmatized\n",
    "pipe = pipeline.make_pipeline(svd, normalizer, clf_svc)\n",
    "\n",
    "scores = model_selection.cross_val_score(pipe,\n",
    "                                         svc_train_tfidf_lemma, train_df[\"target\"],\n",
    "                                         cv=5,\n",
    "                                         scoring=\"f1\")\n",
    "mean_score = scores.mean()\n",
    "stability = scores.std()\n",
    "print(mean_score, '+/-', stability)"
   ]
  },
  {
   "cell_type": "code",
   "execution_count": null,
   "metadata": {},
   "outputs": [],
   "source": [
    "tf_idf.fit(lemmatized_train_df['text'])\n",
    "test_tfidf_svc_lemma = tf_idf.transform(test_df['text'])"
   ]
  },
  {
   "cell_type": "code",
   "execution_count": null,
   "metadata": {},
   "outputs": [],
   "source": [
    "svc_train_tfidf_lemma.shape"
   ]
  },
  {
   "cell_type": "code",
   "execution_count": null,
   "metadata": {},
   "outputs": [],
   "source": [
    "test_tfidf_svc_lemma.shape"
   ]
  },
  {
   "cell_type": "code",
   "execution_count": null,
   "metadata": {},
   "outputs": [],
   "source": [
    "clf_svc.fit(svc_train_tfidf_lemma, train_df[\"target\"])\n",
    "svc_preds = clf_svc.predict(test_tfidf_svc_lemma)\n",
    "svc_preds"
   ]
  },
  {
   "cell_type": "markdown",
   "metadata": {},
   "source": [
    "---"
   ]
  },
  {
   "cell_type": "markdown",
   "metadata": {},
   "source": [
    "### Create submission files."
   ]
  },
  {
   "cell_type": "code",
   "execution_count": null,
   "metadata": {},
   "outputs": [],
   "source": [
    "# submission for Logistic Regression predictions\n",
    "# model_sub = pd.read_csv('../data/sample_submission.csv')\n",
    "# model_sub['target'] = lr_preds\n",
    "# model_sub.to_csv('../data/lr_prediction_submission.csv', index = False)"
   ]
  },
  {
   "cell_type": "code",
   "execution_count": null,
   "metadata": {},
   "outputs": [],
   "source": [
    "# submission for Multinomial Naive Bayes predictions\n",
    "# this one got the best Kaggle score: 0.80777\n",
    "# model_sub = pd.read_csv('../data/sample_submission.csv')\n",
    "# model_sub['target'] = mnb_preds\n",
    "# model_sub.to_csv('../data/mnb_prediction_submission.csv', index = False)"
   ]
  },
  {
   "cell_type": "code",
   "execution_count": null,
   "metadata": {},
   "outputs": [],
   "source": [
    "# submission for SVM predictions\n",
    "# model_sub = pd.read_csv('../data/sample_submission.csv')\n",
    "# model_sub['target'] = svc_preds\n",
    "# model_sub.to_csv('../data/svc_prediction_submission.csv', index = False)"
   ]
  },
  {
   "cell_type": "markdown",
   "metadata": {},
   "source": [
    "### Next Steps\n",
    "There are still some things I can try with these models in order to improve them:\n",
    "* Vary the number of components in the LSA models\n",
    "* More/better tuning of hyperparameters in all models\n",
    "\n",
    "As well, I would like to test TensorFlow & BERT in a Kaggle notebook w/GPU turned on to see how it performs on this problem."
   ]
  }
 ],
 "metadata": {
  "kernelspec": {
   "display_name": "Python 3",
   "language": "python",
   "name": "python3"
  },
  "language_info": {
   "codemirror_mode": {
    "name": "ipython",
    "version": 3
   },
   "file_extension": ".py",
   "mimetype": "text/x-python",
   "name": "python",
   "nbconvert_exporter": "python",
   "pygments_lexer": "ipython3",
   "version": "3.6.9"
  }
 },
 "nbformat": 4,
 "nbformat_minor": 4
}
