{
 "cells": [
  {
   "cell_type": "markdown",
   "metadata": {},
   "source": [
    "# Disaster Tweets\n",
    "\n",
    "Initial plan is to use this notebook for modeling of preprocessed data."
   ]
  },
  {
   "cell_type": "code",
   "execution_count": 1,
   "metadata": {},
   "outputs": [],
   "source": [
    "# imports\n",
    "\n",
    "# data\n",
    "import pandas as pd\n",
    "import numpy as np\n",
    "\n",
    "# modeling\n",
    "from sklearn.linear_model import LogisticRegression, LogisticRegressionCV\n",
    "from sklearn.metrics import f1_score, make_scorer\n",
    "from sklearn.naive_bayes import MultinomialNB\n",
    "from sklearn import preprocessing, decomposition, model_selection, metrics, pipeline\n",
    "from sklearn.feature_extraction.text import CountVectorizer, TfidfVectorizer\n",
    "from sklearn.model_selection import GridSearchCV, StratifiedKFold, RandomizedSearchCV\n",
    "from sklearn import svm\n",
    "from sklearn.neighbors import KNeighborsClassifier\n",
    "\n",
    "import tensorflow as tf\n",
    "from tensorflow.keras.layers import Dense, Input\n",
    "from tensorflow.keras.optimizers import Adam\n",
    "from tensorflow.keras.models import Model\n",
    "from tensorflow.keras.callbacks import ModelCheckpoint\n",
    "import tensorflow_hub as hub\n",
    "\n",
    "import tokenization\n",
    "from nltk.corpus import stopwords\n",
    "\n",
    "import pickle\n",
    "\n",
    "# Suppress warnings \n",
    "import warnings\n",
    "warnings.filterwarnings('ignore')\n"
   ]
  },
  {
   "cell_type": "code",
   "execution_count": 2,
   "metadata": {},
   "outputs": [],
   "source": [
    "# read training and test data\n",
    "train_df = pd.read_csv('/Users/davidwalkup/ds-course/projects/Mod4/disaster_tweet_prediction/data/cleaned_train.csv')"
   ]
  },
  {
   "cell_type": "code",
   "execution_count": 3,
   "metadata": {},
   "outputs": [
    {
     "data": {
      "text/html": [
       "<div>\n",
       "<style scoped>\n",
       "    .dataframe tbody tr th:only-of-type {\n",
       "        vertical-align: middle;\n",
       "    }\n",
       "\n",
       "    .dataframe tbody tr th {\n",
       "        vertical-align: top;\n",
       "    }\n",
       "\n",
       "    .dataframe thead th {\n",
       "        text-align: right;\n",
       "    }\n",
       "</style>\n",
       "<table border=\"1\" class=\"dataframe\">\n",
       "  <thead>\n",
       "    <tr style=\"text-align: right;\">\n",
       "      <th></th>\n",
       "      <th>id</th>\n",
       "      <th>keyword</th>\n",
       "      <th>text</th>\n",
       "      <th>target</th>\n",
       "    </tr>\n",
       "  </thead>\n",
       "  <tbody>\n",
       "    <tr>\n",
       "      <th>0</th>\n",
       "      <td>1</td>\n",
       "      <td>nokeyword</td>\n",
       "      <td>our deeds are the reason of this earthquake ma...</td>\n",
       "      <td>1</td>\n",
       "    </tr>\n",
       "    <tr>\n",
       "      <th>1</th>\n",
       "      <td>4</td>\n",
       "      <td>nokeyword</td>\n",
       "      <td>forest fire near la ronge sask canada</td>\n",
       "      <td>1</td>\n",
       "    </tr>\n",
       "    <tr>\n",
       "      <th>2</th>\n",
       "      <td>5</td>\n",
       "      <td>nokeyword</td>\n",
       "      <td>all residents asked to shelter in place are be...</td>\n",
       "      <td>1</td>\n",
       "    </tr>\n",
       "    <tr>\n",
       "      <th>3</th>\n",
       "      <td>6</td>\n",
       "      <td>nokeyword</td>\n",
       "      <td>people receive wildfires evacuation orders in ...</td>\n",
       "      <td>1</td>\n",
       "    </tr>\n",
       "    <tr>\n",
       "      <th>4</th>\n",
       "      <td>7</td>\n",
       "      <td>nokeyword</td>\n",
       "      <td>just got sent this photo from ruby alaska as s...</td>\n",
       "      <td>1</td>\n",
       "    </tr>\n",
       "  </tbody>\n",
       "</table>\n",
       "</div>"
      ],
      "text/plain": [
       "   id    keyword                                               text  target\n",
       "0   1  nokeyword  our deeds are the reason of this earthquake ma...       1\n",
       "1   4  nokeyword              forest fire near la ronge sask canada       1\n",
       "2   5  nokeyword  all residents asked to shelter in place are be...       1\n",
       "3   6  nokeyword  people receive wildfires evacuation orders in ...       1\n",
       "4   7  nokeyword  just got sent this photo from ruby alaska as s...       1"
      ]
     },
     "execution_count": 3,
     "metadata": {},
     "output_type": "execute_result"
    }
   ],
   "source": [
    "train_df.head()"
   ]
  },
  {
   "cell_type": "code",
   "execution_count": 4,
   "metadata": {},
   "outputs": [],
   "source": [
    "stemmed_train_df = pd.read_csv('/Users/davidwalkup/ds-course/projects/Mod4/disaster_tweet_prediction/data/stemmed_train.csv')"
   ]
  },
  {
   "cell_type": "code",
   "execution_count": 5,
   "metadata": {},
   "outputs": [
    {
     "data": {
      "text/html": [
       "<div>\n",
       "<style scoped>\n",
       "    .dataframe tbody tr th:only-of-type {\n",
       "        vertical-align: middle;\n",
       "    }\n",
       "\n",
       "    .dataframe tbody tr th {\n",
       "        vertical-align: top;\n",
       "    }\n",
       "\n",
       "    .dataframe thead th {\n",
       "        text-align: right;\n",
       "    }\n",
       "</style>\n",
       "<table border=\"1\" class=\"dataframe\">\n",
       "  <thead>\n",
       "    <tr style=\"text-align: right;\">\n",
       "      <th></th>\n",
       "      <th>id</th>\n",
       "      <th>keyword</th>\n",
       "      <th>text</th>\n",
       "      <th>target</th>\n",
       "    </tr>\n",
       "  </thead>\n",
       "  <tbody>\n",
       "    <tr>\n",
       "      <th>0</th>\n",
       "      <td>1</td>\n",
       "      <td>nokeyword</td>\n",
       "      <td>our deed are the reason of thi earthquak may a...</td>\n",
       "      <td>1</td>\n",
       "    </tr>\n",
       "    <tr>\n",
       "      <th>1</th>\n",
       "      <td>4</td>\n",
       "      <td>nokeyword</td>\n",
       "      <td>forest fire near la rong sask canada</td>\n",
       "      <td>1</td>\n",
       "    </tr>\n",
       "    <tr>\n",
       "      <th>2</th>\n",
       "      <td>5</td>\n",
       "      <td>nokeyword</td>\n",
       "      <td>all resid ask to shelter in place are be notif...</td>\n",
       "      <td>1</td>\n",
       "    </tr>\n",
       "    <tr>\n",
       "      <th>3</th>\n",
       "      <td>6</td>\n",
       "      <td>nokeyword</td>\n",
       "      <td>peopl receiv wildfir evacu order in california</td>\n",
       "      <td>1</td>\n",
       "    </tr>\n",
       "    <tr>\n",
       "      <th>4</th>\n",
       "      <td>7</td>\n",
       "      <td>nokeyword</td>\n",
       "      <td>just got sent thi photo from rubi alaska as sm...</td>\n",
       "      <td>1</td>\n",
       "    </tr>\n",
       "  </tbody>\n",
       "</table>\n",
       "</div>"
      ],
      "text/plain": [
       "   id    keyword                                               text  target\n",
       "0   1  nokeyword  our deed are the reason of thi earthquak may a...       1\n",
       "1   4  nokeyword               forest fire near la rong sask canada       1\n",
       "2   5  nokeyword  all resid ask to shelter in place are be notif...       1\n",
       "3   6  nokeyword     peopl receiv wildfir evacu order in california       1\n",
       "4   7  nokeyword  just got sent thi photo from rubi alaska as sm...       1"
      ]
     },
     "execution_count": 5,
     "metadata": {},
     "output_type": "execute_result"
    }
   ],
   "source": [
    "stemmed_train_df.head()"
   ]
  },
  {
   "cell_type": "code",
   "execution_count": 6,
   "metadata": {},
   "outputs": [],
   "source": [
    "lemmatized_train_df = pd.read_csv('/Users/davidwalkup/ds-course/projects/Mod4/disaster_tweet_prediction/data/lemmatized_train.csv')"
   ]
  },
  {
   "cell_type": "code",
   "execution_count": 7,
   "metadata": {},
   "outputs": [
    {
     "data": {
      "text/html": [
       "<div>\n",
       "<style scoped>\n",
       "    .dataframe tbody tr th:only-of-type {\n",
       "        vertical-align: middle;\n",
       "    }\n",
       "\n",
       "    .dataframe tbody tr th {\n",
       "        vertical-align: top;\n",
       "    }\n",
       "\n",
       "    .dataframe thead th {\n",
       "        text-align: right;\n",
       "    }\n",
       "</style>\n",
       "<table border=\"1\" class=\"dataframe\">\n",
       "  <thead>\n",
       "    <tr style=\"text-align: right;\">\n",
       "      <th></th>\n",
       "      <th>id</th>\n",
       "      <th>keyword</th>\n",
       "      <th>text</th>\n",
       "      <th>target</th>\n",
       "    </tr>\n",
       "  </thead>\n",
       "  <tbody>\n",
       "    <tr>\n",
       "      <th>0</th>\n",
       "      <td>1</td>\n",
       "      <td>nokeyword</td>\n",
       "      <td>our deed are the reason of this earthquake may...</td>\n",
       "      <td>1</td>\n",
       "    </tr>\n",
       "    <tr>\n",
       "      <th>1</th>\n",
       "      <td>4</td>\n",
       "      <td>nokeyword</td>\n",
       "      <td>forest fire near la ronge sask canada</td>\n",
       "      <td>1</td>\n",
       "    </tr>\n",
       "    <tr>\n",
       "      <th>2</th>\n",
       "      <td>5</td>\n",
       "      <td>nokeyword</td>\n",
       "      <td>all resident asked to shelter in place are bei...</td>\n",
       "      <td>1</td>\n",
       "    </tr>\n",
       "    <tr>\n",
       "      <th>3</th>\n",
       "      <td>6</td>\n",
       "      <td>nokeyword</td>\n",
       "      <td>people receive wildfire evacuation order in ca...</td>\n",
       "      <td>1</td>\n",
       "    </tr>\n",
       "    <tr>\n",
       "      <th>4</th>\n",
       "      <td>7</td>\n",
       "      <td>nokeyword</td>\n",
       "      <td>just got sent this photo from ruby alaska a sm...</td>\n",
       "      <td>1</td>\n",
       "    </tr>\n",
       "  </tbody>\n",
       "</table>\n",
       "</div>"
      ],
      "text/plain": [
       "   id    keyword                                               text  target\n",
       "0   1  nokeyword  our deed are the reason of this earthquake may...       1\n",
       "1   4  nokeyword              forest fire near la ronge sask canada       1\n",
       "2   5  nokeyword  all resident asked to shelter in place are bei...       1\n",
       "3   6  nokeyword  people receive wildfire evacuation order in ca...       1\n",
       "4   7  nokeyword  just got sent this photo from ruby alaska a sm...       1"
      ]
     },
     "execution_count": 7,
     "metadata": {},
     "output_type": "execute_result"
    }
   ],
   "source": [
    "lemmatized_train_df.head()"
   ]
  },
  {
   "cell_type": "code",
   "execution_count": 8,
   "metadata": {},
   "outputs": [],
   "source": [
    "test_df = pd.read_csv('/Users/davidwalkup/ds-course/projects/Mod4/disaster_tweet_prediction/data/cleaned_test.csv')"
   ]
  },
  {
   "cell_type": "code",
   "execution_count": 9,
   "metadata": {},
   "outputs": [
    {
     "data": {
      "text/html": [
       "<div>\n",
       "<style scoped>\n",
       "    .dataframe tbody tr th:only-of-type {\n",
       "        vertical-align: middle;\n",
       "    }\n",
       "\n",
       "    .dataframe tbody tr th {\n",
       "        vertical-align: top;\n",
       "    }\n",
       "\n",
       "    .dataframe thead th {\n",
       "        text-align: right;\n",
       "    }\n",
       "</style>\n",
       "<table border=\"1\" class=\"dataframe\">\n",
       "  <thead>\n",
       "    <tr style=\"text-align: right;\">\n",
       "      <th></th>\n",
       "      <th>id</th>\n",
       "      <th>keyword</th>\n",
       "      <th>location</th>\n",
       "      <th>text</th>\n",
       "    </tr>\n",
       "  </thead>\n",
       "  <tbody>\n",
       "    <tr>\n",
       "      <th>0</th>\n",
       "      <td>0</td>\n",
       "      <td>nokeyword</td>\n",
       "      <td>nolocation</td>\n",
       "      <td>just happened a terrible car crash</td>\n",
       "    </tr>\n",
       "    <tr>\n",
       "      <th>1</th>\n",
       "      <td>2</td>\n",
       "      <td>nokeyword</td>\n",
       "      <td>nolocation</td>\n",
       "      <td>heard about earthquake is different city stay ...</td>\n",
       "    </tr>\n",
       "    <tr>\n",
       "      <th>2</th>\n",
       "      <td>3</td>\n",
       "      <td>nokeyword</td>\n",
       "      <td>nolocation</td>\n",
       "      <td>there is a forest fire at spot pond goose are ...</td>\n",
       "    </tr>\n",
       "    <tr>\n",
       "      <th>3</th>\n",
       "      <td>9</td>\n",
       "      <td>nokeyword</td>\n",
       "      <td>nolocation</td>\n",
       "      <td>apocalypse lighting spokane wildfire</td>\n",
       "    </tr>\n",
       "    <tr>\n",
       "      <th>4</th>\n",
       "      <td>11</td>\n",
       "      <td>nokeyword</td>\n",
       "      <td>nolocation</td>\n",
       "      <td>typhoon soudelor kill in china and taiwan</td>\n",
       "    </tr>\n",
       "  </tbody>\n",
       "</table>\n",
       "</div>"
      ],
      "text/plain": [
       "   id    keyword    location  \\\n",
       "0   0  nokeyword  nolocation   \n",
       "1   2  nokeyword  nolocation   \n",
       "2   3  nokeyword  nolocation   \n",
       "3   9  nokeyword  nolocation   \n",
       "4  11  nokeyword  nolocation   \n",
       "\n",
       "                                                text  \n",
       "0                 just happened a terrible car crash  \n",
       "1  heard about earthquake is different city stay ...  \n",
       "2  there is a forest fire at spot pond goose are ...  \n",
       "3               apocalypse lighting spokane wildfire  \n",
       "4          typhoon soudelor kill in china and taiwan  "
      ]
     },
     "execution_count": 9,
     "metadata": {},
     "output_type": "execute_result"
    }
   ],
   "source": [
    "test_df.head()"
   ]
  },
  {
   "cell_type": "markdown",
   "metadata": {},
   "source": [
    "#### How good does my model have to be to outperform the naive approach (i.e., no tweet is about a disaster)?"
   ]
  },
  {
   "cell_type": "code",
   "execution_count": 10,
   "metadata": {},
   "outputs": [
    {
     "name": "stdout",
     "output_type": "stream",
     "text": [
      "Class probabilities:  {0: 0.5737136763529725, 1: 0.42628632364702745} \n",
      "Chance tweet is not about a real disaster:  0.5737\n"
     ]
    }
   ],
   "source": [
    "p_classes = dict(train_df['target'].value_counts(normalize=True))\n",
    "naive_approach = p_classes[0]\n",
    "print('Class probabilities: ', p_classes,\n",
    "      '\\nChance tweet is not about a real disaster: ', np.round(naive_approach, decimals = 4))"
   ]
  },
  {
   "cell_type": "markdown",
   "metadata": {},
   "source": [
    "#### Set up a DataFrame to hold scoring information, for final model selection."
   ]
  },
  {
   "cell_type": "code",
   "execution_count": 11,
   "metadata": {},
   "outputs": [],
   "source": [
    "scoring_df = pd.DataFrame(columns = ['Model', 'Vectorizer', 'Text_Treatment', 'Mean_F1_Score', 'F1_Std_Dev'])"
   ]
  },
  {
   "cell_type": "markdown",
   "metadata": {},
   "source": [
    "### Bagging using sklearn CountVectorizer"
   ]
  },
  {
   "cell_type": "markdown",
   "metadata": {},
   "source": [
    "First set of experiments will include stop words."
   ]
  },
  {
   "cell_type": "code",
   "execution_count": 12,
   "metadata": {},
   "outputs": [],
   "source": [
    "count_vectorizer = CountVectorizer(strip_accents = 'unicode',\n",
    "                                   ngram_range = (1, 2),\n",
    "                                   binary = True)"
   ]
  },
  {
   "cell_type": "code",
   "execution_count": 13,
   "metadata": {},
   "outputs": [],
   "source": [
    "train_vector_df = count_vectorizer.fit_transform(train_df['text'])"
   ]
  },
  {
   "cell_type": "code",
   "execution_count": 14,
   "metadata": {},
   "outputs": [
    {
     "data": {
      "text/plain": [
       "(7502, 70574)"
      ]
     },
     "execution_count": 14,
     "metadata": {},
     "output_type": "execute_result"
    }
   ],
   "source": [
    "train_vector_df.shape"
   ]
  },
  {
   "cell_type": "code",
   "execution_count": 15,
   "metadata": {},
   "outputs": [],
   "source": [
    "train_vector_stemmed_df = count_vectorizer.fit_transform(stemmed_train_df['text'])"
   ]
  },
  {
   "cell_type": "code",
   "execution_count": 16,
   "metadata": {},
   "outputs": [
    {
     "data": {
      "text/plain": [
       "(7502, 65602)"
      ]
     },
     "execution_count": 16,
     "metadata": {},
     "output_type": "execute_result"
    }
   ],
   "source": [
    "train_vector_stemmed_df.shape"
   ]
  },
  {
   "cell_type": "code",
   "execution_count": 17,
   "metadata": {},
   "outputs": [],
   "source": [
    "train_vector_lemma_df = count_vectorizer.fit_transform(lemmatized_train_df['text'])"
   ]
  },
  {
   "cell_type": "code",
   "execution_count": 18,
   "metadata": {},
   "outputs": [],
   "source": [
    "vector_pickled = pickle.dumps(count_vectorizer)"
   ]
  },
  {
   "cell_type": "code",
   "execution_count": 19,
   "metadata": {},
   "outputs": [
    {
     "data": {
      "text/plain": [
       "(7502, 68135)"
      ]
     },
     "execution_count": 19,
     "metadata": {},
     "output_type": "execute_result"
    }
   ],
   "source": [
    "train_vector_lemma_df.shape"
   ]
  },
  {
   "cell_type": "markdown",
   "metadata": {},
   "source": [
    "Second set of experiments will remove stop words, to see if that improves performance."
   ]
  },
  {
   "cell_type": "code",
   "execution_count": 20,
   "metadata": {},
   "outputs": [],
   "source": [
    "count_vectorizer = CountVectorizer(strip_accents = 'unicode',\n",
    "                                   stop_words = stopwords.words('english'),\n",
    "                                   ngram_range = (1, 2),\n",
    "                                   binary = True)"
   ]
  },
  {
   "cell_type": "code",
   "execution_count": 21,
   "metadata": {},
   "outputs": [],
   "source": [
    "train_vector_no_stops_df = count_vectorizer.fit_transform(train_df['text'])"
   ]
  },
  {
   "cell_type": "code",
   "execution_count": 22,
   "metadata": {},
   "outputs": [
    {
     "data": {
      "text/plain": [
       "(7502, 57913)"
      ]
     },
     "execution_count": 22,
     "metadata": {},
     "output_type": "execute_result"
    }
   ],
   "source": [
    "train_vector_no_stops_df.shape"
   ]
  },
  {
   "cell_type": "code",
   "execution_count": 23,
   "metadata": {},
   "outputs": [],
   "source": [
    "train_vector_stemmed_no_stops_df = count_vectorizer.fit_transform(stemmed_train_df['text'])"
   ]
  },
  {
   "cell_type": "code",
   "execution_count": 24,
   "metadata": {},
   "outputs": [
    {
     "data": {
      "text/plain": [
       "(7502, 55077)"
      ]
     },
     "execution_count": 24,
     "metadata": {},
     "output_type": "execute_result"
    }
   ],
   "source": [
    "train_vector_stemmed_no_stops_df.shape"
   ]
  },
  {
   "cell_type": "code",
   "execution_count": 25,
   "metadata": {},
   "outputs": [],
   "source": [
    "train_vector_lemma_no_stops_df = count_vectorizer.fit_transform(lemmatized_train_df['text'])"
   ]
  },
  {
   "cell_type": "code",
   "execution_count": 26,
   "metadata": {},
   "outputs": [
    {
     "data": {
      "text/plain": [
       "(7502, 56481)"
      ]
     },
     "execution_count": 26,
     "metadata": {},
     "output_type": "execute_result"
    }
   ],
   "source": [
    "train_vector_lemma_no_stops_df.shape"
   ]
  },
  {
   "cell_type": "markdown",
   "metadata": {},
   "source": [
    "#### Logistic Regression on CountVectorizer treated training data"
   ]
  },
  {
   "cell_type": "code",
   "execution_count": 27,
   "metadata": {},
   "outputs": [
    {
     "name": "stdout",
     "output_type": "stream",
     "text": [
      "0.6290542858178572 +/- 0.05930569871502275\n"
     ]
    }
   ],
   "source": [
    "# basic LogReg\n",
    "clf_logreg = LogisticRegression(class_weight = 'balanced')\n",
    "\n",
    "scores = model_selection.cross_val_score(clf_logreg,\n",
    "                                         train_vector_df, train_df[\"target\"],\n",
    "                                         cv=5,\n",
    "                                         scoring=\"f1\")\n",
    "\n",
    "mean_score = scores.mean()\n",
    "stability = scores.std()\n",
    "print(mean_score, '+/-', stability)\n",
    "\n",
    "score_row = pd.DataFrame.from_dict({'Model' : ['LogisticRegression'],\n",
    "                                    'Vectorizer' : ['CountVectorizer'],\n",
    "                                    'Text_Treatment' : ['None'],\n",
    "                                    'Mean_F1_Score' : [mean_score],\n",
    "                                    'F1_Std_Dev' : [stability]})\n",
    "scoring_df = scoring_df.append(score_row, ignore_index = True)"
   ]
  },
  {
   "cell_type": "code",
   "execution_count": 28,
   "metadata": {},
   "outputs": [
    {
     "name": "stdout",
     "output_type": "stream",
     "text": [
      "0.6382107580107526 +/- 0.05755892959272567\n"
     ]
    }
   ],
   "source": [
    "# LogRegCV\n",
    "clf_logreg_cv = LogisticRegressionCV(class_weight = 'balanced')\n",
    "\n",
    "scores = model_selection.cross_val_score(clf_logreg_cv,\n",
    "                                         train_vector_df, train_df[\"target\"],\n",
    "                                         cv=5,\n",
    "                                         scoring=\"f1\")\n",
    "\n",
    "mean_score = scores.mean()\n",
    "stability = scores.std()\n",
    "print(mean_score, '+/-', stability)\n",
    "\n",
    "score_row = pd.DataFrame.from_dict({'Model' : ['LogisticRegressionCV'],\n",
    "                                    'Vectorizer' : ['CountVectorizer'],\n",
    "                                    'Text_Treatment' : ['None'],\n",
    "                                    'Mean_F1_Score' : [mean_score],\n",
    "                                    'F1_Std_Dev' : [stability]})\n",
    "scoring_df = scoring_df.append(score_row, ignore_index = True)"
   ]
  },
  {
   "cell_type": "code",
   "execution_count": 29,
   "metadata": {},
   "outputs": [
    {
     "name": "stdout",
     "output_type": "stream",
     "text": [
      "0.6282724542006161 +/- 0.05454954304699235\n"
     ]
    }
   ],
   "source": [
    "# LogReg, stemmed\n",
    "clf = LogisticRegression(class_weight = 'balanced')\n",
    "scores = model_selection.cross_val_score(clf,\n",
    "                                         train_vector_stemmed_df, train_df[\"target\"],\n",
    "                                         cv=5,\n",
    "                                         scoring=\"f1\")\n",
    "mean_score = scores.mean()\n",
    "stability = scores.std()\n",
    "print(mean_score, '+/-', stability)\n",
    "\n",
    "score_row = pd.DataFrame.from_dict({'Model' : ['LogisticRegression'],\n",
    "                                    'Vectorizer' : ['CountVectorizer'],\n",
    "                                    'Text_Treatment' : ['Stemmed'],\n",
    "                                    'Mean_F1_Score' : [mean_score],\n",
    "                                    'F1_Std_Dev' : [stability]})\n",
    "scoring_df = scoring_df.append(score_row, ignore_index = True)"
   ]
  },
  {
   "cell_type": "code",
   "execution_count": 30,
   "metadata": {},
   "outputs": [
    {
     "name": "stdout",
     "output_type": "stream",
     "text": [
      "0.6377161392519037 +/- 0.054316053736676334\n"
     ]
    }
   ],
   "source": [
    "# LogReg, lemmatized\n",
    "clf = LogisticRegression(class_weight = 'balanced')\n",
    "scores = model_selection.cross_val_score(clf,\n",
    "                                         train_vector_lemma_df, train_df[\"target\"],\n",
    "                                         cv=5,\n",
    "                                         scoring=\"f1\")\n",
    "mean_score = scores.mean()\n",
    "stability = scores.std()\n",
    "print(mean_score, '+/-', stability)\n",
    "\n",
    "score_row = pd.DataFrame.from_dict({'Model' : ['LogisticRegression'],\n",
    "                                    'Vectorizer' : ['CountVectorizer'],\n",
    "                                    'Text_Treatment' : ['Lemmatized'],\n",
    "                                    'Mean_F1_Score' : [mean_score],\n",
    "                                    'F1_Std_Dev' : [stability]})\n",
    "scoring_df = scoring_df.append(score_row, ignore_index = True)"
   ]
  },
  {
   "cell_type": "code",
   "execution_count": 31,
   "metadata": {},
   "outputs": [
    {
     "name": "stdout",
     "output_type": "stream",
     "text": [
      "0.5804990476888585 +/- 0.07410121362572519\n"
     ]
    }
   ],
   "source": [
    "# LogReg, no stop words\n",
    "clf = LogisticRegression(class_weight = 'balanced')\n",
    "scores = model_selection.cross_val_score(clf,\n",
    "                                         train_vector_no_stops_df, train_df[\"target\"],\n",
    "                                         cv=5,\n",
    "                                         scoring=\"f1\")\n",
    "mean_score = scores.mean()\n",
    "stability = scores.std()\n",
    "print(mean_score, '+/-', stability)\n",
    "\n",
    "score_row = pd.DataFrame.from_dict({'Model' : ['LogisticRegression'],\n",
    "                                    'Vectorizer' : ['CountVectorizer'],\n",
    "                                    'Text_Treatment' : ['Removed stopwords'],\n",
    "                                    'Mean_F1_Score' : [mean_score],\n",
    "                                    'F1_Std_Dev' : [stability]})\n",
    "scoring_df = scoring_df.append(score_row, ignore_index = True)"
   ]
  },
  {
   "cell_type": "code",
   "execution_count": 32,
   "metadata": {},
   "outputs": [
    {
     "name": "stdout",
     "output_type": "stream",
     "text": [
      "0.5907999024775348 +/- 0.06233658166058654\n"
     ]
    }
   ],
   "source": [
    "# LogReg, stemmed, no stop words\n",
    "clf = LogisticRegression(class_weight = 'balanced')\n",
    "scores = model_selection.cross_val_score(clf,\n",
    "                                         train_vector_stemmed_no_stops_df, train_df[\"target\"],\n",
    "                                         cv=5,\n",
    "                                         scoring=\"f1\")\n",
    "mean_score = scores.mean()\n",
    "stability = scores.std()\n",
    "print(mean_score, '+/-', stability)\n",
    "\n",
    "score_row = pd.DataFrame.from_dict({'Model' : ['LogisticRegression'],\n",
    "                                    'Vectorizer' : ['CountVectorizer'],\n",
    "                                    'Text_Treatment' : ['Removed stopwords, stemmed'],\n",
    "                                    'Mean_F1_Score' : [mean_score],\n",
    "                                    'F1_Std_Dev' : [stability]})\n",
    "scoring_df = scoring_df.append(score_row, ignore_index = True)"
   ]
  },
  {
   "cell_type": "code",
   "execution_count": 33,
   "metadata": {},
   "outputs": [
    {
     "name": "stdout",
     "output_type": "stream",
     "text": [
      "0.5888661506439731 +/- 0.06521271412619133\n"
     ]
    }
   ],
   "source": [
    "# LogReg, lemmatized, no stop words\n",
    "clf = LogisticRegression(class_weight = 'balanced')\n",
    "scores = model_selection.cross_val_score(clf,\n",
    "                                         train_vector_lemma_no_stops_df, train_df[\"target\"],\n",
    "                                         cv=5,\n",
    "                                         scoring=\"f1\")\n",
    "mean_score = scores.mean()\n",
    "stability = scores.std()\n",
    "print(mean_score, '+/-', stability)\n",
    "\n",
    "score_row = pd.DataFrame.from_dict({'Model' : ['LogisticRegression'],\n",
    "                                    'Vectorizer' : ['CountVectorizer'],\n",
    "                                    'Text_Treatment' : ['Removed stopwords, lemmatized'],\n",
    "                                    'Mean_F1_Score' : [mean_score],\n",
    "                                    'F1_Std_Dev' : [stability]})\n",
    "scoring_df = scoring_df.append(score_row, ignore_index = True)"
   ]
  },
  {
   "cell_type": "markdown",
   "metadata": {},
   "source": [
    "#### Multinomial Bayes on CountVectorizer treated training data"
   ]
  },
  {
   "cell_type": "code",
   "execution_count": 34,
   "metadata": {},
   "outputs": [
    {
     "name": "stdout",
     "output_type": "stream",
     "text": [
      "0.6749567532885051 +/- 0.0388777822155517\n"
     ]
    }
   ],
   "source": [
    "# basic Multinomial Bayes\n",
    "clf = MultinomialNB()\n",
    "scores = model_selection.cross_val_score(clf,\n",
    "                                         train_vector_df, train_df[\"target\"],\n",
    "                                         cv=5,\n",
    "                                         scoring=\"f1\")\n",
    "mean_score = scores.mean()\n",
    "stability = scores.std()\n",
    "print(mean_score, '+/-', stability)\n",
    "\n",
    "score_row = pd.DataFrame.from_dict({'Model' : ['MultinomialNB'],\n",
    "                                    'Vectorizer' : ['CountVectorizer'],\n",
    "                                    'Text_Treatment' : ['None'],\n",
    "                                    'Mean_F1_Score' : [mean_score],\n",
    "                                    'F1_Std_Dev' : [stability]})\n",
    "scoring_df = scoring_df.append(score_row, ignore_index = True)"
   ]
  },
  {
   "cell_type": "code",
   "execution_count": 35,
   "metadata": {},
   "outputs": [
    {
     "name": "stdout",
     "output_type": "stream",
     "text": [
      "0.679516177528353 +/- 0.04514210200517351\n"
     ]
    }
   ],
   "source": [
    "# Multinomial Bayes, stemmed\n",
    "clf = MultinomialNB()\n",
    "scores = model_selection.cross_val_score(clf,\n",
    "                                         train_vector_stemmed_df, train_df[\"target\"],\n",
    "                                         cv=5,\n",
    "                                         scoring=\"f1\")\n",
    "mean_score = scores.mean()\n",
    "stability = scores.std()\n",
    "print(mean_score, '+/-', stability)\n",
    "\n",
    "score_row = pd.DataFrame.from_dict({'Model' : ['MultinomialNB'],\n",
    "                                    'Vectorizer' : ['CountVectorizer'],\n",
    "                                    'Text_Treatment' : ['Stemmed'],\n",
    "                                    'Mean_F1_Score' : [mean_score],\n",
    "                                    'F1_Std_Dev' : [stability]})\n",
    "scoring_df = scoring_df.append(score_row, ignore_index = True)"
   ]
  },
  {
   "cell_type": "code",
   "execution_count": 36,
   "metadata": {},
   "outputs": [
    {
     "name": "stdout",
     "output_type": "stream",
     "text": [
      "0.6838672747769288 +/- 0.04188014881745761\n"
     ]
    }
   ],
   "source": [
    "# Multinomial Bayes, lemmatized\n",
    "clf = MultinomialNB()\n",
    "scores = model_selection.cross_val_score(clf,\n",
    "                                         train_vector_lemma_df, train_df[\"target\"],\n",
    "                                         cv=5,\n",
    "                                         scoring=\"f1\")\n",
    "mean_score = scores.mean()\n",
    "stability = scores.std()\n",
    "print(mean_score, '+/-', stability)\n",
    "\n",
    "score_row = pd.DataFrame.from_dict({'Model' : ['MultinomialNB'],\n",
    "                                    'Vectorizer' : ['CountVectorizer'],\n",
    "                                    'Text_Treatment' : ['Lemmatized'],\n",
    "                                    'Mean_F1_Score' : [mean_score],\n",
    "                                    'F1_Std_Dev' : [stability]})\n",
    "scoring_df = scoring_df.append(score_row, ignore_index = True)"
   ]
  },
  {
   "cell_type": "code",
   "execution_count": 37,
   "metadata": {},
   "outputs": [
    {
     "name": "stdout",
     "output_type": "stream",
     "text": [
      "0.6600585905094238 +/- 0.04066299988918634\n"
     ]
    }
   ],
   "source": [
    "# Multinomial Bayes, no stop words\n",
    "clf = MultinomialNB()\n",
    "scores = model_selection.cross_val_score(clf,\n",
    "                                         train_vector_no_stops_df, train_df[\"target\"],\n",
    "                                         cv=5,\n",
    "                                         scoring=\"f1\")\n",
    "mean_score = scores.mean()\n",
    "stability = scores.std()\n",
    "print(mean_score, '+/-', stability)\n",
    "\n",
    "score_row = pd.DataFrame.from_dict({'Model' : ['MultinomialNB'],\n",
    "                                    'Vectorizer' : ['CountVectorizer'],\n",
    "                                    'Text_Treatment' : ['Removed stopwords'],\n",
    "                                    'Mean_F1_Score' : [mean_score],\n",
    "                                    'F1_Std_Dev' : [stability]})\n",
    "scoring_df = scoring_df.append(score_row, ignore_index = True)"
   ]
  },
  {
   "cell_type": "code",
   "execution_count": 38,
   "metadata": {},
   "outputs": [
    {
     "name": "stdout",
     "output_type": "stream",
     "text": [
      "0.6593484695899581 +/- 0.04559206635857508\n"
     ]
    }
   ],
   "source": [
    "# Multinomial Bayes, stemmed, no stop words\n",
    "clf = MultinomialNB()\n",
    "scores = model_selection.cross_val_score(clf,\n",
    "                                         train_vector_stemmed_no_stops_df, train_df[\"target\"],\n",
    "                                         cv=5,\n",
    "                                         scoring=\"f1\")\n",
    "mean_score = scores.mean()\n",
    "stability = scores.std()\n",
    "print(mean_score, '+/-', stability)\n",
    "\n",
    "score_row = pd.DataFrame.from_dict({'Model' : ['MultinomialNB'],\n",
    "                                    'Vectorizer' : ['CountVectorizer'],\n",
    "                                    'Text_Treatment' : ['Removed stopwords, stemmed'],\n",
    "                                    'Mean_F1_Score' : [mean_score],\n",
    "                                    'F1_Std_Dev' : [stability]})\n",
    "scoring_df = scoring_df.append(score_row, ignore_index = True)"
   ]
  },
  {
   "cell_type": "code",
   "execution_count": 39,
   "metadata": {},
   "outputs": [
    {
     "name": "stdout",
     "output_type": "stream",
     "text": [
      "0.6607353953919963 +/- 0.04315073975283043\n"
     ]
    }
   ],
   "source": [
    "# Multinomial Bayes, lemmatized, no stop words\n",
    "clf = MultinomialNB()\n",
    "scores = model_selection.cross_val_score(clf,\n",
    "                                         train_vector_lemma_no_stops_df, train_df[\"target\"],\n",
    "                                         cv=5,\n",
    "                                         scoring=\"f1\")\n",
    "mean_score = scores.mean()\n",
    "stability = scores.std()\n",
    "print(mean_score, '+/-', stability)\n",
    "\n",
    "score_row = pd.DataFrame.from_dict({'Model' : ['MultinomialNB'],\n",
    "                                    'Vectorizer' : ['CountVectorizer'],\n",
    "                                    'Text_Treatment' : ['Removed stopwords, lemmatized'],\n",
    "                                    'Mean_F1_Score' : [mean_score],\n",
    "                                    'F1_Std_Dev' : [stability]})\n",
    "scoring_df = scoring_df.append(score_row, ignore_index = True)"
   ]
  },
  {
   "cell_type": "markdown",
   "metadata": {},
   "source": [
    "### Bagging and term frequency weighting using TD-IDF vectorization"
   ]
  },
  {
   "cell_type": "markdown",
   "metadata": {},
   "source": [
    "For the first set of experiments, I did not remove stopwords from the tweets to get a baseline for comparison."
   ]
  },
  {
   "cell_type": "code",
   "execution_count": 40,
   "metadata": {},
   "outputs": [],
   "source": [
    "tf_idf = TfidfVectorizer(ngram_range=(1, 1),\n",
    "                         max_df=0.5,\n",
    "                         min_df=2)"
   ]
  },
  {
   "cell_type": "code",
   "execution_count": 41,
   "metadata": {},
   "outputs": [],
   "source": [
    "train_tfidf_df = tf_idf.fit_transform(train_df['text'])"
   ]
  },
  {
   "cell_type": "code",
   "execution_count": 42,
   "metadata": {},
   "outputs": [
    {
     "data": {
      "text/plain": [
       "(7502, 6063)"
      ]
     },
     "execution_count": 42,
     "metadata": {},
     "output_type": "execute_result"
    }
   ],
   "source": [
    "train_tfidf_df.shape"
   ]
  },
  {
   "cell_type": "code",
   "execution_count": 43,
   "metadata": {},
   "outputs": [],
   "source": [
    "train_tfidf_stemmed_df = tf_idf.fit_transform(stemmed_train_df['text'])"
   ]
  },
  {
   "cell_type": "code",
   "execution_count": 44,
   "metadata": {},
   "outputs": [
    {
     "data": {
      "text/plain": [
       "(7502, 5000)"
      ]
     },
     "execution_count": 44,
     "metadata": {},
     "output_type": "execute_result"
    }
   ],
   "source": [
    "train_tfidf_stemmed_df.shape"
   ]
  },
  {
   "cell_type": "code",
   "execution_count": 45,
   "metadata": {},
   "outputs": [],
   "source": [
    "train_tfidf_lemmatized_df = tf_idf.fit_transform(lemmatized_train_df['text'])"
   ]
  },
  {
   "cell_type": "code",
   "execution_count": 46,
   "metadata": {},
   "outputs": [],
   "source": [
    "tf_idf_pickled = pickle.dumps(tf_idf)"
   ]
  },
  {
   "cell_type": "code",
   "execution_count": 47,
   "metadata": {},
   "outputs": [
    {
     "data": {
      "text/plain": [
       "(7502, 5578)"
      ]
     },
     "execution_count": 47,
     "metadata": {},
     "output_type": "execute_result"
    }
   ],
   "source": [
    "train_tfidf_lemmatized_df.shape"
   ]
  },
  {
   "cell_type": "markdown",
   "metadata": {},
   "source": [
    "For the second set of experiments using TF-IDF term weighting, I removed the stopwords."
   ]
  },
  {
   "cell_type": "code",
   "execution_count": 48,
   "metadata": {},
   "outputs": [],
   "source": [
    "tf_idf = TfidfVectorizer(stop_words = stopwords.words('english'),\n",
    "                         ngram_range=(1, 1),\n",
    "                         max_df=0.5,\n",
    "                         min_df=2)"
   ]
  },
  {
   "cell_type": "code",
   "execution_count": 49,
   "metadata": {},
   "outputs": [],
   "source": [
    "train_tfidf_no_stops_df = tf_idf.fit_transform(train_df['text'])"
   ]
  },
  {
   "cell_type": "code",
   "execution_count": 50,
   "metadata": {},
   "outputs": [
    {
     "data": {
      "text/plain": [
       "(7502, 5938)"
      ]
     },
     "execution_count": 50,
     "metadata": {},
     "output_type": "execute_result"
    }
   ],
   "source": [
    "train_tfidf_no_stops_df.shape"
   ]
  },
  {
   "cell_type": "code",
   "execution_count": 51,
   "metadata": {},
   "outputs": [],
   "source": [
    "train_tfidf_stemmed_no_stops_df = tf_idf.fit_transform(stemmed_train_df['text'])"
   ]
  },
  {
   "cell_type": "code",
   "execution_count": 52,
   "metadata": {},
   "outputs": [
    {
     "data": {
      "text/plain": [
       "(7502, 4898)"
      ]
     },
     "execution_count": 52,
     "metadata": {},
     "output_type": "execute_result"
    }
   ],
   "source": [
    "train_tfidf_stemmed_no_stops_df.shape"
   ]
  },
  {
   "cell_type": "code",
   "execution_count": 53,
   "metadata": {},
   "outputs": [],
   "source": [
    "train_tfidf_lemmatized_no_stops_df = tf_idf.fit_transform(lemmatized_train_df['text'])"
   ]
  },
  {
   "cell_type": "code",
   "execution_count": 54,
   "metadata": {},
   "outputs": [
    {
     "data": {
      "text/plain": [
       "(7502, 5457)"
      ]
     },
     "execution_count": 54,
     "metadata": {},
     "output_type": "execute_result"
    }
   ],
   "source": [
    "train_tfidf_lemmatized_no_stops_df.shape"
   ]
  },
  {
   "cell_type": "markdown",
   "metadata": {},
   "source": [
    "#### Logistic Regression on TF-IDF treated training data"
   ]
  },
  {
   "cell_type": "code",
   "execution_count": 55,
   "metadata": {},
   "outputs": [
    {
     "name": "stdout",
     "output_type": "stream",
     "text": [
      "0.661170084735614 +/- 0.04248994235989204\n"
     ]
    }
   ],
   "source": [
    "# basic LogReg\n",
    "clf = LogisticRegression(class_weight = 'balanced')\n",
    "scores = model_selection.cross_val_score(clf,\n",
    "                                         train_tfidf_df, train_df[\"target\"],\n",
    "                                         cv=5,\n",
    "                                         scoring=\"f1\")\n",
    "mean_score = scores.mean()\n",
    "stability = scores.std()\n",
    "print(mean_score, '+/-', stability)\n",
    "\n",
    "score_row = pd.DataFrame.from_dict({'Model' : ['LogisticRegression'],\n",
    "                                    'Vectorizer' : ['TfidfVectorizer'],\n",
    "                                    'Text_Treatment' : ['None'],\n",
    "                                    'Mean_F1_Score' : [mean_score],\n",
    "                                    'F1_Std_Dev' : [stability]})\n",
    "scoring_df = scoring_df.append(score_row, ignore_index = True)"
   ]
  },
  {
   "cell_type": "code",
   "execution_count": 56,
   "metadata": {},
   "outputs": [
    {
     "name": "stdout",
     "output_type": "stream",
     "text": [
      "0.6649059406545451 +/- 0.045688643692764035\n"
     ]
    }
   ],
   "source": [
    "# LogReg, stemmed\n",
    "clf = LogisticRegression(class_weight = 'balanced')\n",
    "scores = model_selection.cross_val_score(clf,\n",
    "                                         train_tfidf_stemmed_df, train_df[\"target\"],\n",
    "                                         cv=5,\n",
    "                                         scoring=\"f1\")\n",
    "mean_score = scores.mean()\n",
    "stability = scores.std()\n",
    "print(mean_score, '+/-', stability)\n",
    "\n",
    "score_row = pd.DataFrame.from_dict({'Model' : ['LogisticRegression'],\n",
    "                                    'Vectorizer' : ['TfidfVectorizer'],\n",
    "                                    'Text_Treatment' : ['Stemmed'],\n",
    "                                    'Mean_F1_Score' : [mean_score],\n",
    "                                    'F1_Std_Dev' : [stability]})\n",
    "scoring_df = scoring_df.append(score_row, ignore_index = True)"
   ]
  },
  {
   "cell_type": "code",
   "execution_count": 57,
   "metadata": {},
   "outputs": [
    {
     "name": "stdout",
     "output_type": "stream",
     "text": [
      "0.6675572000390637 +/- 0.04109215054227096\n"
     ]
    }
   ],
   "source": [
    "# LogReg, lemmatized\n",
    "clf = LogisticRegression(class_weight = 'balanced')\n",
    "scores = model_selection.cross_val_score(clf,\n",
    "                                         train_tfidf_lemmatized_df, train_df[\"target\"],\n",
    "                                         cv=5,\n",
    "                                         scoring=\"f1\")\n",
    "mean_score = scores.mean()\n",
    "stability = scores.std()\n",
    "print(mean_score, '+/-', stability)\n",
    "\n",
    "score_row = pd.DataFrame.from_dict({'Model' : ['LogisticRegression'],\n",
    "                                    'Vectorizer' : ['TfidfVectorizer'],\n",
    "                                    'Text_Treatment' : ['Lemmatized'],\n",
    "                                    'Mean_F1_Score' : [mean_score],\n",
    "                                    'F1_Std_Dev' : [stability]})\n",
    "scoring_df = scoring_df.append(score_row, ignore_index = True)"
   ]
  },
  {
   "cell_type": "code",
   "execution_count": 58,
   "metadata": {},
   "outputs": [
    {
     "name": "stdout",
     "output_type": "stream",
     "text": [
      "0.6741968290118585 +/- 0.04037677659541278\n"
     ]
    }
   ],
   "source": [
    "# LogRegCV, lemmatized\n",
    "clf = LogisticRegressionCV(class_weight = 'balanced')\n",
    "scores = model_selection.cross_val_score(clf,\n",
    "                                         train_tfidf_lemmatized_df, train_df[\"target\"],\n",
    "                                         cv=5,\n",
    "                                         scoring=\"f1\")\n",
    "mean_score = scores.mean()\n",
    "stability = scores.std()\n",
    "print(mean_score, '+/-', stability)\n",
    "\n",
    "score_row = pd.DataFrame.from_dict({'Model' : ['LogisticRegressionCV'],\n",
    "                                    'Vectorizer' : ['TfidfVectorizer'],\n",
    "                                    'Text_Treatment' : ['Lemmatized'],\n",
    "                                    'Mean_F1_Score' : [mean_score],\n",
    "                                    'F1_Std_Dev' : [stability]})\n",
    "scoring_df = scoring_df.append(score_row, ignore_index = True)"
   ]
  },
  {
   "cell_type": "code",
   "execution_count": 59,
   "metadata": {},
   "outputs": [
    {
     "name": "stdout",
     "output_type": "stream",
     "text": [
      "0.6239710913054827 +/- 0.04929118579662498\n"
     ]
    }
   ],
   "source": [
    "# LogReg, no stop words\n",
    "clf = LogisticRegression(class_weight = 'balanced')\n",
    "scores = model_selection.cross_val_score(clf,\n",
    "                                         train_tfidf_no_stops_df, train_df[\"target\"],\n",
    "                                         cv=5,\n",
    "                                         scoring=\"f1\")\n",
    "mean_score = scores.mean()\n",
    "stability = scores.std()\n",
    "print(mean_score, '+/-', stability)\n",
    "\n",
    "score_row = pd.DataFrame.from_dict({'Model' : ['LogisticRegression'],\n",
    "                                    'Vectorizer' : ['TfidfVectorizer'],\n",
    "                                    'Text_Treatment' : ['Removed stopwords'],\n",
    "                                    'Mean_F1_Score' : [mean_score],\n",
    "                                    'F1_Std_Dev' : [stability]})\n",
    "scoring_df = scoring_df.append(score_row, ignore_index = True)"
   ]
  },
  {
   "cell_type": "code",
   "execution_count": 60,
   "metadata": {},
   "outputs": [
    {
     "name": "stdout",
     "output_type": "stream",
     "text": [
      "0.6297679507030749 +/- 0.048122300969477526\n"
     ]
    }
   ],
   "source": [
    "# LogReg, stemmed, no stop words\n",
    "clf = LogisticRegression(class_weight = 'balanced')\n",
    "scores = model_selection.cross_val_score(clf,\n",
    "                                         train_tfidf_stemmed_no_stops_df, train_df[\"target\"],\n",
    "                                         cv=5,\n",
    "                                         scoring=\"f1\")\n",
    "mean_score = scores.mean()\n",
    "stability = scores.std()\n",
    "print(mean_score, '+/-', stability)\n",
    "\n",
    "score_row = pd.DataFrame.from_dict({'Model' : ['LogisticRegression'],\n",
    "                                    'Vectorizer' : ['TfidfVectorizer'],\n",
    "                                    'Text_Treatment' : ['Removed stopwords, stemmed'],\n",
    "                                    'Mean_F1_Score' : [mean_score],\n",
    "                                    'F1_Std_Dev' : [stability]})\n",
    "scoring_df = scoring_df.append(score_row, ignore_index = True)"
   ]
  },
  {
   "cell_type": "code",
   "execution_count": 61,
   "metadata": {},
   "outputs": [
    {
     "name": "stdout",
     "output_type": "stream",
     "text": [
      "0.6309529869872104 +/- 0.04725685211221847\n"
     ]
    }
   ],
   "source": [
    "# LogReg, lemmatized, no stop words\n",
    "clf = LogisticRegression(class_weight = 'balanced')\n",
    "scores = model_selection.cross_val_score(clf,\n",
    "                                         train_tfidf_lemmatized_no_stops_df, train_df[\"target\"],\n",
    "                                         cv=5,\n",
    "                                         scoring=\"f1\")\n",
    "mean_score = scores.mean()\n",
    "stability = scores.std()\n",
    "print(mean_score, '+/-', stability)\n",
    "\n",
    "score_row = pd.DataFrame.from_dict({'Model' : ['LogisticRegression'],\n",
    "                                    'Vectorizer' : ['TfidfVectorizer'],\n",
    "                                    'Text_Treatment' : ['Removed stopwords, lemmatized'],\n",
    "                                    'Mean_F1_Score' : [mean_score],\n",
    "                                    'F1_Std_Dev' : [stability]})\n",
    "scoring_df = scoring_df.append(score_row, ignore_index = True)"
   ]
  },
  {
   "cell_type": "markdown",
   "metadata": {},
   "source": [
    "#### Multinomial Bayes on TF-IDF treated training data"
   ]
  },
  {
   "cell_type": "code",
   "execution_count": 62,
   "metadata": {},
   "outputs": [
    {
     "name": "stdout",
     "output_type": "stream",
     "text": [
      "0.6554771472834363 +/- 0.05697076934045421\n"
     ]
    }
   ],
   "source": [
    "# basic Multinomial Bayes\n",
    "clf = MultinomialNB()\n",
    "scores = model_selection.cross_val_score(clf,\n",
    "                                         train_tfidf_df, train_df[\"target\"],\n",
    "                                         cv=5,\n",
    "                                         scoring=\"f1\")\n",
    "mean_score = scores.mean()\n",
    "stability = scores.std()\n",
    "print(mean_score, '+/-', stability)\n",
    "\n",
    "score_row = pd.DataFrame.from_dict({'Model' : ['MultinomialNB'],\n",
    "                                    'Vectorizer' : ['TfidfVectorizer'],\n",
    "                                    'Text_Treatment' : ['None'],\n",
    "                                    'Mean_F1_Score' : [mean_score],\n",
    "                                    'F1_Std_Dev' : [stability]})\n",
    "scoring_df = scoring_df.append(score_row, ignore_index = True)"
   ]
  },
  {
   "cell_type": "code",
   "execution_count": 63,
   "metadata": {},
   "outputs": [
    {
     "name": "stdout",
     "output_type": "stream",
     "text": [
      "0.6601653543759294 +/- 0.06010001540846695\n"
     ]
    }
   ],
   "source": [
    "# Multinomial Bayes, stemmed\n",
    "clf = MultinomialNB()\n",
    "scores = model_selection.cross_val_score(clf,\n",
    "                                         train_tfidf_stemmed_df, train_df[\"target\"],\n",
    "                                         cv=5,\n",
    "                                         scoring=\"f1\")\n",
    "mean_score = scores.mean()\n",
    "stability = scores.std()\n",
    "print(mean_score, '+/-', stability)\n",
    "\n",
    "score_row = pd.DataFrame.from_dict({'Model' : ['MultinomialNB'],\n",
    "                                    'Vectorizer' : ['TfidfVectorizer'],\n",
    "                                    'Text_Treatment' : ['Stemmed'],\n",
    "                                    'Mean_F1_Score' : [mean_score],\n",
    "                                    'F1_Std_Dev' : [stability]})\n",
    "scoring_df = scoring_df.append(score_row, ignore_index = True)"
   ]
  },
  {
   "cell_type": "code",
   "execution_count": 64,
   "metadata": {},
   "outputs": [
    {
     "name": "stdout",
     "output_type": "stream",
     "text": [
      "0.6617217901213649 +/- 0.055086839634722246\n"
     ]
    }
   ],
   "source": [
    "# Multinomial Bayes, lemmatized\n",
    "clf = MultinomialNB()\n",
    "scores = model_selection.cross_val_score(clf,\n",
    "                                         train_tfidf_lemmatized_df, train_df[\"target\"],\n",
    "                                         cv=5,\n",
    "                                         scoring=\"f1\")\n",
    "mean_score = scores.mean()\n",
    "stability = scores.std()\n",
    "print(mean_score, '+/-', stability)\n",
    "\n",
    "score_row = pd.DataFrame.from_dict({'Model' : ['MultinomialNB'],\n",
    "                                    'Vectorizer' : ['TfidfVectorizer'],\n",
    "                                    'Text_Treatment' : ['Lemmatized'],\n",
    "                                    'Mean_F1_Score' : [mean_score],\n",
    "                                    'F1_Std_Dev' : [stability]})\n",
    "scoring_df = scoring_df.append(score_row, ignore_index = True)"
   ]
  },
  {
   "cell_type": "code",
   "execution_count": 65,
   "metadata": {},
   "outputs": [
    {
     "name": "stdout",
     "output_type": "stream",
     "text": [
      "0.6478170987485605 +/- 0.054678210710489006\n"
     ]
    }
   ],
   "source": [
    "# Multinomial Bayes, no stop words\n",
    "clf = MultinomialNB()\n",
    "scores = model_selection.cross_val_score(clf,\n",
    "                                         train_tfidf_no_stops_df, train_df[\"target\"],\n",
    "                                         cv=5,\n",
    "                                         scoring=\"f1\")\n",
    "mean_score = scores.mean()\n",
    "stability = scores.std()\n",
    "print(mean_score, '+/-', stability)\n",
    "\n",
    "score_row = pd.DataFrame.from_dict({'Model' : ['MultinomialNB'],\n",
    "                                    'Vectorizer' : ['TfidfVectorizer'],\n",
    "                                    'Text_Treatment' : ['Removed stopwords'],\n",
    "                                    'Mean_F1_Score' : [mean_score],\n",
    "                                    'F1_Std_Dev' : [stability]})\n",
    "scoring_df = scoring_df.append(score_row, ignore_index = True)"
   ]
  },
  {
   "cell_type": "code",
   "execution_count": 66,
   "metadata": {},
   "outputs": [
    {
     "name": "stdout",
     "output_type": "stream",
     "text": [
      "0.6466233450531924 +/- 0.05253238685817721\n"
     ]
    }
   ],
   "source": [
    "# Multinomial Bayes, stemmed, no stop words\n",
    "clf = MultinomialNB()\n",
    "scores = model_selection.cross_val_score(clf,\n",
    "                                         train_tfidf_stemmed_no_stops_df, train_df[\"target\"],\n",
    "                                         cv=5,\n",
    "                                         scoring=\"f1\")\n",
    "mean_score = scores.mean()\n",
    "stability = scores.std()\n",
    "print(mean_score, '+/-', stability)\n",
    "\n",
    "score_row = pd.DataFrame.from_dict({'Model' : ['MultinomialNB'],\n",
    "                                    'Vectorizer' : ['TfidfVectorizer'],\n",
    "                                    'Text_Treatment' : ['Removed stopwords, stemmed'],\n",
    "                                    'Mean_F1_Score' : [mean_score],\n",
    "                                    'F1_Std_Dev' : [stability]})\n",
    "scoring_df = scoring_df.append(score_row, ignore_index = True)"
   ]
  },
  {
   "cell_type": "code",
   "execution_count": 67,
   "metadata": {},
   "outputs": [
    {
     "name": "stdout",
     "output_type": "stream",
     "text": [
      "0.6514290195889771 +/- 0.05372415943963887\n"
     ]
    }
   ],
   "source": [
    "# Multinomial Bayes, lemmatized, no stop words\n",
    "clf = MultinomialNB()\n",
    "scores = model_selection.cross_val_score(clf,\n",
    "                                         train_tfidf_lemmatized_no_stops_df, train_df[\"target\"],\n",
    "                                         cv=5,\n",
    "                                         scoring=\"f1\")\n",
    "mean_score = scores.mean()\n",
    "stability = scores.std()\n",
    "print(mean_score, '+/-', stability)\n",
    "\n",
    "score_row = pd.DataFrame.from_dict({'Model' : ['MultinomialNB'],\n",
    "                                    'Vectorizer' : ['TfidfVectorizer'],\n",
    "                                    'Text_Treatment' : ['Removed stopwords, lemmatized'],\n",
    "                                    'Mean_F1_Score' : [mean_score],\n",
    "                                    'F1_Std_Dev' : [stability]})\n",
    "scoring_df = scoring_df.append(score_row, ignore_index = True)"
   ]
  },
  {
   "cell_type": "markdown",
   "metadata": {},
   "source": [
    "#### Support Vector Machine Models\n",
    "I used cross-validation to determine the parameters for all SVM models."
   ]
  },
  {
   "cell_type": "code",
   "execution_count": 68,
   "metadata": {},
   "outputs": [],
   "source": [
    "# Set up parameter grid for GridSearchCV testing\n",
    "\n",
    "# my_params = {'C': [0.1, 0.3, 0.5, 0.7],\n",
    "#              'kernel': ['rbf', 'poly', 'sigmoid'],\n",
    "#              'degree': [2, 3],\n",
    "#              'gamma' : ['auto', 'scale'],\n",
    "#              'class_weight' : ['balanced'],\n",
    "#              'random_state' : [42],\n",
    "#              'probability' : [False, True],\n",
    "# #              'shrinking' : [False, True],\n",
    "#              'coef0' : [1e2, 0.1, 1, 10]}"
   ]
  },
  {
   "cell_type": "code",
   "execution_count": 69,
   "metadata": {},
   "outputs": [],
   "source": [
    "# GridSearchCV testing to find best parameters for SVM model\n",
    "\n",
    "# scorer = make_scorer(f1_score)\n",
    "# gs_clf = GridSearchCV(svm.SVC(),\n",
    "#                       param_grid = my_params,\n",
    "#                       scoring = scorer,\n",
    "#                       verbose = 1,\n",
    "#                       n_jobs = -1)\n",
    "# gs_clf.fit(train_tfidf_lemmatized_df, train_df[\"target\"])\n",
    "# print(gs_clf.best_params_, gs_clf.best_score_)\n",
    "\n",
    "# results:\n",
    "# {'C': 0.7,\n",
    "#  'class_weight': 'balanced',\n",
    "#  'coef0': 1,\n",
    "#  'degree': 2,\n",
    "#  'gamma': 'scale',\n",
    "#  'kernel': 'sigmoid',\n",
    "#  'probability': False,\n",
    "#  'random_state': 42}\n",
    "# 0.6660730647063914"
   ]
  },
  {
   "cell_type": "code",
   "execution_count": 115,
   "metadata": {},
   "outputs": [
    {
     "name": "stdout",
     "output_type": "stream",
     "text": [
      "0.6124490891205137 +/- 0.03292917904554958\n"
     ]
    }
   ],
   "source": [
    "# LSA -> SVM: CountVectorizer, raw\n",
    "svd = decomposition.TruncatedSVD(n_components = 100, random_state = 42)\n",
    "normalizer = preprocessing.Normalizer()\n",
    "\n",
    "clf_svc = svm.SVC(C = 0.5,\n",
    "              kernel = 'sigmoid',\n",
    "              degree = 2,\n",
    "              gamma = 'scale',\n",
    "              class_weight = 'balanced',\n",
    "              random_state = 42)\n",
    "\n",
    "pipe = pipeline.make_pipeline(svd, normalizer, clf_svc)\n",
    "\n",
    "scores = model_selection.cross_val_score(pipe,\n",
    "                                         train_vector_df, train_df[\"target\"],\n",
    "                                         cv=5,\n",
    "                                         scoring=\"f1\")\n",
    "mean_score = scores.mean()\n",
    "stability = scores.std()\n",
    "print(mean_score, '+/-', stability)\n",
    "\n",
    "score_row = pd.DataFrame.from_dict({'Model' : ['SVM'],\n",
    "                                    'Vectorizer' : ['LSA'],\n",
    "                                    'Text_Treatment' : ['None'],\n",
    "                                    'Mean_F1_Score' : [mean_score],\n",
    "                                    'F1_Std_Dev' : [stability]})\n",
    "scoring_df = scoring_df.append(score_row, ignore_index = True)"
   ]
  },
  {
   "cell_type": "code",
   "execution_count": 70,
   "metadata": {},
   "outputs": [
    {
     "name": "stdout",
     "output_type": "stream",
     "text": [
      "0.6422426503451424 +/- 0.027939842727464533\n"
     ]
    }
   ],
   "source": [
    "# LSA -> SVM: TF-IDF, raw\n",
    "svd = decomposition.TruncatedSVD(n_components = 100, random_state = 42)\n",
    "normalizer = preprocessing.Normalizer()\n",
    "\n",
    "clf_svc = svm.SVC(C = 0.5,\n",
    "              kernel = 'sigmoid',\n",
    "              degree = 2,\n",
    "              gamma = 'scale',\n",
    "              class_weight = 'balanced',\n",
    "              random_state = 42)\n",
    "\n",
    "pipe = pipeline.make_pipeline(svd, normalizer, clf_svc)\n",
    "\n",
    "scores = model_selection.cross_val_score(pipe,\n",
    "                                         train_tfidf_df, train_df[\"target\"],\n",
    "                                         cv=5,\n",
    "                                         scoring=\"f1\")\n",
    "mean_score = scores.mean()\n",
    "stability = scores.std()\n",
    "print(mean_score, '+/-', stability)\n",
    "\n",
    "score_row = pd.DataFrame.from_dict({'Model' : ['SVM'],\n",
    "                                    'Vectorizer' : ['TfidfVectorizer'],\n",
    "                                    'Text_Treatment' : ['None'],\n",
    "                                    'Mean_F1_Score' : [mean_score],\n",
    "                                    'F1_Std_Dev' : [stability]})\n",
    "scoring_df = scoring_df.append(score_row, ignore_index = True)"
   ]
  },
  {
   "cell_type": "code",
   "execution_count": 71,
   "metadata": {},
   "outputs": [
    {
     "name": "stdout",
     "output_type": "stream",
     "text": [
      "0.6516378542457344 +/- 0.030410924927612156\n"
     ]
    }
   ],
   "source": [
    "# LSA -> SVM: TF-IDF, stemmed\n",
    "svd = decomposition.TruncatedSVD(n_components = 100, random_state = 42)\n",
    "normalizer = preprocessing.Normalizer()\n",
    "\n",
    "clf_svc = svm.SVC(C = 0.5,\n",
    "              kernel = 'sigmoid',\n",
    "              degree = 2,\n",
    "              gamma = 'scale',\n",
    "              class_weight = 'balanced',\n",
    "              random_state = 42)\n",
    "\n",
    "pipe = pipeline.make_pipeline(svd, normalizer, clf_svc)\n",
    "\n",
    "scores = model_selection.cross_val_score(pipe,\n",
    "                                         train_tfidf_stemmed_df, train_df[\"target\"],\n",
    "                                         cv=5,\n",
    "                                         scoring=\"f1\")\n",
    "mean_score = scores.mean()\n",
    "stability = scores.std()\n",
    "print(mean_score, '+/-', stability)\n",
    "\n",
    "score_row = pd.DataFrame.from_dict({'Model' : ['SVM'],\n",
    "                                    'Vectorizer' : ['LSA'],\n",
    "                                    'Text_Treatment' : ['Stemmed'],\n",
    "                                    'Mean_F1_Score' : [mean_score],\n",
    "                                    'F1_Std_Dev' : [stability]})\n",
    "scoring_df = scoring_df.append(score_row, ignore_index = True)"
   ]
  },
  {
   "cell_type": "code",
   "execution_count": 72,
   "metadata": {},
   "outputs": [
    {
     "name": "stdout",
     "output_type": "stream",
     "text": [
      "0.653453506250657 +/- 0.029915676849887145\n"
     ]
    }
   ],
   "source": [
    "# LSA -> SVM: TF-IDF, lemmatized\n",
    "svd = decomposition.TruncatedSVD(n_components = 100, random_state = 42)\n",
    "normalizer = preprocessing.Normalizer()\n",
    "\n",
    "clf_svc = svm.SVC(C = 0.5,\n",
    "              kernel = 'sigmoid',\n",
    "              degree = 2,\n",
    "              gamma = 'scale',\n",
    "              class_weight = 'balanced',\n",
    "              random_state = 42)\n",
    "\n",
    "pipe = pipeline.make_pipeline(svd, normalizer, clf_svc)\n",
    "\n",
    "scores = model_selection.cross_val_score(pipe,\n",
    "                                         train_tfidf_lemmatized_df, train_df[\"target\"],\n",
    "                                         cv=5,\n",
    "                                         scoring=\"f1\")\n",
    "mean_score = scores.mean()\n",
    "stability = scores.std()\n",
    "print(mean_score, '+/-', stability)\n",
    "\n",
    "score_row = pd.DataFrame.from_dict({'Model' : ['SVM'],\n",
    "                                    'Vectorizer' : ['LSA'],\n",
    "                                    'Text_Treatment' : ['Lemmatized'],\n",
    "                                    'Mean_F1_Score' : [mean_score],\n",
    "                                    'F1_Std_Dev' : [stability]})\n",
    "scoring_df = scoring_df.append(score_row, ignore_index = True)"
   ]
  },
  {
   "cell_type": "code",
   "execution_count": 73,
   "metadata": {},
   "outputs": [
    {
     "name": "stdout",
     "output_type": "stream",
     "text": [
      "0.6462697248132283 +/- 0.03027529085221108\n"
     ]
    }
   ],
   "source": [
    "# LSA -> SVM: TF-IDF, raw, no stopwords\n",
    "svd = decomposition.TruncatedSVD(n_components = 100, random_state = 42)\n",
    "normalizer = preprocessing.Normalizer()\n",
    "\n",
    "clf_svc = svm.SVC(C = 0.5,\n",
    "              kernel = 'sigmoid',\n",
    "              degree = 2,\n",
    "              gamma = 'scale',\n",
    "              class_weight = 'balanced',\n",
    "              random_state = 42)\n",
    "\n",
    "pipe = pipeline.make_pipeline(svd, normalizer, clf_svc)\n",
    "\n",
    "scores = model_selection.cross_val_score(pipe,\n",
    "                                         train_tfidf_no_stops_df, train_df[\"target\"],\n",
    "                                         cv=5,\n",
    "                                         scoring=\"f1\")\n",
    "mean_score = scores.mean()\n",
    "stability = scores.std()\n",
    "print(mean_score, '+/-', stability)\n",
    "\n",
    "score_row = pd.DataFrame.from_dict({'Model' : ['SVM'],\n",
    "                                    'Vectorizer' : ['LSA'],\n",
    "                                    'Text_Treatment' : ['Removed stopwords'],\n",
    "                                    'Mean_F1_Score' : [mean_score],\n",
    "                                    'F1_Std_Dev' : [stability]})\n",
    "scoring_df = scoring_df.append(score_row, ignore_index = True)"
   ]
  },
  {
   "cell_type": "code",
   "execution_count": 74,
   "metadata": {},
   "outputs": [
    {
     "name": "stdout",
     "output_type": "stream",
     "text": [
      "0.6382746296233381 +/- 0.02709286556980339\n"
     ]
    }
   ],
   "source": [
    "# LSA -> SVM: TF-IDF, stemmed, no stopwords\n",
    "svd = decomposition.TruncatedSVD(n_components = 100, random_state = 42)\n",
    "normalizer = preprocessing.Normalizer()\n",
    "\n",
    "clf_svc = svm.SVC(C = 0.5,\n",
    "              kernel = 'sigmoid',\n",
    "              degree = 2,\n",
    "              gamma = 'scale',\n",
    "              class_weight = 'balanced',\n",
    "              random_state = 42)\n",
    "\n",
    "pipe = pipeline.make_pipeline(svd, normalizer, clf_svc)\n",
    "\n",
    "scores = model_selection.cross_val_score(pipe,\n",
    "                                         train_tfidf_stemmed_no_stops_df, train_df[\"target\"],\n",
    "                                         cv=5,\n",
    "                                         scoring=\"f1\")\n",
    "mean_score = scores.mean()\n",
    "stability = scores.std()\n",
    "print(mean_score, '+/-', stability)\n",
    "\n",
    "score_row = pd.DataFrame.from_dict({'Model' : ['SVM'],\n",
    "                                    'Vectorizer' : ['LSA'],\n",
    "                                    'Text_Treatment' : ['Removed stopwords, stemmed'],\n",
    "                                    'Mean_F1_Score' : [mean_score],\n",
    "                                    'F1_Std_Dev' : [stability]})\n",
    "scoring_df = scoring_df.append(score_row, ignore_index = True)"
   ]
  },
  {
   "cell_type": "code",
   "execution_count": 75,
   "metadata": {},
   "outputs": [
    {
     "name": "stdout",
     "output_type": "stream",
     "text": [
      "0.6357309894803729 +/- 0.03266720780230194\n"
     ]
    }
   ],
   "source": [
    "# LSA -> SVM: TF-IDF, lemmatized, no stopwords\n",
    "svd = decomposition.TruncatedSVD(n_components = 100, random_state = 42)\n",
    "normalizer = preprocessing.Normalizer()\n",
    "\n",
    "clf_svc = svm.SVC(C = 0.5,\n",
    "              kernel = 'sigmoid',\n",
    "              degree = 2,\n",
    "              gamma = 'scale',\n",
    "              class_weight = 'balanced',\n",
    "              random_state = 42)\n",
    "\n",
    "pipe = pipeline.make_pipeline(svd, normalizer, clf_svc)\n",
    "\n",
    "scores = model_selection.cross_val_score(pipe,\n",
    "                                         train_tfidf_lemmatized_no_stops_df, train_df[\"target\"],\n",
    "                                         cv=5,\n",
    "                                         scoring=\"f1\")\n",
    "mean_score = scores.mean()\n",
    "stability = scores.std()\n",
    "print(mean_score, '+/-', stability)\n",
    "\n",
    "score_row = pd.DataFrame.from_dict({'Model' : ['SVM'],\n",
    "                                    'Vectorizer' : ['LSA'],\n",
    "                                    'Text_Treatment' : ['Removed stopwords, lemmatized'],\n",
    "                                    'Mean_F1_Score' : [mean_score],\n",
    "                                    'F1_Std_Dev' : [stability]})\n",
    "scoring_df = scoring_df.append(score_row, ignore_index = True)"
   ]
  },
  {
   "cell_type": "markdown",
   "metadata": {},
   "source": [
    "#### KNN Models\n",
    "\n",
    "I also tried a couple of KNN models, but the results weren't promising."
   ]
  },
  {
   "cell_type": "code",
   "execution_count": 76,
   "metadata": {},
   "outputs": [
    {
     "name": "stdout",
     "output_type": "stream",
     "text": [
      "0.5589305021316724 +/- 0.041042963510106854\n"
     ]
    }
   ],
   "source": [
    "# LSA -> KNN: TF-IDF, no stopwords\n",
    "svd = decomposition.TruncatedSVD(n_components = 100, random_state = 42)\n",
    "normalizer = preprocessing.Normalizer(copy = False)\n",
    "\n",
    "clf_knn = KNeighborsClassifier(n_neighbors=5,\n",
    "                               algorithm='brute',\n",
    "                               metric='cosine')\n",
    "\n",
    "pipe = pipeline.make_pipeline(svd, normalizer, clf_knn)\n",
    "\n",
    "scores = model_selection.cross_val_score(pipe,\n",
    "                                         train_tfidf_no_stops_df, train_df['target'],\n",
    "                                         cv=5,\n",
    "                                         scoring=\"f1\")\n",
    "mean_score = scores.mean()\n",
    "stability = scores.std()\n",
    "print(mean_score, '+/-', stability)\n",
    "\n",
    "score_row = pd.DataFrame.from_dict({'Model' : ['KNN'],\n",
    "                                    'Vectorizer' : ['LSA'],\n",
    "                                    'Text_Treatment' : ['Removed stopwords'],\n",
    "                                    'Mean_F1_Score' : [mean_score],\n",
    "                                    'F1_Std_Dev' : [stability]})\n",
    "scoring_df = scoring_df.append(score_row, ignore_index = True)"
   ]
  },
  {
   "cell_type": "code",
   "execution_count": 77,
   "metadata": {},
   "outputs": [
    {
     "name": "stdout",
     "output_type": "stream",
     "text": [
      "0.5416760287898673 +/- 0.04708368449040268\n"
     ]
    }
   ],
   "source": [
    "# LSA -> KNN: TF-IDF, lemmatized, no stopwords\n",
    "svd = decomposition.TruncatedSVD(n_components = 100, random_state = 42)\n",
    "normalizer = preprocessing.Normalizer(copy = False)\n",
    "\n",
    "clf_knn = KNeighborsClassifier(n_neighbors=5,\n",
    "                               algorithm='brute',\n",
    "                               metric='cosine')\n",
    "\n",
    "pipe = pipeline.make_pipeline(svd, normalizer, clf_knn)\n",
    "\n",
    "scores = model_selection.cross_val_score(pipe,\n",
    "                                         train_tfidf_lemmatized_no_stops_df, train_df['target'],\n",
    "                                         cv=5,\n",
    "                                         scoring=\"f1\")\n",
    "mean_score = scores.mean()\n",
    "stability = scores.std()\n",
    "print(mean_score, '+/-', stability)\n",
    "\n",
    "score_row = pd.DataFrame.from_dict({'Model' : ['KNN'],\n",
    "                                    'Vectorizer' : ['LSA'],\n",
    "                                    'Text_Treatment' : ['Removed stopwords, lemmatized'],\n",
    "                                    'Mean_F1_Score' : [mean_score],\n",
    "                                    'F1_Std_Dev' : [stability]})\n",
    "scoring_df = scoring_df.append(score_row, ignore_index = True)"
   ]
  },
  {
   "cell_type": "markdown",
   "metadata": {},
   "source": [
    "---"
   ]
  },
  {
   "cell_type": "markdown",
   "metadata": {},
   "source": [
    "### Table of Model Scores\n",
    "This table is sorted by the mean F1 score of each model, to help me select the final model(s) for submission to the contest."
   ]
  },
  {
   "cell_type": "code",
   "execution_count": 78,
   "metadata": {},
   "outputs": [
    {
     "data": {
      "text/html": [
       "<div>\n",
       "<style scoped>\n",
       "    .dataframe tbody tr th:only-of-type {\n",
       "        vertical-align: middle;\n",
       "    }\n",
       "\n",
       "    .dataframe tbody tr th {\n",
       "        vertical-align: top;\n",
       "    }\n",
       "\n",
       "    .dataframe thead th {\n",
       "        text-align: right;\n",
       "    }\n",
       "</style>\n",
       "<table border=\"1\" class=\"dataframe\">\n",
       "  <thead>\n",
       "    <tr style=\"text-align: right;\">\n",
       "      <th></th>\n",
       "      <th>Model</th>\n",
       "      <th>Vectorizer</th>\n",
       "      <th>Text_Treatment</th>\n",
       "      <th>Mean_F1_Score</th>\n",
       "      <th>F1_Std_Dev</th>\n",
       "    </tr>\n",
       "  </thead>\n",
       "  <tbody>\n",
       "    <tr>\n",
       "      <th>9</th>\n",
       "      <td>MultinomialNB</td>\n",
       "      <td>CountVectorizer</td>\n",
       "      <td>Lemmatized</td>\n",
       "      <td>0.683867</td>\n",
       "      <td>0.041880</td>\n",
       "    </tr>\n",
       "    <tr>\n",
       "      <th>8</th>\n",
       "      <td>MultinomialNB</td>\n",
       "      <td>CountVectorizer</td>\n",
       "      <td>Stemmed</td>\n",
       "      <td>0.679516</td>\n",
       "      <td>0.045142</td>\n",
       "    </tr>\n",
       "    <tr>\n",
       "      <th>7</th>\n",
       "      <td>MultinomialNB</td>\n",
       "      <td>CountVectorizer</td>\n",
       "      <td>None</td>\n",
       "      <td>0.674957</td>\n",
       "      <td>0.038878</td>\n",
       "    </tr>\n",
       "    <tr>\n",
       "      <th>16</th>\n",
       "      <td>LogisticRegressionCV</td>\n",
       "      <td>TfidfVectorizer</td>\n",
       "      <td>Lemmatized</td>\n",
       "      <td>0.674197</td>\n",
       "      <td>0.040377</td>\n",
       "    </tr>\n",
       "    <tr>\n",
       "      <th>15</th>\n",
       "      <td>LogisticRegression</td>\n",
       "      <td>TfidfVectorizer</td>\n",
       "      <td>Lemmatized</td>\n",
       "      <td>0.667557</td>\n",
       "      <td>0.041092</td>\n",
       "    </tr>\n",
       "    <tr>\n",
       "      <th>14</th>\n",
       "      <td>LogisticRegression</td>\n",
       "      <td>TfidfVectorizer</td>\n",
       "      <td>Stemmed</td>\n",
       "      <td>0.664906</td>\n",
       "      <td>0.045689</td>\n",
       "    </tr>\n",
       "    <tr>\n",
       "      <th>22</th>\n",
       "      <td>MultinomialNB</td>\n",
       "      <td>TfidfVectorizer</td>\n",
       "      <td>Lemmatized</td>\n",
       "      <td>0.661722</td>\n",
       "      <td>0.055087</td>\n",
       "    </tr>\n",
       "    <tr>\n",
       "      <th>13</th>\n",
       "      <td>LogisticRegression</td>\n",
       "      <td>TfidfVectorizer</td>\n",
       "      <td>None</td>\n",
       "      <td>0.661170</td>\n",
       "      <td>0.042490</td>\n",
       "    </tr>\n",
       "    <tr>\n",
       "      <th>12</th>\n",
       "      <td>MultinomialNB</td>\n",
       "      <td>CountVectorizer</td>\n",
       "      <td>Removed stopwords, lemmatized</td>\n",
       "      <td>0.660735</td>\n",
       "      <td>0.043151</td>\n",
       "    </tr>\n",
       "    <tr>\n",
       "      <th>21</th>\n",
       "      <td>MultinomialNB</td>\n",
       "      <td>TfidfVectorizer</td>\n",
       "      <td>Stemmed</td>\n",
       "      <td>0.660165</td>\n",
       "      <td>0.060100</td>\n",
       "    </tr>\n",
       "    <tr>\n",
       "      <th>10</th>\n",
       "      <td>MultinomialNB</td>\n",
       "      <td>CountVectorizer</td>\n",
       "      <td>Removed stopwords</td>\n",
       "      <td>0.660059</td>\n",
       "      <td>0.040663</td>\n",
       "    </tr>\n",
       "    <tr>\n",
       "      <th>11</th>\n",
       "      <td>MultinomialNB</td>\n",
       "      <td>CountVectorizer</td>\n",
       "      <td>Removed stopwords, stemmed</td>\n",
       "      <td>0.659348</td>\n",
       "      <td>0.045592</td>\n",
       "    </tr>\n",
       "    <tr>\n",
       "      <th>20</th>\n",
       "      <td>MultinomialNB</td>\n",
       "      <td>TfidfVectorizer</td>\n",
       "      <td>None</td>\n",
       "      <td>0.655477</td>\n",
       "      <td>0.056971</td>\n",
       "    </tr>\n",
       "    <tr>\n",
       "      <th>28</th>\n",
       "      <td>SVM</td>\n",
       "      <td>LSA</td>\n",
       "      <td>Lemmatized</td>\n",
       "      <td>0.653454</td>\n",
       "      <td>0.029916</td>\n",
       "    </tr>\n",
       "    <tr>\n",
       "      <th>27</th>\n",
       "      <td>SVM</td>\n",
       "      <td>TfidfVectorizer</td>\n",
       "      <td>Lemmatized</td>\n",
       "      <td>0.651638</td>\n",
       "      <td>0.030411</td>\n",
       "    </tr>\n",
       "    <tr>\n",
       "      <th>25</th>\n",
       "      <td>MultinomialNB</td>\n",
       "      <td>TfidfVectorizer</td>\n",
       "      <td>Removed stopwords, lemmatized</td>\n",
       "      <td>0.651429</td>\n",
       "      <td>0.053724</td>\n",
       "    </tr>\n",
       "    <tr>\n",
       "      <th>23</th>\n",
       "      <td>MultinomialNB</td>\n",
       "      <td>TfidfVectorizer</td>\n",
       "      <td>Removed stopwords</td>\n",
       "      <td>0.647817</td>\n",
       "      <td>0.054678</td>\n",
       "    </tr>\n",
       "    <tr>\n",
       "      <th>24</th>\n",
       "      <td>MultinomialNB</td>\n",
       "      <td>TfidfVectorizer</td>\n",
       "      <td>Removed stopwords, stemmed</td>\n",
       "      <td>0.646623</td>\n",
       "      <td>0.052532</td>\n",
       "    </tr>\n",
       "    <tr>\n",
       "      <th>29</th>\n",
       "      <td>SVM</td>\n",
       "      <td>LSA</td>\n",
       "      <td>Removed stopwords</td>\n",
       "      <td>0.646270</td>\n",
       "      <td>0.030275</td>\n",
       "    </tr>\n",
       "    <tr>\n",
       "      <th>26</th>\n",
       "      <td>SVM</td>\n",
       "      <td>TfidfVectorizer</td>\n",
       "      <td>Lemmatized</td>\n",
       "      <td>0.642243</td>\n",
       "      <td>0.027940</td>\n",
       "    </tr>\n",
       "    <tr>\n",
       "      <th>30</th>\n",
       "      <td>SVM</td>\n",
       "      <td>LSA</td>\n",
       "      <td>Removed stopwords, stemmed</td>\n",
       "      <td>0.638275</td>\n",
       "      <td>0.027093</td>\n",
       "    </tr>\n",
       "    <tr>\n",
       "      <th>1</th>\n",
       "      <td>LogisticRegressionCV</td>\n",
       "      <td>CountVectorizer</td>\n",
       "      <td>None</td>\n",
       "      <td>0.638211</td>\n",
       "      <td>0.057559</td>\n",
       "    </tr>\n",
       "    <tr>\n",
       "      <th>3</th>\n",
       "      <td>LogisticRegression</td>\n",
       "      <td>CountVectorizer</td>\n",
       "      <td>Lemmatized</td>\n",
       "      <td>0.637716</td>\n",
       "      <td>0.054316</td>\n",
       "    </tr>\n",
       "    <tr>\n",
       "      <th>31</th>\n",
       "      <td>SVM</td>\n",
       "      <td>LSA</td>\n",
       "      <td>Removed stopwords, lemmatized</td>\n",
       "      <td>0.635731</td>\n",
       "      <td>0.032667</td>\n",
       "    </tr>\n",
       "    <tr>\n",
       "      <th>19</th>\n",
       "      <td>LogisticRegression</td>\n",
       "      <td>TfidfVectorizer</td>\n",
       "      <td>Removed stopwords, lemmatized</td>\n",
       "      <td>0.630953</td>\n",
       "      <td>0.047257</td>\n",
       "    </tr>\n",
       "    <tr>\n",
       "      <th>18</th>\n",
       "      <td>LogisticRegression</td>\n",
       "      <td>TfidfVectorizer</td>\n",
       "      <td>Removed stopwords, stemmed</td>\n",
       "      <td>0.629768</td>\n",
       "      <td>0.048122</td>\n",
       "    </tr>\n",
       "    <tr>\n",
       "      <th>0</th>\n",
       "      <td>LogisticRegression</td>\n",
       "      <td>CountVectorizer</td>\n",
       "      <td>None</td>\n",
       "      <td>0.629054</td>\n",
       "      <td>0.059306</td>\n",
       "    </tr>\n",
       "    <tr>\n",
       "      <th>2</th>\n",
       "      <td>LogisticRegression</td>\n",
       "      <td>CountVectorizer</td>\n",
       "      <td>Stemmed</td>\n",
       "      <td>0.628272</td>\n",
       "      <td>0.054550</td>\n",
       "    </tr>\n",
       "    <tr>\n",
       "      <th>17</th>\n",
       "      <td>LogisticRegression</td>\n",
       "      <td>TfidfVectorizer</td>\n",
       "      <td>Removed stopwords</td>\n",
       "      <td>0.623971</td>\n",
       "      <td>0.049291</td>\n",
       "    </tr>\n",
       "    <tr>\n",
       "      <th>5</th>\n",
       "      <td>LogisticRegression</td>\n",
       "      <td>CountVectorizer</td>\n",
       "      <td>Removed stopwords, stemmed</td>\n",
       "      <td>0.590800</td>\n",
       "      <td>0.062337</td>\n",
       "    </tr>\n",
       "    <tr>\n",
       "      <th>6</th>\n",
       "      <td>LogisticRegression</td>\n",
       "      <td>CountVectorizer</td>\n",
       "      <td>Removed stopwords, lemmatized</td>\n",
       "      <td>0.588866</td>\n",
       "      <td>0.065213</td>\n",
       "    </tr>\n",
       "    <tr>\n",
       "      <th>4</th>\n",
       "      <td>LogisticRegression</td>\n",
       "      <td>CountVectorizer</td>\n",
       "      <td>Removed stopwords</td>\n",
       "      <td>0.580499</td>\n",
       "      <td>0.074101</td>\n",
       "    </tr>\n",
       "    <tr>\n",
       "      <th>32</th>\n",
       "      <td>KNN</td>\n",
       "      <td>LSA</td>\n",
       "      <td>Removed stopwords</td>\n",
       "      <td>0.558931</td>\n",
       "      <td>0.041043</td>\n",
       "    </tr>\n",
       "    <tr>\n",
       "      <th>33</th>\n",
       "      <td>KNN</td>\n",
       "      <td>LSA</td>\n",
       "      <td>Removed stopwords, lemmatized</td>\n",
       "      <td>0.541676</td>\n",
       "      <td>0.047084</td>\n",
       "    </tr>\n",
       "  </tbody>\n",
       "</table>\n",
       "</div>"
      ],
      "text/plain": [
       "                   Model       Vectorizer                 Text_Treatment  \\\n",
       "9          MultinomialNB  CountVectorizer                     Lemmatized   \n",
       "8          MultinomialNB  CountVectorizer                        Stemmed   \n",
       "7          MultinomialNB  CountVectorizer                           None   \n",
       "16  LogisticRegressionCV  TfidfVectorizer                     Lemmatized   \n",
       "15    LogisticRegression  TfidfVectorizer                     Lemmatized   \n",
       "14    LogisticRegression  TfidfVectorizer                        Stemmed   \n",
       "22         MultinomialNB  TfidfVectorizer                     Lemmatized   \n",
       "13    LogisticRegression  TfidfVectorizer                           None   \n",
       "12         MultinomialNB  CountVectorizer  Removed stopwords, lemmatized   \n",
       "21         MultinomialNB  TfidfVectorizer                        Stemmed   \n",
       "10         MultinomialNB  CountVectorizer              Removed stopwords   \n",
       "11         MultinomialNB  CountVectorizer     Removed stopwords, stemmed   \n",
       "20         MultinomialNB  TfidfVectorizer                           None   \n",
       "28                   SVM              LSA                     Lemmatized   \n",
       "27                   SVM  TfidfVectorizer                     Lemmatized   \n",
       "25         MultinomialNB  TfidfVectorizer  Removed stopwords, lemmatized   \n",
       "23         MultinomialNB  TfidfVectorizer              Removed stopwords   \n",
       "24         MultinomialNB  TfidfVectorizer     Removed stopwords, stemmed   \n",
       "29                   SVM              LSA              Removed stopwords   \n",
       "26                   SVM  TfidfVectorizer                     Lemmatized   \n",
       "30                   SVM              LSA     Removed stopwords, stemmed   \n",
       "1   LogisticRegressionCV  CountVectorizer                           None   \n",
       "3     LogisticRegression  CountVectorizer                     Lemmatized   \n",
       "31                   SVM              LSA  Removed stopwords, lemmatized   \n",
       "19    LogisticRegression  TfidfVectorizer  Removed stopwords, lemmatized   \n",
       "18    LogisticRegression  TfidfVectorizer     Removed stopwords, stemmed   \n",
       "0     LogisticRegression  CountVectorizer                           None   \n",
       "2     LogisticRegression  CountVectorizer                        Stemmed   \n",
       "17    LogisticRegression  TfidfVectorizer              Removed stopwords   \n",
       "5     LogisticRegression  CountVectorizer     Removed stopwords, stemmed   \n",
       "6     LogisticRegression  CountVectorizer  Removed stopwords, lemmatized   \n",
       "4     LogisticRegression  CountVectorizer              Removed stopwords   \n",
       "32                   KNN              LSA              Removed stopwords   \n",
       "33                   KNN              LSA  Removed stopwords, lemmatized   \n",
       "\n",
       "    Mean_F1_Score  F1_Std_Dev  \n",
       "9        0.683867    0.041880  \n",
       "8        0.679516    0.045142  \n",
       "7        0.674957    0.038878  \n",
       "16       0.674197    0.040377  \n",
       "15       0.667557    0.041092  \n",
       "14       0.664906    0.045689  \n",
       "22       0.661722    0.055087  \n",
       "13       0.661170    0.042490  \n",
       "12       0.660735    0.043151  \n",
       "21       0.660165    0.060100  \n",
       "10       0.660059    0.040663  \n",
       "11       0.659348    0.045592  \n",
       "20       0.655477    0.056971  \n",
       "28       0.653454    0.029916  \n",
       "27       0.651638    0.030411  \n",
       "25       0.651429    0.053724  \n",
       "23       0.647817    0.054678  \n",
       "24       0.646623    0.052532  \n",
       "29       0.646270    0.030275  \n",
       "26       0.642243    0.027940  \n",
       "30       0.638275    0.027093  \n",
       "1        0.638211    0.057559  \n",
       "3        0.637716    0.054316  \n",
       "31       0.635731    0.032667  \n",
       "19       0.630953    0.047257  \n",
       "18       0.629768    0.048122  \n",
       "0        0.629054    0.059306  \n",
       "2        0.628272    0.054550  \n",
       "17       0.623971    0.049291  \n",
       "5        0.590800    0.062337  \n",
       "6        0.588866    0.065213  \n",
       "4        0.580499    0.074101  \n",
       "32       0.558931    0.041043  \n",
       "33       0.541676    0.047084  "
      ]
     },
     "execution_count": 78,
     "metadata": {},
     "output_type": "execute_result"
    }
   ],
   "source": [
    "scoring_df.sort_values(by = ['Mean_F1_Score'], ascending = False)"
   ]
  },
  {
   "cell_type": "code",
   "execution_count": 79,
   "metadata": {},
   "outputs": [],
   "source": [
    "# save scoring for future reference\n",
    "# scoring_df.to_csv('../data/first_round_scores.csv', index = False)"
   ]
  },
  {
   "cell_type": "markdown",
   "metadata": {},
   "source": [
    "---"
   ]
  },
  {
   "cell_type": "markdown",
   "metadata": {},
   "source": [
    "### Final models\n",
    "I used the three highest-scoring models to create submissions for the Kaggle contest."
   ]
  },
  {
   "cell_type": "code",
   "execution_count": 80,
   "metadata": {},
   "outputs": [
    {
     "name": "stdout",
     "output_type": "stream",
     "text": [
      "0.6741968290118585 +/- 0.04037677659541278\n"
     ]
    }
   ],
   "source": [
    "# Final models - LogRegCV, lemmatized\n",
    "clf_lr = LogisticRegressionCV(class_weight = 'balanced')\n",
    "scores = model_selection.cross_val_score(clf_lr,\n",
    "                                         train_tfidf_lemmatized_df, train_df[\"target\"],\n",
    "                                         cv=5,\n",
    "                                         scoring=\"f1\")\n",
    "mean_score = scores.mean()\n",
    "stability = scores.std()\n",
    "print(mean_score, '+/-', stability)"
   ]
  },
  {
   "cell_type": "code",
   "execution_count": 81,
   "metadata": {},
   "outputs": [],
   "source": [
    "vectorizer = pickle.loads(tf_idf_pickled)\n",
    "vectorizer.fit(lemmatized_train_df['text'])\n",
    "test_tfidf_df = vectorizer.transform(test_df['text'])"
   ]
  },
  {
   "cell_type": "code",
   "execution_count": 82,
   "metadata": {},
   "outputs": [
    {
     "data": {
      "text/plain": [
       "(7502, 5578)"
      ]
     },
     "execution_count": 82,
     "metadata": {},
     "output_type": "execute_result"
    }
   ],
   "source": [
    "train_tfidf_lemmatized_df.shape"
   ]
  },
  {
   "cell_type": "code",
   "execution_count": 83,
   "metadata": {},
   "outputs": [
    {
     "data": {
      "text/plain": [
       "(3263, 5578)"
      ]
     },
     "execution_count": 83,
     "metadata": {},
     "output_type": "execute_result"
    }
   ],
   "source": [
    "test_tfidf_df.shape"
   ]
  },
  {
   "cell_type": "code",
   "execution_count": 84,
   "metadata": {},
   "outputs": [
    {
     "data": {
      "text/plain": [
       "array([1, 1, 1, ..., 1, 1, 0])"
      ]
     },
     "execution_count": 84,
     "metadata": {},
     "output_type": "execute_result"
    }
   ],
   "source": [
    "clf_lr.fit(train_tfidf_lemmatized_df, train_df[\"target\"])\n",
    "lr_preds = clf_lr.predict(test_tfidf_df)\n",
    "lr_preds"
   ]
  },
  {
   "cell_type": "code",
   "execution_count": 85,
   "metadata": {},
   "outputs": [
    {
     "name": "stdout",
     "output_type": "stream",
     "text": [
      "0.6838672747769288 +/- 0.04188014881745761\n"
     ]
    }
   ],
   "source": [
    "# Final models - Multinomial Bayes, lemmatized\n",
    "# this was the best model (Kaggle score: 0.80777)\n",
    "clf_mnb = MultinomialNB()\n",
    "scores = model_selection.cross_val_score(clf_mnb,\n",
    "                                         train_vector_lemma_df, train_df[\"target\"],\n",
    "                                         cv=5,\n",
    "                                         scoring=\"f1\")\n",
    "mean_score = scores.mean()\n",
    "stability = scores.std()\n",
    "print(mean_score, '+/-', stability)"
   ]
  },
  {
   "cell_type": "code",
   "execution_count": 86,
   "metadata": {},
   "outputs": [
    {
     "data": {
      "text/plain": [
       "(7502, 68135)"
      ]
     },
     "execution_count": 86,
     "metadata": {},
     "output_type": "execute_result"
    }
   ],
   "source": [
    "train_vector_lemma_df.shape"
   ]
  },
  {
   "cell_type": "code",
   "execution_count": 87,
   "metadata": {},
   "outputs": [],
   "source": [
    "vectorizer = pickle.loads(vector_pickled)\n",
    "vectorizer.fit(lemmatized_train_df['text'])\n",
    "test_vector_df = vectorizer.transform(test_df['text'])"
   ]
  },
  {
   "cell_type": "code",
   "execution_count": 88,
   "metadata": {},
   "outputs": [
    {
     "data": {
      "text/plain": [
       "(7502, 68135)"
      ]
     },
     "execution_count": 88,
     "metadata": {},
     "output_type": "execute_result"
    }
   ],
   "source": [
    "train_vector_lemma_df.shape"
   ]
  },
  {
   "cell_type": "code",
   "execution_count": 89,
   "metadata": {},
   "outputs": [
    {
     "data": {
      "text/plain": [
       "(3263, 68135)"
      ]
     },
     "execution_count": 89,
     "metadata": {},
     "output_type": "execute_result"
    }
   ],
   "source": [
    "test_vector_df.shape"
   ]
  },
  {
   "cell_type": "code",
   "execution_count": 90,
   "metadata": {},
   "outputs": [
    {
     "data": {
      "text/plain": [
       "array([1, 1, 1, ..., 1, 1, 1])"
      ]
     },
     "execution_count": 90,
     "metadata": {},
     "output_type": "execute_result"
    }
   ],
   "source": [
    "clf_mnb.fit(train_vector_lemma_df, train_df[\"target\"])\n",
    "mnb_preds = clf_mnb.predict(test_vector_df)\n",
    "mnb_preds"
   ]
  },
  {
   "cell_type": "code",
   "execution_count": 113,
   "metadata": {},
   "outputs": [
    {
     "name": "stdout",
     "output_type": "stream",
     "text": [
      "0.6407234003477653 +/- 0.02511603509552794\n"
     ]
    }
   ],
   "source": [
    "# Final models -  LSA -> SVM, lemmatized\n",
    "svd = decomposition.TruncatedSVD(n_components = 100, random_state = 42)\n",
    "normalizer = preprocessing.Normalizer()\n",
    "\n",
    "clf_svc = svm.SVC(C = 0.7,\n",
    "                  kernel = 'sigmoid',\n",
    "                  degree = 2,\n",
    "                  gamma = 'auto',\n",
    "                  class_weight = 'balanced',\n",
    "                  random_state = 42)\n",
    "\n",
    "pipe = pipeline.make_pipeline(svd, normalizer, clf_svc)\n",
    "\n",
    "scores = model_selection.cross_val_score(pipe,\n",
    "                                         train_tfidf_lemmatized_df, train_df[\"target\"],\n",
    "                                         cv=5,\n",
    "                                         scoring=\"f1\")\n",
    "mean_score = scores.mean()\n",
    "stability = scores.std()\n",
    "print(mean_score, '+/-', stability)\n",
    "# C = 0.7 : 0.6500167132804899 +/- 0.02834759351127173\n",
    "# C = 0.5 : 0.6546081437077995 +/- 0.03106318759242463\n",
    "# C = 0.5, gamma = 'auto' : 0.6515706143093366 +/- 0.01981111029829437"
   ]
  },
  {
   "cell_type": "code",
   "execution_count": 92,
   "metadata": {},
   "outputs": [],
   "source": [
    "vectorizer = pickle.loads(tf_idf_pickled)\n",
    "vectorizer.fit(lemmatized_train_df['text'])\n",
    "test_tfidf_df = vectorizer.transform(test_df['text'])"
   ]
  },
  {
   "cell_type": "code",
   "execution_count": 93,
   "metadata": {},
   "outputs": [
    {
     "data": {
      "text/plain": [
       "(7502, 5578)"
      ]
     },
     "execution_count": 93,
     "metadata": {},
     "output_type": "execute_result"
    }
   ],
   "source": [
    "train_tfidf_lemmatized_df.shape"
   ]
  },
  {
   "cell_type": "code",
   "execution_count": 94,
   "metadata": {},
   "outputs": [
    {
     "data": {
      "text/plain": [
       "(3263, 5578)"
      ]
     },
     "execution_count": 94,
     "metadata": {},
     "output_type": "execute_result"
    }
   ],
   "source": [
    "test_tfidf_df.shape"
   ]
  },
  {
   "cell_type": "code",
   "execution_count": 95,
   "metadata": {},
   "outputs": [
    {
     "data": {
      "text/plain": [
       "array([1, 1, 1, ..., 1, 1, 0])"
      ]
     },
     "execution_count": 95,
     "metadata": {},
     "output_type": "execute_result"
    }
   ],
   "source": [
    "clf_svc.fit(train_tfidf_lemmatized_df, train_df[\"target\"])\n",
    "svc_preds = clf_svc.predict(test_tfidf_df)\n",
    "svc_preds"
   ]
  },
  {
   "cell_type": "markdown",
   "metadata": {},
   "source": [
    "---"
   ]
  },
  {
   "cell_type": "markdown",
   "metadata": {},
   "source": [
    "### Create submission file and validate."
   ]
  },
  {
   "cell_type": "code",
   "execution_count": 96,
   "metadata": {},
   "outputs": [],
   "source": [
    "# submission for Logistic Regression predictions\n",
    "# model_sub = pd.read_csv('../data/sample_submission.csv')\n",
    "# model_sub['target'] = lr_preds\n",
    "# model_sub.to_csv('../data/lr_prediction_submission.csv', index = False)"
   ]
  },
  {
   "cell_type": "code",
   "execution_count": 97,
   "metadata": {},
   "outputs": [],
   "source": [
    "# submission for Multinomial Naive Bayes predictions\n",
    "# this one got the best Kaggle score: 0.80777\n",
    "# model_sub = pd.read_csv('../data/sample_submission.csv')\n",
    "# model_sub['target'] = mnb_preds\n",
    "# model_sub.to_csv('../data/mnb_prediction_submission.csv', index = False)"
   ]
  },
  {
   "cell_type": "code",
   "execution_count": 98,
   "metadata": {},
   "outputs": [],
   "source": [
    "# submission for SVM predictions\n",
    "# model_sub = pd.read_csv('../data/sample_submission.csv')\n",
    "# model_sub['target'] = svc_preds\n",
    "# model_sub.to_csv('../data/svc_prediction_submission.csv', index = False)"
   ]
  },
  {
   "cell_type": "code",
   "execution_count": 99,
   "metadata": {},
   "outputs": [],
   "source": [
    "# check_sub = pd.read_csv('../data/prediction_submission.csv')\n",
    "# check_sub.head().append(check_sub.tail())"
   ]
  },
  {
   "cell_type": "code",
   "execution_count": 100,
   "metadata": {},
   "outputs": [],
   "source": [
    "# check_sub['target'].value_counts()"
   ]
  },
  {
   "cell_type": "markdown",
   "metadata": {},
   "source": [
    "### Next Steps\n",
    "There are still some things I can try with these models in order to improve them:\n",
    "* Vary the number of components in the LSA models\n",
    "* More/better tuning of hyperparameters in all models\n",
    "As well, I would like to test TensorFlow & BERT in a Kaggle notebook w/GPU turned on to see how it performs on this problem."
   ]
  },
  {
   "cell_type": "markdown",
   "metadata": {},
   "source": [
    "---"
   ]
  },
  {
   "cell_type": "markdown",
   "metadata": {},
   "source": [
    "Attempting to use TensorFlow & BERT\n",
    "\n",
    "commented out, takes too long on my laptop; will try to put in a Kaggle notebook with GPU"
   ]
  },
  {
   "cell_type": "code",
   "execution_count": 101,
   "metadata": {},
   "outputs": [],
   "source": [
    "# def bert_encode(texts, tokenizer, max_len=512):\n",
    "#     all_tokens = []\n",
    "#     all_masks = []\n",
    "#     all_segments = []\n",
    "    \n",
    "#     for text in texts:\n",
    "#         text = tokenizer.tokenize(text)\n",
    "            \n",
    "#         text = text[:max_len-2]\n",
    "#         input_sequence = [\"[CLS]\"] + text + [\"[SEP]\"]\n",
    "#         pad_len = max_len - len(input_sequence)\n",
    "        \n",
    "#         tokens = tokenizer.convert_tokens_to_ids(input_sequence)\n",
    "#         tokens += [0] * pad_len\n",
    "#         pad_masks = [1] * len(input_sequence) + [0] * pad_len\n",
    "#         segment_ids = [0] * max_len\n",
    "        \n",
    "#         all_tokens.append(tokens)\n",
    "#         all_masks.append(pad_masks)\n",
    "#         all_segments.append(segment_ids)\n",
    "    \n",
    "#     return np.array(all_tokens), np.array(all_masks), np.array(all_segments)"
   ]
  },
  {
   "cell_type": "code",
   "execution_count": 102,
   "metadata": {},
   "outputs": [],
   "source": [
    "# def build_model(bert_layer, max_len=512):\n",
    "#     input_word_ids = Input(shape=(max_len,), dtype=tf.int32, name=\"input_word_ids\")\n",
    "#     input_mask = Input(shape=(max_len,), dtype=tf.int32, name=\"input_mask\")\n",
    "#     segment_ids = Input(shape=(max_len,), dtype=tf.int32, name=\"segment_ids\")\n",
    "\n",
    "#     _, sequence_output = bert_layer([input_word_ids, input_mask, segment_ids])\n",
    "#     clf_output = sequence_output[:, 0, :]\n",
    "#     out = Dense(1, activation='sigmoid')(clf_output)\n",
    "    \n",
    "#     model = Model(inputs=[input_word_ids, input_mask, segment_ids], outputs=out)\n",
    "#     model.compile(Adam(lr=2e-6), loss='binary_crossentropy', metrics=['accuracy'])\n",
    "    \n",
    "#     return model"
   ]
  },
  {
   "cell_type": "code",
   "execution_count": 103,
   "metadata": {},
   "outputs": [],
   "source": [
    "# %%time\n",
    "# module_url = \"https://tfhub.dev/tensorflow/bert_en_uncased_L-24_H-1024_A-16/1\"\n",
    "# bert_layer = hub.KerasLayer(module_url, trainable=True)"
   ]
  },
  {
   "cell_type": "code",
   "execution_count": 104,
   "metadata": {},
   "outputs": [],
   "source": [
    "# vocab_file = bert_layer.resolved_object.vocab_file.asset_path.numpy()\n",
    "# do_lower_case = bert_layer.resolved_object.do_lower_case.numpy()\n",
    "# tokenizer = tokenization.FullTokenizer(vocab_file, do_lower_case)"
   ]
  },
  {
   "cell_type": "code",
   "execution_count": 105,
   "metadata": {},
   "outputs": [],
   "source": [
    "# train_input = bert_encode(train_df.text.values, tokenizer, max_len=160)\n",
    "# test_input = bert_encode(test_df.text.values, tokenizer, max_len=160)\n",
    "# train_labels = train_df.target.values"
   ]
  },
  {
   "cell_type": "code",
   "execution_count": 106,
   "metadata": {},
   "outputs": [],
   "source": [
    "# model = build_model(bert_layer, max_len=160)\n",
    "# model.summary()"
   ]
  },
  {
   "cell_type": "code",
   "execution_count": 107,
   "metadata": {},
   "outputs": [],
   "source": [
    "# train_history = model.fit(train_input, train_labels,\n",
    "#                           validation_split=0.2,\n",
    "#                           epochs=5)"
   ]
  },
  {
   "cell_type": "code",
   "execution_count": 108,
   "metadata": {},
   "outputs": [],
   "source": [
    "# test_pred = model.predict(test_input)"
   ]
  },
  {
   "cell_type": "code",
   "execution_count": 109,
   "metadata": {},
   "outputs": [],
   "source": [
    "# submission['target'] = test_pred.round().astype(int)\n",
    "# submission.to_csv('disaster_tweet_submission.csv', index=False)"
   ]
  },
  {
   "cell_type": "code",
   "execution_count": null,
   "metadata": {},
   "outputs": [],
   "source": []
  }
 ],
 "metadata": {
  "kernelspec": {
   "display_name": "Python 3",
   "language": "python",
   "name": "python3"
  },
  "language_info": {
   "codemirror_mode": {
    "name": "ipython",
    "version": 3
   },
   "file_extension": ".py",
   "mimetype": "text/x-python",
   "name": "python",
   "nbconvert_exporter": "python",
   "pygments_lexer": "ipython3",
   "version": "3.6.9"
  }
 },
 "nbformat": 4,
 "nbformat_minor": 4
}
