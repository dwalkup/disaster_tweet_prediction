{
 "cells": [
  {
   "cell_type": "markdown",
   "metadata": {},
   "source": [
    "# Disaster Tweets\n",
    "\n",
    "Initial plan is to use this notebook for baseline modeling of preprocessed data."
   ]
  },
  {
   "cell_type": "code",
   "execution_count": 1,
   "metadata": {},
   "outputs": [],
   "source": [
    "# imports\n",
    "\n",
    "# data\n",
    "import pandas as pd\n",
    "import numpy as np\n",
    "\n",
    "# modeling\n",
    "from sklearn.linear_model import LogisticRegression, LogisticRegressionCV\n",
    "from sklearn.metrics import f1_score\n",
    "from sklearn.naive_bayes import MultinomialNB\n",
    "from sklearn import preprocessing, decomposition, model_selection, metrics, pipeline\n",
    "from sklearn.model_selection import GridSearchCV, StratifiedKFold, RandomizedSearchCV\n",
    "\n",
    "import tensorflow as tf\n",
    "from tensorflow.keras.layers import Dense, Input\n",
    "from tensorflow.keras.optimizers import Adam\n",
    "from tensorflow.keras.models import Model\n",
    "from tensorflow.keras.callbacks import ModelCheckpoint\n",
    "import tensorflow_hub as hub\n",
    "\n",
    "import tokenization\n",
    "\n",
    "# Suppress warnings \n",
    "import warnings\n",
    "warnings.filterwarnings('ignore')\n"
   ]
  },
  {
   "cell_type": "code",
   "execution_count": null,
   "metadata": {},
   "outputs": [],
   "source": [
    "# read training and test data\n",
    "train_df = pd.read_csv('/Users/davidwalkup/ds-course/projects/Mod4/disaster_tweet_prediction/data/cleaned_train.csv')"
   ]
  },
  {
   "cell_type": "code",
   "execution_count": null,
   "metadata": {},
   "outputs": [],
   "source": [
    "train_df.head()"
   ]
  },
  {
   "cell_type": "code",
   "execution_count": null,
   "metadata": {},
   "outputs": [],
   "source": [
    "stemmed_train_df = pd.read_csv('/Users/davidwalkup/ds-course/projects/Mod4/disaster_tweet_prediction/data/stemmed_train.csv')"
   ]
  },
  {
   "cell_type": "code",
   "execution_count": null,
   "metadata": {},
   "outputs": [],
   "source": [
    "stemmed_train_df.head()"
   ]
  },
  {
   "cell_type": "code",
   "execution_count": null,
   "metadata": {},
   "outputs": [],
   "source": [
    "lemmatized_train_df = pd.read_csv('/Users/davidwalkup/ds-course/projects/Mod4/disaster_tweet_prediction/data/lemmatized_train.csv')"
   ]
  },
  {
   "cell_type": "code",
   "execution_count": null,
   "metadata": {},
   "outputs": [],
   "source": [
    "lemmatized_train_df.head()"
   ]
  },
  {
   "cell_type": "code",
   "execution_count": null,
   "metadata": {},
   "outputs": [],
   "source": [
    "test_df = pd.read_csv('/Users/davidwalkup/ds-course/projects/Mod4/disaster_tweet_prediction/data/cleaned_test.csv')"
   ]
  },
  {
   "cell_type": "code",
   "execution_count": null,
   "metadata": {},
   "outputs": [],
   "source": [
    "test_df.head()"
   ]
  },
  {
   "cell_type": "markdown",
   "metadata": {},
   "source": [
    "#### How good does my model have to be to outperform the naive approach (i.e., no tweet is about a disaster)?"
   ]
  },
  {
   "cell_type": "code",
   "execution_count": null,
   "metadata": {},
   "outputs": [],
   "source": [
    "p_classes = dict(train_df['target'].value_counts(normalize=True))\n",
    "naive_approach = p_classes[0]\n",
    "print('Class probabilities: ', p_classes,\n",
    "      '\\nChance tweet is not about a real disaster: ', np.round(naive_approach, decimals = 4))"
   ]
  },
  {
   "cell_type": "markdown",
   "metadata": {},
   "source": [
    "### Bagging using sklearn CountVectorizer"
   ]
  },
  {
   "cell_type": "markdown",
   "metadata": {},
   "source": [
    "First set of experiments will include stop words."
   ]
  },
  {
   "cell_type": "code",
   "execution_count": null,
   "metadata": {},
   "outputs": [],
   "source": [
    "count_vectorizer = CountVectorizer(strip_accents = 'unicode',\n",
    "                                   ngram_range = (1, 2),\n",
    "                                   binary = True)"
   ]
  },
  {
   "cell_type": "code",
   "execution_count": null,
   "metadata": {},
   "outputs": [],
   "source": [
    "train_vector_df = count_vectorizer.fit_transform(cleaned_train_df['text'])"
   ]
  },
  {
   "cell_type": "code",
   "execution_count": null,
   "metadata": {},
   "outputs": [],
   "source": [
    "train_vector_df.shape"
   ]
  },
  {
   "cell_type": "code",
   "execution_count": null,
   "metadata": {},
   "outputs": [],
   "source": [
    "train_vector_stemmed_df = count_vectorizer.fit_transform(stemmed_train_df['text'])"
   ]
  },
  {
   "cell_type": "code",
   "execution_count": null,
   "metadata": {},
   "outputs": [],
   "source": [
    "train_vector_stemmed_df.shape"
   ]
  },
  {
   "cell_type": "code",
   "execution_count": null,
   "metadata": {},
   "outputs": [],
   "source": [
    "train_vector_lemma_df = count_vectorizer.fit_transform(lemmatized_train_df['text'])"
   ]
  },
  {
   "cell_type": "code",
   "execution_count": null,
   "metadata": {},
   "outputs": [],
   "source": [
    "train_vector_lemma_df.shape"
   ]
  },
  {
   "cell_type": "markdown",
   "metadata": {},
   "source": [
    "Second set of experiments will remove stop words, to see if that improves performance."
   ]
  },
  {
   "cell_type": "code",
   "execution_count": null,
   "metadata": {},
   "outputs": [],
   "source": [
    "count_vectorizer = CountVectorizer(strip_accents = 'unicode',\n",
    "                                   stop_words = stopwords.words('english'),\n",
    "                                   ngram_range = (1, 2),\n",
    "                                   binary = True)"
   ]
  },
  {
   "cell_type": "code",
   "execution_count": null,
   "metadata": {},
   "outputs": [],
   "source": [
    "train_vector_no_stops_df = count_vectorizer.fit_transform(cleaned_train_df['text'])"
   ]
  },
  {
   "cell_type": "code",
   "execution_count": null,
   "metadata": {},
   "outputs": [],
   "source": [
    "train_vector_no_stops_df.shape"
   ]
  },
  {
   "cell_type": "code",
   "execution_count": null,
   "metadata": {},
   "outputs": [],
   "source": [
    "train_vector_stemmed_no_stops_df = count_vectorizer.fit_transform(stemmed_train_df['text'])"
   ]
  },
  {
   "cell_type": "code",
   "execution_count": null,
   "metadata": {},
   "outputs": [],
   "source": [
    "train_vector_stemmed_no_stops_df.shape"
   ]
  },
  {
   "cell_type": "code",
   "execution_count": null,
   "metadata": {},
   "outputs": [],
   "source": [
    "train_vector_lemma_no_stops_df = count_vectorizer.fit_transform(lemmatized_train_df['text'])"
   ]
  },
  {
   "cell_type": "code",
   "execution_count": null,
   "metadata": {},
   "outputs": [],
   "source": [
    "train_vector_lemma_no_stops_df.shape"
   ]
  },
  {
   "cell_type": "markdown",
   "metadata": {},
   "source": [
    "Logistic Regression on CountVectorizer treated training data"
   ]
  },
  {
   "cell_type": "code",
   "execution_count": null,
   "metadata": {},
   "outputs": [],
   "source": [
    "# basic LogReg\n",
    "clf_logreg = LogisticRegression(class_weight = 'balanced')\n",
    "\n",
    "scores = model_selection.cross_val_score(clf_logreg,\n",
    "                                         train_vector_df, train_df[\"target\"],\n",
    "                                         cv=5,\n",
    "                                         scoring=\"f1\")\n",
    "\n",
    "print(scores.mean(), '+/-', scores.std())"
   ]
  },
  {
   "cell_type": "code",
   "execution_count": null,
   "metadata": {},
   "outputs": [],
   "source": [
    "# LogRegCV\n",
    "clf_logreg_cv = LogisticRegressionCV(class_weight = 'balanced')\n",
    "\n",
    "scores = model_selection.cross_val_score(clf_logreg_cv,\n",
    "                                         train_vector_df, train_df[\"target\"],\n",
    "                                         cv=5,\n",
    "                                         scoring=\"f1\")\n",
    "\n",
    "print(scores.mean(), '+/-', scores.std())"
   ]
  },
  {
   "cell_type": "code",
   "execution_count": null,
   "metadata": {},
   "outputs": [],
   "source": [
    "# LogReg, no stop words\n",
    "clf = LogisticRegression(class_weight = 'balanced')\n",
    "scores = model_selection.cross_val_score(clf,\n",
    "                                         train_vector_no_stops_df, train_df[\"target\"],\n",
    "                                         cv=5,\n",
    "                                         scoring=\"f1\")\n",
    "print(scores.mean(), '+/-', scores.std())"
   ]
  },
  {
   "cell_type": "code",
   "execution_count": null,
   "metadata": {},
   "outputs": [],
   "source": [
    "# LogReg, stemmed\n",
    "clf = LogisticRegression(class_weight = 'balanced')\n",
    "scores = model_selection.cross_val_score(clf,\n",
    "                                         train_vector_stemmed_df, train_df[\"target\"],\n",
    "                                         cv=5,\n",
    "                                         scoring=\"f1\")\n",
    "print(scores.mean(), '+/-', scores.std())"
   ]
  },
  {
   "cell_type": "code",
   "execution_count": null,
   "metadata": {},
   "outputs": [],
   "source": [
    "# LogReg, stemmed, no stop words\n",
    "clf = LogisticRegression(class_weight = 'balanced')\n",
    "scores = model_selection.cross_val_score(clf,\n",
    "                                         train_vector_stemmed_no_stops_df, train_df[\"target\"],\n",
    "                                         cv=5,\n",
    "                                         scoring=\"f1\")\n",
    "print(scores.mean(), '+/-', scores.std())"
   ]
  },
  {
   "cell_type": "code",
   "execution_count": null,
   "metadata": {},
   "outputs": [],
   "source": [
    "# LogReg, lemmatized\n",
    "clf = LogisticRegression(class_weight = 'balanced')\n",
    "scores = model_selection.cross_val_score(clf,\n",
    "                                         train_vector_lemma_df, train_df[\"target\"],\n",
    "                                         cv=5,\n",
    "                                         scoring=\"f1\")\n",
    "print(scores.mean(), '+/-', scores.std())"
   ]
  },
  {
   "cell_type": "code",
   "execution_count": null,
   "metadata": {},
   "outputs": [],
   "source": [
    "# LogReg, lemmatized, no stop words\n",
    "clf = LogisticRegression(class_weight = 'balanced')\n",
    "scores = model_selection.cross_val_score(clf,\n",
    "                                         train_vector_lemma_no_stops_df, train_df[\"target\"],\n",
    "                                         cv=5,\n",
    "                                         scoring=\"f1\")\n",
    "print(scores.mean(), '+/-', scores.std())"
   ]
  },
  {
   "cell_type": "markdown",
   "metadata": {},
   "source": [
    "Multinomial Bayes on CountVectorizer treated training data"
   ]
  },
  {
   "cell_type": "code",
   "execution_count": null,
   "metadata": {},
   "outputs": [],
   "source": [
    "# basic Multinomial Bayes\n",
    "clf = MultinomialNB()\n",
    "scores = model_selection.cross_val_score(clf,\n",
    "                                         train_vector_df, train_df[\"target\"],\n",
    "                                         cv=5,\n",
    "                                         scoring=\"f1\")\n",
    "print(scores.mean(), '+/-', scores.std())"
   ]
  },
  {
   "cell_type": "code",
   "execution_count": null,
   "metadata": {},
   "outputs": [],
   "source": [
    "# Multinomial Bayes, no stop words\n",
    "clf = MultinomialNB()\n",
    "scores = model_selection.cross_val_score(clf,\n",
    "                                         train_vector_no_stops_df, train_df[\"target\"],\n",
    "                                         cv=5,\n",
    "                                         scoring=\"f1\")\n",
    "print(scores.mean(), '+/-', scores.std())"
   ]
  },
  {
   "cell_type": "code",
   "execution_count": null,
   "metadata": {},
   "outputs": [],
   "source": [
    "# Multinomial Bayes, stemmed\n",
    "clf = MultinomialNB()\n",
    "scores = model_selection.cross_val_score(clf,\n",
    "                                         train_vector_stemmed_df, train_df[\"target\"],\n",
    "                                         cv=5,\n",
    "                                         scoring=\"f1\")\n",
    "print(scores.mean(), '+/-', scores.std())"
   ]
  },
  {
   "cell_type": "code",
   "execution_count": null,
   "metadata": {},
   "outputs": [],
   "source": [
    "# Multinomial Bayes, stemmed, no stop words\n",
    "clf = MultinomialNB()\n",
    "scores = model_selection.cross_val_score(clf,\n",
    "                                         train_vector_stemmed_no_stops_df, train_df[\"target\"],\n",
    "                                         cv=5,\n",
    "                                         scoring=\"f1\")\n",
    "print(scores.mean(), '+/-', scores.std())"
   ]
  },
  {
   "cell_type": "code",
   "execution_count": null,
   "metadata": {},
   "outputs": [],
   "source": [
    "# Multinomial Bayes, lemmatized\n",
    "clf = MultinomialNB()\n",
    "scores = model_selection.cross_val_score(clf,\n",
    "                                         train_vector_lemma_df, train_df[\"target\"],\n",
    "                                         cv=5,\n",
    "                                         scoring=\"f1\")\n",
    "print(scores.mean(), '+/-', scores.std())"
   ]
  },
  {
   "cell_type": "code",
   "execution_count": null,
   "metadata": {},
   "outputs": [],
   "source": [
    "# Multinomial Bayes, lemmatized, no stop words\n",
    "clf = MultinomialNB()\n",
    "scores = model_selection.cross_val_score(clf,\n",
    "                                         train_vector_lemma_no_stops_df, train_df[\"target\"],\n",
    "                                         cv=5,\n",
    "                                         scoring=\"f1\")\n",
    "print(scores.mean(), '+/-', scores.std())"
   ]
  },
  {
   "cell_type": "markdown",
   "metadata": {},
   "source": [
    "Bagging and term frequency weighting using TD-IDF vectorization"
   ]
  },
  {
   "cell_type": "markdown",
   "metadata": {},
   "source": [
    "First set will retain stop words."
   ]
  },
  {
   "cell_type": "code",
   "execution_count": null,
   "metadata": {},
   "outputs": [],
   "source": [
    "tf_idf = TfidfVectorizer(ngram_range=(1, 1),\n",
    "                         max_df=0.5,\n",
    "                         min_df=2)"
   ]
  },
  {
   "cell_type": "code",
   "execution_count": null,
   "metadata": {},
   "outputs": [],
   "source": [
    "train_tfidf_df = tf_idf.fit_transform(cleaned_train_df['text'])"
   ]
  },
  {
   "cell_type": "code",
   "execution_count": null,
   "metadata": {},
   "outputs": [],
   "source": [
    "train_tfidf_df.shape"
   ]
  },
  {
   "cell_type": "code",
   "execution_count": null,
   "metadata": {},
   "outputs": [],
   "source": [
    "train_tfidf_stemmed_df = tf_idf.fit_transform(stemmed_train_df['text'])"
   ]
  },
  {
   "cell_type": "code",
   "execution_count": null,
   "metadata": {},
   "outputs": [],
   "source": [
    "train_tfidf_stemmed_df.shape"
   ]
  },
  {
   "cell_type": "code",
   "execution_count": null,
   "metadata": {},
   "outputs": [],
   "source": [
    "train_tfidf_lemmatized_df = tf_idf.fit_transform(lemmatized_train_df['text'])"
   ]
  },
  {
   "cell_type": "code",
   "execution_count": null,
   "metadata": {},
   "outputs": [],
   "source": [
    "train_tfidf_lemmatized_df.shape"
   ]
  },
  {
   "cell_type": "markdown",
   "metadata": {},
   "source": [
    "Second set will remove stop words."
   ]
  },
  {
   "cell_type": "code",
   "execution_count": null,
   "metadata": {},
   "outputs": [],
   "source": [
    "tf_idf = TfidfVectorizer(stop_words = stopwords.words('english'),\n",
    "                         ngram_range=(1, 1),\n",
    "                         max_df=0.5,\n",
    "                         min_df=2)"
   ]
  },
  {
   "cell_type": "code",
   "execution_count": null,
   "metadata": {},
   "outputs": [],
   "source": [
    "train_tfidf_no_stops_df = tf_idf.fit_transform(cleaned_train_df['text'])"
   ]
  },
  {
   "cell_type": "code",
   "execution_count": null,
   "metadata": {},
   "outputs": [],
   "source": [
    "train_tfidf_no_stops_df.shape"
   ]
  },
  {
   "cell_type": "code",
   "execution_count": null,
   "metadata": {},
   "outputs": [],
   "source": [
    "train_tfidf_stemmed_no_stops_df = tf_idf.fit_transform(stemmed_train_df['text'])"
   ]
  },
  {
   "cell_type": "code",
   "execution_count": null,
   "metadata": {},
   "outputs": [],
   "source": [
    "train_tfidf_stemmed_no_stops_df.shape"
   ]
  },
  {
   "cell_type": "code",
   "execution_count": null,
   "metadata": {},
   "outputs": [],
   "source": [
    "train_tfidf_lemmatized_no_stops_df = tf_idf.fit_transform(lemmatized_train_df['text'])"
   ]
  },
  {
   "cell_type": "code",
   "execution_count": null,
   "metadata": {},
   "outputs": [],
   "source": [
    "train_tfidf_lemmatized_no_stops_df.shape"
   ]
  },
  {
   "cell_type": "markdown",
   "metadata": {},
   "source": [
    "Logistic Regression on TF-IDF treated training data"
   ]
  },
  {
   "cell_type": "code",
   "execution_count": null,
   "metadata": {},
   "outputs": [],
   "source": [
    "# basic LogReg\n",
    "clf = LogisticRegression(class_weight = 'balanced')\n",
    "scores = model_selection.cross_val_score(clf,\n",
    "                                         train_tfidf_df, train_df[\"target\"],\n",
    "                                         cv=5,\n",
    "                                         scoring=\"f1\")\n",
    "print(scores.mean(), '+/-', scores.std())"
   ]
  },
  {
   "cell_type": "code",
   "execution_count": null,
   "metadata": {},
   "outputs": [],
   "source": [
    "# LogReg, stemmed\n",
    "clf = LogisticRegression(class_weight = 'balanced')\n",
    "scores = model_selection.cross_val_score(clf,\n",
    "                                         train_tfidf_stemmed_df, train_df[\"target\"],\n",
    "                                         cv=5,\n",
    "                                         scoring=\"f1\")\n",
    "print(scores.mean(), '+/-', scores.std())"
   ]
  },
  {
   "cell_type": "code",
   "execution_count": null,
   "metadata": {},
   "outputs": [],
   "source": [
    "# LogReg, lemmatized\n",
    "clf = LogisticRegression(class_weight = 'balanced')\n",
    "scores = model_selection.cross_val_score(clf,\n",
    "                                         train_tfidf_lemmatized_df, train_df[\"target\"],\n",
    "                                         cv=5,\n",
    "                                         scoring=\"f1\")\n",
    "print(scores.mean(), '+/-', scores.std())"
   ]
  },
  {
   "cell_type": "code",
   "execution_count": null,
   "metadata": {},
   "outputs": [],
   "source": [
    "# LogReg, no stop words\n",
    "clf = LogisticRegression(class_weight = 'balanced')\n",
    "scores = model_selection.cross_val_score(clf,\n",
    "                                         train_tfidf_no_stops_df, train_df[\"target\"],\n",
    "                                         cv=5,\n",
    "                                         scoring=\"f1\")\n",
    "print(scores.mean(), '+/-', scores.std())"
   ]
  },
  {
   "cell_type": "code",
   "execution_count": null,
   "metadata": {},
   "outputs": [],
   "source": [
    "# LogReg, stemmed, no stop words\n",
    "clf = LogisticRegression(class_weight = 'balanced')\n",
    "scores = model_selection.cross_val_score(clf,\n",
    "                                         train_tfidf_stemmed_no_stops_df, train_df[\"target\"],\n",
    "                                         cv=5,\n",
    "                                         scoring=\"f1\")\n",
    "print(scores.mean(), '+/-', scores.std())"
   ]
  },
  {
   "cell_type": "code",
   "execution_count": null,
   "metadata": {},
   "outputs": [],
   "source": [
    "# LogReg, lemmatized, no stop words\n",
    "clf = LogisticRegression(class_weight = 'balanced')\n",
    "scores = model_selection.cross_val_score(clf,\n",
    "                                         train_tfidf_lemmatized_no_stops_df, train_df[\"target\"],\n",
    "                                         cv=5,\n",
    "                                         scoring=\"f1\")\n",
    "print(scores.mean(), '+/-', scores.std())"
   ]
  },
  {
   "cell_type": "markdown",
   "metadata": {},
   "source": [
    "Multinomial Bayes on TF-IDF treated training data"
   ]
  },
  {
   "cell_type": "code",
   "execution_count": null,
   "metadata": {},
   "outputs": [],
   "source": [
    "# basic Multinomial Bayes\n",
    "clf = MultinomialNB()\n",
    "scores = model_selection.cross_val_score(clf,\n",
    "                                         train_tfidf_df, train_df[\"target\"],\n",
    "                                         cv=5,\n",
    "                                         scoring=\"f1\")\n",
    "print(scores.mean(), '+/-', scores.std())"
   ]
  },
  {
   "cell_type": "code",
   "execution_count": null,
   "metadata": {},
   "outputs": [],
   "source": [
    "# Multinomial Bayes, stemmed\n",
    "clf = MultinomialNB()\n",
    "scores = model_selection.cross_val_score(clf,\n",
    "                                         train_tfidf_stemmed_df, train_df[\"target\"],\n",
    "                                         cv=5,\n",
    "                                         scoring=\"f1\")\n",
    "print(scores.mean(), '+/-', scores.std())"
   ]
  },
  {
   "cell_type": "code",
   "execution_count": null,
   "metadata": {},
   "outputs": [],
   "source": [
    "# Multinomial Bayes, lemmatized\n",
    "clf = MultinomialNB()\n",
    "scores = model_selection.cross_val_score(clf,\n",
    "                                         train_tfidf_lemmatized_df, train_df[\"target\"],\n",
    "                                         cv=5,\n",
    "                                         scoring=\"f1\")\n",
    "print(scores.mean(), '+/-', scores.std())"
   ]
  },
  {
   "cell_type": "code",
   "execution_count": null,
   "metadata": {},
   "outputs": [],
   "source": [
    "# Multinomial Bayes, no stop words\n",
    "clf = MultinomialNB()\n",
    "scores = model_selection.cross_val_score(clf,\n",
    "                                         train_tfidf_no_stops_df, train_df[\"target\"],\n",
    "                                         cv=5,\n",
    "                                         scoring=\"f1\")\n",
    "print(scores.mean(), '+/-', scores.std())"
   ]
  },
  {
   "cell_type": "code",
   "execution_count": null,
   "metadata": {},
   "outputs": [],
   "source": [
    "# Multinomial Bayes, stemmed, no stop words\n",
    "clf = MultinomialNB()\n",
    "scores = model_selection.cross_val_score(clf,\n",
    "                                         train_tfidf_stemmed_no_stops_df, train_df[\"target\"],\n",
    "                                         cv=5,\n",
    "                                         scoring=\"f1\")\n",
    "print(scores.mean(), '+/-', scores.std())"
   ]
  },
  {
   "cell_type": "code",
   "execution_count": null,
   "metadata": {},
   "outputs": [],
   "source": [
    "# Multinomial Bayes, lemmatized, no stop words\n",
    "clf = MultinomialNB()\n",
    "scores = model_selection.cross_val_score(clf,\n",
    "                                         train_tfidf_lemmatized_no_stops_df, train_df[\"target\"],\n",
    "                                         cv=5,\n",
    "                                         scoring=\"f1\")\n",
    "print(scores.mean(), '+/-', scores.std())"
   ]
  },
  {
   "cell_type": "markdown",
   "metadata": {},
   "source": [
    "Attempting to use TensorFlow & BERT"
   ]
  },
  {
   "cell_type": "code",
   "execution_count": null,
   "metadata": {},
   "outputs": [],
   "source": [
    "import tensorflow as tf\n",
    "from tensorflow.keras.layers import Dense, Input\n",
    "from tensorflow.keras.optimizers import Adam\n",
    "from tensorflow.keras.models import Model\n",
    "from tensorflow.keras.callbacks import ModelCheckpoint\n",
    "import tensorflow_hub as hub\n",
    "\n",
    "import tokenization"
   ]
  },
  {
   "cell_type": "code",
   "execution_count": null,
   "metadata": {},
   "outputs": [],
   "source": [
    "def bert_encode(texts, tokenizer, max_len=512):\n",
    "    all_tokens = []\n",
    "    all_masks = []\n",
    "    all_segments = []\n",
    "    \n",
    "    for text in texts:\n",
    "        text = tokenizer.tokenize(text)\n",
    "            \n",
    "        text = text[:max_len-2]\n",
    "        input_sequence = [\"[CLS]\"] + text + [\"[SEP]\"]\n",
    "        pad_len = max_len - len(input_sequence)\n",
    "        \n",
    "        tokens = tokenizer.convert_tokens_to_ids(input_sequence)\n",
    "        tokens += [0] * pad_len\n",
    "        pad_masks = [1] * len(input_sequence) + [0] * pad_len\n",
    "        segment_ids = [0] * max_len\n",
    "        \n",
    "        all_tokens.append(tokens)\n",
    "        all_masks.append(pad_masks)\n",
    "        all_segments.append(segment_ids)\n",
    "    \n",
    "    return np.array(all_tokens), np.array(all_masks), np.array(all_segments)"
   ]
  },
  {
   "cell_type": "code",
   "execution_count": null,
   "metadata": {},
   "outputs": [],
   "source": [
    "def build_model(bert_layer, max_len=512):\n",
    "    input_word_ids = Input(shape=(max_len,), dtype=tf.int32, name=\"input_word_ids\")\n",
    "    input_mask = Input(shape=(max_len,), dtype=tf.int32, name=\"input_mask\")\n",
    "    segment_ids = Input(shape=(max_len,), dtype=tf.int32, name=\"segment_ids\")\n",
    "\n",
    "    _, sequence_output = bert_layer([input_word_ids, input_mask, segment_ids])\n",
    "    clf_output = sequence_output[:, 0, :]\n",
    "    out = Dense(1, activation='sigmoid')(clf_output)\n",
    "    \n",
    "    model = Model(inputs=[input_word_ids, input_mask, segment_ids], outputs=out)\n",
    "    model.compile(Adam(lr=2e-6), loss='binary_crossentropy', metrics=['accuracy'])\n",
    "    \n",
    "    return model"
   ]
  },
  {
   "cell_type": "code",
   "execution_count": null,
   "metadata": {},
   "outputs": [],
   "source": [
    "%%time\n",
    "module_url = \"https://tfhub.dev/tensorflow/bert_en_uncased_L-24_H-1024_A-16/1\"\n",
    "bert_layer = hub.KerasLayer(module_url, trainable=True)"
   ]
  },
  {
   "cell_type": "code",
   "execution_count": null,
   "metadata": {},
   "outputs": [],
   "source": [
    "vocab_file = bert_layer.resolved_object.vocab_file.asset_path.numpy()\n",
    "do_lower_case = bert_layer.resolved_object.do_lower_case.numpy()\n",
    "tokenizer = tokenization.FullTokenizer(vocab_file, do_lower_case)"
   ]
  },
  {
   "cell_type": "code",
   "execution_count": null,
   "metadata": {},
   "outputs": [],
   "source": [
    "train_input = bert_encode(train_df.text.values, tokenizer, max_len=160)\n",
    "test_input = bert_encode(test_df.text.values, tokenizer, max_len=160)\n",
    "train_labels = train_df.target.values"
   ]
  },
  {
   "cell_type": "code",
   "execution_count": null,
   "metadata": {},
   "outputs": [],
   "source": [
    "model = build_model(bert_layer, max_len=160)\n",
    "model.summary()"
   ]
  },
  {
   "cell_type": "code",
   "execution_count": null,
   "metadata": {},
   "outputs": [],
   "source": [
    "train_history = model.fit(train_input, train_labels,\n",
    "                          validation_split=0.2,\n",
    "                          epochs=5)"
   ]
  },
  {
   "cell_type": "code",
   "execution_count": null,
   "metadata": {},
   "outputs": [],
   "source": [
    "test_pred = model.predict(test_input)"
   ]
  },
  {
   "cell_type": "code",
   "execution_count": null,
   "metadata": {},
   "outputs": [],
   "source": [
    "# submission['target'] = test_pred.round().astype(int)\n",
    "# submission.to_csv('disaster_tweet_submission.csv', index=False)"
   ]
  },
  {
   "cell_type": "code",
   "execution_count": null,
   "metadata": {},
   "outputs": [],
   "source": []
  }
 ],
 "metadata": {
  "kernelspec": {
   "display_name": "Python 3",
   "language": "python",
   "name": "python3"
  },
  "language_info": {
   "codemirror_mode": {
    "name": "ipython",
    "version": 3
   },
   "file_extension": ".py",
   "mimetype": "text/x-python",
   "name": "python",
   "nbconvert_exporter": "python",
   "pygments_lexer": "ipython3",
   "version": "3.6.9"
  }
 },
 "nbformat": 4,
 "nbformat_minor": 4
}
